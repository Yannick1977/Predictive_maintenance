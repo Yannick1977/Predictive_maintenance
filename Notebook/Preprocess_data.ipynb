{
 "cells": [
  {
   "cell_type": "markdown",
   "source": [
    "### Import"
   ],
   "metadata": {
    "collapsed": false
   },
   "id": "ec7ced684e37e66d"
  },
  {
   "cell_type": "code",
   "execution_count": 1,
   "id": "initial_id",
   "metadata": {
    "collapsed": true,
    "ExecuteTime": {
     "end_time": "2023-11-16T21:31:09.556387300Z",
     "start_time": "2023-11-16T21:31:09.273589600Z"
    }
   },
   "outputs": [],
   "source": [
    "import pandas as pd\n",
    "from sklearn.preprocessing import OneHotEncoder, StandardScaler\n",
    "from sklearn.compose import ColumnTransformer\n",
    "from sklearn.model_selection import train_test_split\n"
   ]
  },
  {
   "cell_type": "code",
   "execution_count": 2,
   "outputs": [],
   "source": [
    "import warnings\n",
    "\n",
    "warnings.filterwarnings(action='ignore')"
   ],
   "metadata": {
    "collapsed": false,
    "ExecuteTime": {
     "end_time": "2023-11-16T21:31:09.571973200Z",
     "start_time": "2023-11-16T21:31:09.556387300Z"
    }
   },
   "id": "72ad8e45dd79db7c"
  },
  {
   "cell_type": "code",
   "execution_count": 3,
   "outputs": [],
   "source": [
    "FILE_PATH = '../data/predictive_maintenance_A.csv'"
   ],
   "metadata": {
    "collapsed": false,
    "ExecuteTime": {
     "end_time": "2023-11-16T21:31:09.591860400Z",
     "start_time": "2023-11-16T21:31:09.571973200Z"
    }
   },
   "id": "aaf9b08057cf9b5b"
  },
  {
   "cell_type": "markdown",
   "source": [
    "### Read file data"
   ],
   "metadata": {
    "collapsed": false
   },
   "id": "b0ee217cfc755134"
  },
  {
   "cell_type": "code",
   "execution_count": 4,
   "outputs": [
    {
     "data": {
      "text/plain": "    Type  Air temperature [K]  Process temperature [K]  \\\nUDI                                                      \n1      M                298.1                    308.6   \n2      L                298.2                    308.7   \n3      L                298.1                    308.5   \n4      L                298.2                    308.6   \n5      L                298.2                    308.7   \n\n     Rotational speed [rpm]  Torque [Nm]  Tool wear [min]  Target  \\\nUDI                                                                 \n1                      1551         42.8                0       0   \n2                      1408         46.3                3       0   \n3                      1498         49.4                5       0   \n4                      1433         39.5                7       0   \n5                      1408         40.0                9       0   \n\n    Failure Type  Difference temperature [K]    Power  \nUDI                                                    \n1     No Failure                        10.5  66382.8  \n2     No Failure                        10.5  65190.4  \n3     No Failure                        10.4  74001.2  \n4     No Failure                        10.4  56603.5  \n5     No Failure                        10.5  56320.0  ",
      "text/html": "<div>\n<style scoped>\n    .dataframe tbody tr th:only-of-type {\n        vertical-align: middle;\n    }\n\n    .dataframe tbody tr th {\n        vertical-align: top;\n    }\n\n    .dataframe thead th {\n        text-align: right;\n    }\n</style>\n<table border=\"1\" class=\"dataframe\">\n  <thead>\n    <tr style=\"text-align: right;\">\n      <th></th>\n      <th>Type</th>\n      <th>Air temperature [K]</th>\n      <th>Process temperature [K]</th>\n      <th>Rotational speed [rpm]</th>\n      <th>Torque [Nm]</th>\n      <th>Tool wear [min]</th>\n      <th>Target</th>\n      <th>Failure Type</th>\n      <th>Difference temperature [K]</th>\n      <th>Power</th>\n    </tr>\n    <tr>\n      <th>UDI</th>\n      <th></th>\n      <th></th>\n      <th></th>\n      <th></th>\n      <th></th>\n      <th></th>\n      <th></th>\n      <th></th>\n      <th></th>\n      <th></th>\n    </tr>\n  </thead>\n  <tbody>\n    <tr>\n      <th>1</th>\n      <td>M</td>\n      <td>298.1</td>\n      <td>308.6</td>\n      <td>1551</td>\n      <td>42.8</td>\n      <td>0</td>\n      <td>0</td>\n      <td>No Failure</td>\n      <td>10.5</td>\n      <td>66382.8</td>\n    </tr>\n    <tr>\n      <th>2</th>\n      <td>L</td>\n      <td>298.2</td>\n      <td>308.7</td>\n      <td>1408</td>\n      <td>46.3</td>\n      <td>3</td>\n      <td>0</td>\n      <td>No Failure</td>\n      <td>10.5</td>\n      <td>65190.4</td>\n    </tr>\n    <tr>\n      <th>3</th>\n      <td>L</td>\n      <td>298.1</td>\n      <td>308.5</td>\n      <td>1498</td>\n      <td>49.4</td>\n      <td>5</td>\n      <td>0</td>\n      <td>No Failure</td>\n      <td>10.4</td>\n      <td>74001.2</td>\n    </tr>\n    <tr>\n      <th>4</th>\n      <td>L</td>\n      <td>298.2</td>\n      <td>308.6</td>\n      <td>1433</td>\n      <td>39.5</td>\n      <td>7</td>\n      <td>0</td>\n      <td>No Failure</td>\n      <td>10.4</td>\n      <td>56603.5</td>\n    </tr>\n    <tr>\n      <th>5</th>\n      <td>L</td>\n      <td>298.2</td>\n      <td>308.7</td>\n      <td>1408</td>\n      <td>40.0</td>\n      <td>9</td>\n      <td>0</td>\n      <td>No Failure</td>\n      <td>10.5</td>\n      <td>56320.0</td>\n    </tr>\n  </tbody>\n</table>\n</div>"
     },
     "execution_count": 4,
     "metadata": {},
     "output_type": "execute_result"
    }
   ],
   "source": [
    "df = pd.read_csv(FILE_PATH, index_col='UDI')\n",
    "df.head()"
   ],
   "metadata": {
    "collapsed": false,
    "ExecuteTime": {
     "end_time": "2023-11-16T21:31:09.650971400Z",
     "start_time": "2023-11-16T21:31:09.591860400Z"
    }
   },
   "id": "4a08a3db379f1a3a"
  },
  {
   "cell_type": "markdown",
   "source": [
    "Delete rows with 'Random Failures' in type column with target == 0"
   ],
   "metadata": {
    "collapsed": false
   },
   "id": "64fe3ebe7f92d2f1"
  },
  {
   "cell_type": "code",
   "execution_count": 5,
   "outputs": [
    {
     "data": {
      "text/plain": "No Failure         9643\nRandom Failures      18\nName: Failure Type, dtype: int64"
     },
     "execution_count": 5,
     "metadata": {},
     "output_type": "execute_result"
    }
   ],
   "source": [
    "df_tmp = df[df['Target']==0]\n",
    "df_tmp['Failure Type'].value_counts()"
   ],
   "metadata": {
    "collapsed": false,
    "ExecuteTime": {
     "end_time": "2023-11-16T20:58:10.593078300Z",
     "start_time": "2023-11-16T20:58:10.582860100Z"
    }
   },
   "id": "710a4eb23a0a975"
  },
  {
   "cell_type": "code",
   "execution_count": 6,
   "outputs": [],
   "source": [
    "idx = df_tmp[df_tmp['Failure Type'] == 'Random Failures'].index\n",
    "df.drop(index=idx, axis=0, inplace=True)"
   ],
   "metadata": {
    "collapsed": false,
    "ExecuteTime": {
     "end_time": "2023-11-16T20:58:10.640001600Z",
     "start_time": "2023-11-16T20:58:10.593078300Z"
    }
   },
   "id": "dac21dc0faed4dc5"
  },
  {
   "cell_type": "markdown",
   "source": [
    "Delete rows with 'No Failure' in type column with target == 1"
   ],
   "metadata": {
    "collapsed": false
   },
   "id": "1ce90491d6bc2fdc"
  },
  {
   "cell_type": "code",
   "execution_count": 7,
   "outputs": [
    {
     "data": {
      "text/plain": "Heat Dissipation Failure    112\nPower Failure                95\nOverstrain Failure           78\nTool Wear Failure            45\nNo Failure                    9\nName: Failure Type, dtype: int64"
     },
     "execution_count": 7,
     "metadata": {},
     "output_type": "execute_result"
    }
   ],
   "source": [
    "df_tmp = df[df['Target']==1]\n",
    "df_tmp['Failure Type'].value_counts()"
   ],
   "metadata": {
    "collapsed": false,
    "ExecuteTime": {
     "end_time": "2023-11-16T20:58:10.713269900Z",
     "start_time": "2023-11-16T20:58:10.609036900Z"
    }
   },
   "id": "6741fbe980a35ade"
  },
  {
   "cell_type": "code",
   "execution_count": 8,
   "outputs": [],
   "source": [
    "idx = df_tmp[df_tmp['Failure Type']=='No Failure'].index\n",
    "df.drop(index=idx, axis=0, inplace=True)"
   ],
   "metadata": {
    "collapsed": false,
    "ExecuteTime": {
     "end_time": "2023-11-16T20:58:10.775734400Z",
     "start_time": "2023-11-16T20:58:10.624975600Z"
    }
   },
   "id": "31024df3ca985bda"
  },
  {
   "cell_type": "code",
   "execution_count": 9,
   "outputs": [
    {
     "data": {
      "text/plain": "(9973, 10)"
     },
     "execution_count": 9,
     "metadata": {},
     "output_type": "execute_result"
    }
   ],
   "source": [
    "df.shape"
   ],
   "metadata": {
    "collapsed": false,
    "ExecuteTime": {
     "end_time": "2023-11-16T20:58:10.775734400Z",
     "start_time": "2023-11-16T20:58:10.640001600Z"
    }
   },
   "id": "3f97ae5e20939494"
  },
  {
   "cell_type": "markdown",
   "source": [
    "## List of categorical variables\n",
    "Delete the 'Failure Type' variable"
   ],
   "metadata": {
    "collapsed": false
   },
   "id": "e81808dcb94cf380"
  },
  {
   "cell_type": "code",
   "execution_count": 10,
   "outputs": [
    {
     "data": {
      "text/plain": "['Type', 'Target']"
     },
     "execution_count": 10,
     "metadata": {},
     "output_type": "execute_result"
    }
   ],
   "source": [
    "cat_cols = df.select_dtypes(include='O').columns.to_list()\n",
    "cat_cols.remove('Failure Type')\n",
    "cat_cols.append('Target')\n",
    "cat_cols"
   ],
   "metadata": {
    "collapsed": false,
    "ExecuteTime": {
     "end_time": "2023-11-16T21:37:37.938681300Z",
     "start_time": "2023-11-16T21:37:37.918039900Z"
    }
   },
   "id": "bbdab2ea7e58c45b"
  },
  {
   "cell_type": "markdown",
   "source": [
    "## List of numerical variables"
   ],
   "metadata": {
    "collapsed": false
   },
   "id": "605abe70012e8045"
  },
  {
   "cell_type": "code",
   "execution_count": 9,
   "outputs": [
    {
     "data": {
      "text/plain": "['Air temperature [K]',\n 'Process temperature [K]',\n 'Rotational speed [rpm]',\n 'Torque [Nm]',\n 'Tool wear [min]',\n 'Difference temperature [K]',\n 'Power']"
     },
     "execution_count": 9,
     "metadata": {},
     "output_type": "execute_result"
    }
   ],
   "source": [
    "num_cols = df.select_dtypes(exclude='O').columns.to_list()\n",
    "num_cols.remove('Target')\n",
    "num_cols"
   ],
   "metadata": {
    "collapsed": false,
    "ExecuteTime": {
     "end_time": "2023-11-16T21:37:21.135841100Z",
     "start_time": "2023-11-16T21:37:21.125440200Z"
    }
   },
   "id": "b74b65175fcb9e83"
  },
  {
   "cell_type": "markdown",
   "source": [
    "## Preprocessing of variables"
   ],
   "metadata": {
    "collapsed": false
   },
   "id": "36c676bb5bd58f6b"
  },
  {
   "cell_type": "markdown",
   "source": [
    "#### Pipeline creation"
   ],
   "metadata": {
    "collapsed": false
   },
   "id": "2799d6ab8ea5828c"
  },
  {
   "cell_type": "markdown",
   "source": [
    "Define different preprocessing to dataset\n",
    "1. OnehotEncoder process from list of variables in 'cat_cols'\n",
    "2. StandardScaler process from list of variables in 'num_cols'"
   ],
   "metadata": {
    "collapsed": false
   },
   "id": "6170bcbdf16d76b"
  },
  {
   "cell_type": "code",
   "execution_count": 11,
   "outputs": [],
   "source": [
    "ct = ColumnTransformer([\n",
    "    (\"onehot\", OneHotEncoder(), cat_cols),\n",
    "    (\"scale\", StandardScaler(), num_cols)\n",
    "])"
   ],
   "metadata": {
    "collapsed": false,
    "ExecuteTime": {
     "end_time": "2023-11-16T21:37:44.314325200Z",
     "start_time": "2023-11-16T21:37:44.301740700Z"
    }
   },
   "id": "f00f6c2a83254dc6"
  },
  {
   "cell_type": "markdown",
   "source": [
    "Apply preprocess transformer and create dataframe 'df_preprocess' "
   ],
   "metadata": {
    "collapsed": false
   },
   "id": "f568c6d15f72ac6"
  },
  {
   "cell_type": "code",
   "execution_count": 12,
   "outputs": [],
   "source": [
    "df_preprocess = pd.DataFrame(ct.fit_transform(df), columns=ct.get_feature_names_out())\n"
   ],
   "metadata": {
    "collapsed": false,
    "ExecuteTime": {
     "end_time": "2023-11-16T21:37:48.645898400Z",
     "start_time": "2023-11-16T21:37:48.611109200Z"
    }
   },
   "id": "5985aae6c53ca71c"
  },
  {
   "cell_type": "code",
   "execution_count": 13,
   "outputs": [],
   "source": [
    "df_preprocess .to_csv('../data/predictive_maintenance_preprocess.csv')"
   ],
   "metadata": {
    "collapsed": false,
    "ExecuteTime": {
     "end_time": "2023-11-16T21:38:46.822175200Z",
     "start_time": "2023-11-16T21:38:46.695267600Z"
    }
   },
   "id": "d0b6bae0d87af516"
  },
  {
   "cell_type": "markdown",
   "source": [],
   "metadata": {
    "collapsed": false
   },
   "id": "3c0d72ddd19247ce"
  },
  {
   "cell_type": "code",
   "execution_count": 14,
   "outputs": [],
   "source": [],
   "metadata": {
    "collapsed": false,
    "ExecuteTime": {
     "end_time": "2023-11-16T20:58:10.933261500Z",
     "start_time": "2023-11-16T20:58:10.917658400Z"
    }
   },
   "id": "829cfbd8a6094261"
  }
 ],
 "metadata": {
  "kernelspec": {
   "display_name": "Python 3",
   "language": "python",
   "name": "python3"
  },
  "language_info": {
   "codemirror_mode": {
    "name": "ipython",
    "version": 2
   },
   "file_extension": ".py",
   "mimetype": "text/x-python",
   "name": "python",
   "nbconvert_exporter": "python",
   "pygments_lexer": "ipython2",
   "version": "2.7.6"
  }
 },
 "nbformat": 4,
 "nbformat_minor": 5
}
