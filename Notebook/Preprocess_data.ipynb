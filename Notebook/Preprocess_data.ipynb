{
 "cells": [
  {
   "cell_type": "markdown",
   "source": [
    "### Import"
   ],
   "metadata": {
    "collapsed": false
   },
   "id": "ec7ced684e37e66d"
  },
  {
   "cell_type": "code",
   "execution_count": 34,
   "id": "initial_id",
   "metadata": {
    "collapsed": true,
    "ExecuteTime": {
     "end_time": "2023-11-13T21:32:10.815621100Z",
     "start_time": "2023-11-13T21:32:10.704683300Z"
    }
   },
   "outputs": [],
   "source": [
    "import pandas as pd\n",
    "from sklearn.preprocessing import OneHotEncoder, StandardScaler\n",
    "from sklearn.compose import ColumnTransformer\n",
    "from sklearn.model_selection import train_test_split\n"
   ]
  },
  {
   "cell_type": "code",
   "execution_count": 35,
   "outputs": [],
   "source": [
    "import warnings\n",
    "\n",
    "warnings.filterwarnings(action='ignore')"
   ],
   "metadata": {
    "collapsed": false,
    "ExecuteTime": {
     "end_time": "2023-11-13T21:32:10.894759800Z",
     "start_time": "2023-11-13T21:32:10.715972600Z"
    }
   },
   "id": "72ad8e45dd79db7c"
  },
  {
   "cell_type": "code",
   "execution_count": 36,
   "outputs": [],
   "source": [
    "FILE_PATH = '../data/predictive_maintenance_A.csv'"
   ],
   "metadata": {
    "collapsed": false,
    "ExecuteTime": {
     "end_time": "2023-11-13T21:32:10.894759800Z",
     "start_time": "2023-11-13T21:32:10.736060500Z"
    }
   },
   "id": "aaf9b08057cf9b5b"
  },
  {
   "cell_type": "markdown",
   "source": [
    "### Read file data"
   ],
   "metadata": {
    "collapsed": false
   },
   "id": "b0ee217cfc755134"
  },
  {
   "cell_type": "code",
   "execution_count": 37,
   "outputs": [
    {
     "data": {
      "text/plain": "    Type  Air temperature [K]  Process temperature [K]  \\\nUDI                                                      \n1      M                298.1                    308.6   \n2      L                298.2                    308.7   \n3      L                298.1                    308.5   \n4      L                298.2                    308.6   \n5      L                298.2                    308.7   \n\n     Rotational speed [rpm]  Torque [Nm]  Tool wear [min]  Target  \\\nUDI                                                                 \n1                      1551         42.8                0       0   \n2                      1408         46.3                3       0   \n3                      1498         49.4                5       0   \n4                      1433         39.5                7       0   \n5                      1408         40.0                9       0   \n\n    Failure Type  Difference temperature [K]    Power  \nUDI                                                    \n1     No Failure                        10.5  66382.8  \n2     No Failure                        10.5  65190.4  \n3     No Failure                        10.4  74001.2  \n4     No Failure                        10.4  56603.5  \n5     No Failure                        10.5  56320.0  ",
      "text/html": "<div>\n<style scoped>\n    .dataframe tbody tr th:only-of-type {\n        vertical-align: middle;\n    }\n\n    .dataframe tbody tr th {\n        vertical-align: top;\n    }\n\n    .dataframe thead th {\n        text-align: right;\n    }\n</style>\n<table border=\"1\" class=\"dataframe\">\n  <thead>\n    <tr style=\"text-align: right;\">\n      <th></th>\n      <th>Type</th>\n      <th>Air temperature [K]</th>\n      <th>Process temperature [K]</th>\n      <th>Rotational speed [rpm]</th>\n      <th>Torque [Nm]</th>\n      <th>Tool wear [min]</th>\n      <th>Target</th>\n      <th>Failure Type</th>\n      <th>Difference temperature [K]</th>\n      <th>Power</th>\n    </tr>\n    <tr>\n      <th>UDI</th>\n      <th></th>\n      <th></th>\n      <th></th>\n      <th></th>\n      <th></th>\n      <th></th>\n      <th></th>\n      <th></th>\n      <th></th>\n      <th></th>\n    </tr>\n  </thead>\n  <tbody>\n    <tr>\n      <th>1</th>\n      <td>M</td>\n      <td>298.1</td>\n      <td>308.6</td>\n      <td>1551</td>\n      <td>42.8</td>\n      <td>0</td>\n      <td>0</td>\n      <td>No Failure</td>\n      <td>10.5</td>\n      <td>66382.8</td>\n    </tr>\n    <tr>\n      <th>2</th>\n      <td>L</td>\n      <td>298.2</td>\n      <td>308.7</td>\n      <td>1408</td>\n      <td>46.3</td>\n      <td>3</td>\n      <td>0</td>\n      <td>No Failure</td>\n      <td>10.5</td>\n      <td>65190.4</td>\n    </tr>\n    <tr>\n      <th>3</th>\n      <td>L</td>\n      <td>298.1</td>\n      <td>308.5</td>\n      <td>1498</td>\n      <td>49.4</td>\n      <td>5</td>\n      <td>0</td>\n      <td>No Failure</td>\n      <td>10.4</td>\n      <td>74001.2</td>\n    </tr>\n    <tr>\n      <th>4</th>\n      <td>L</td>\n      <td>298.2</td>\n      <td>308.6</td>\n      <td>1433</td>\n      <td>39.5</td>\n      <td>7</td>\n      <td>0</td>\n      <td>No Failure</td>\n      <td>10.4</td>\n      <td>56603.5</td>\n    </tr>\n    <tr>\n      <th>5</th>\n      <td>L</td>\n      <td>298.2</td>\n      <td>308.7</td>\n      <td>1408</td>\n      <td>40.0</td>\n      <td>9</td>\n      <td>0</td>\n      <td>No Failure</td>\n      <td>10.5</td>\n      <td>56320.0</td>\n    </tr>\n  </tbody>\n</table>\n</div>"
     },
     "execution_count": 37,
     "metadata": {},
     "output_type": "execute_result"
    }
   ],
   "source": [
    "df = pd.read_csv(FILE_PATH, index_col='UDI')\n",
    "df.head()"
   ],
   "metadata": {
    "collapsed": false,
    "ExecuteTime": {
     "end_time": "2023-11-13T21:32:10.958229900Z",
     "start_time": "2023-11-13T21:32:10.742574600Z"
    }
   },
   "id": "4a08a3db379f1a3a"
  },
  {
   "cell_type": "markdown",
   "source": [
    "Delete rows with 'Random Failures' in type column with target == 0"
   ],
   "metadata": {
    "collapsed": false
   },
   "id": "64fe3ebe7f92d2f1"
  },
  {
   "cell_type": "code",
   "execution_count": 38,
   "outputs": [
    {
     "data": {
      "text/plain": "No Failure         9643\nRandom Failures      18\nName: Failure Type, dtype: int64"
     },
     "execution_count": 38,
     "metadata": {},
     "output_type": "execute_result"
    }
   ],
   "source": [
    "df_tmp = df[df['Target']==0]\n",
    "df_tmp['Failure Type'].value_counts()"
   ],
   "metadata": {
    "collapsed": false,
    "ExecuteTime": {
     "end_time": "2023-11-13T21:32:10.958229900Z",
     "start_time": "2023-11-13T21:32:10.789854600Z"
    }
   },
   "id": "710a4eb23a0a975"
  },
  {
   "cell_type": "code",
   "execution_count": 39,
   "outputs": [],
   "source": [
    "idx = df_tmp[df_tmp['Failure Type'] == 'Random Failures'].index\n",
    "df.drop(index=idx, axis=0, inplace=True)"
   ],
   "metadata": {
    "collapsed": false,
    "ExecuteTime": {
     "end_time": "2023-11-13T21:32:10.958229900Z",
     "start_time": "2023-11-13T21:32:10.799947500Z"
    }
   },
   "id": "dac21dc0faed4dc5"
  },
  {
   "cell_type": "markdown",
   "source": [
    "Delete rows with 'No Failure' in type column with target == 1"
   ],
   "metadata": {
    "collapsed": false
   },
   "id": "1ce90491d6bc2fdc"
  },
  {
   "cell_type": "code",
   "execution_count": 40,
   "outputs": [
    {
     "data": {
      "text/plain": "Heat Dissipation Failure    112\nPower Failure                95\nOverstrain Failure           78\nTool Wear Failure            45\nNo Failure                    9\nName: Failure Type, dtype: int64"
     },
     "execution_count": 40,
     "metadata": {},
     "output_type": "execute_result"
    }
   ],
   "source": [
    "df_tmp = df[df['Target']==1]\n",
    "df_tmp['Failure Type'].value_counts()"
   ],
   "metadata": {
    "collapsed": false,
    "ExecuteTime": {
     "end_time": "2023-11-13T21:32:10.958229900Z",
     "start_time": "2023-11-13T21:32:10.815621100Z"
    }
   },
   "id": "6741fbe980a35ade"
  },
  {
   "cell_type": "code",
   "execution_count": 41,
   "outputs": [],
   "source": [
    "idx = df_tmp[df_tmp['Failure Type']=='No Failure'].index\n",
    "df.drop(index=idx, axis=0, inplace=True)"
   ],
   "metadata": {
    "collapsed": false,
    "ExecuteTime": {
     "end_time": "2023-11-13T21:32:10.958229900Z",
     "start_time": "2023-11-13T21:32:10.831250500Z"
    }
   },
   "id": "31024df3ca985bda"
  },
  {
   "cell_type": "code",
   "execution_count": 42,
   "outputs": [
    {
     "data": {
      "text/plain": "(9973, 10)"
     },
     "execution_count": 42,
     "metadata": {},
     "output_type": "execute_result"
    }
   ],
   "source": [
    "df.shape"
   ],
   "metadata": {
    "collapsed": false,
    "ExecuteTime": {
     "end_time": "2023-11-13T21:32:10.958229900Z",
     "start_time": "2023-11-13T21:32:10.847219500Z"
    }
   },
   "id": "3f97ae5e20939494"
  },
  {
   "cell_type": "markdown",
   "source": [
    "## List of categorical variables\n",
    "Delete the 'Failure Type' variable"
   ],
   "metadata": {
    "collapsed": false
   },
   "id": "e81808dcb94cf380"
  },
  {
   "cell_type": "code",
   "execution_count": 43,
   "outputs": [
    {
     "data": {
      "text/plain": "['Type']"
     },
     "execution_count": 43,
     "metadata": {},
     "output_type": "execute_result"
    }
   ],
   "source": [
    "cat_cols = df.select_dtypes(include='O').columns.to_list()\n",
    "cat_cols.remove('Failure Type')\n",
    "cat_cols"
   ],
   "metadata": {
    "collapsed": false,
    "ExecuteTime": {
     "end_time": "2023-11-13T21:32:10.958229900Z",
     "start_time": "2023-11-13T21:32:10.863047900Z"
    }
   },
   "id": "bbdab2ea7e58c45b"
  },
  {
   "cell_type": "markdown",
   "source": [
    "## List of numerical variables"
   ],
   "metadata": {
    "collapsed": false
   },
   "id": "605abe70012e8045"
  },
  {
   "cell_type": "code",
   "execution_count": 44,
   "outputs": [
    {
     "data": {
      "text/plain": "['Air temperature [K]',\n 'Process temperature [K]',\n 'Rotational speed [rpm]',\n 'Torque [Nm]',\n 'Tool wear [min]',\n 'Target',\n 'Difference temperature [K]',\n 'Power']"
     },
     "execution_count": 44,
     "metadata": {},
     "output_type": "execute_result"
    }
   ],
   "source": [
    "num_cols = df.select_dtypes(exclude='O').columns.to_list()\n",
    "num_cols"
   ],
   "metadata": {
    "collapsed": false,
    "ExecuteTime": {
     "end_time": "2023-11-13T21:32:10.958229900Z",
     "start_time": "2023-11-13T21:32:10.878830400Z"
    }
   },
   "id": "b74b65175fcb9e83"
  },
  {
   "cell_type": "markdown",
   "source": [
    "## Preprocessing of variables"
   ],
   "metadata": {
    "collapsed": false
   },
   "id": "36c676bb5bd58f6b"
  },
  {
   "cell_type": "markdown",
   "source": [
    "#### Pipeline creation"
   ],
   "metadata": {
    "collapsed": false
   },
   "id": "2799d6ab8ea5828c"
  },
  {
   "cell_type": "markdown",
   "source": [
    "Define different preprocessing to dataset\n",
    "1. OnehotEncoder process from list of variables in 'cat_cols'\n",
    "2. StandardScaler process from list of variables in 'num_cols'"
   ],
   "metadata": {
    "collapsed": false
   },
   "id": "6170bcbdf16d76b"
  },
  {
   "cell_type": "code",
   "execution_count": 45,
   "outputs": [],
   "source": [
    "ct = ColumnTransformer([\n",
    "    (\"onehot\", OneHotEncoder(), cat_cols),\n",
    "    (\"scale\", StandardScaler(), num_cols)\n",
    "])"
   ],
   "metadata": {
    "collapsed": false,
    "ExecuteTime": {
     "end_time": "2023-11-13T21:32:10.958229900Z",
     "start_time": "2023-11-13T21:32:10.894759800Z"
    }
   },
   "id": "f00f6c2a83254dc6"
  },
  {
   "cell_type": "markdown",
   "source": [
    "Apply preprocess transformer and create dataframe 'df_preprocess' "
   ],
   "metadata": {
    "collapsed": false
   },
   "id": "f568c6d15f72ac6"
  },
  {
   "cell_type": "code",
   "execution_count": 46,
   "outputs": [],
   "source": [
    "df_preprocess = pd.DataFrame(ct.fit_transform(df), columns=ct.get_feature_names_out())\n"
   ],
   "metadata": {
    "collapsed": false,
    "ExecuteTime": {
     "end_time": "2023-11-13T21:32:11.044072500Z",
     "start_time": "2023-11-13T21:32:10.910647200Z"
    }
   },
   "id": "5985aae6c53ca71c"
  },
  {
   "cell_type": "markdown",
   "source": [
    "Extract the name of variable of 'Target'"
   ],
   "metadata": {
    "collapsed": false
   },
   "id": "3c0d72ddd19247ce"
  },
  {
   "cell_type": "code",
   "execution_count": 47,
   "outputs": [],
   "source": [
    "name_target_col = list(filter(lambda ligne: 'Target' in ligne, df_preprocess.columns))"
   ],
   "metadata": {
    "collapsed": false,
    "ExecuteTime": {
     "end_time": "2023-11-13T21:32:11.044072500Z",
     "start_time": "2023-11-13T21:32:10.943600600Z"
    }
   },
   "id": "b38f60b01324c752"
  },
  {
   "cell_type": "markdown",
   "source": [
    "Separation of explanatory variables and variables to identify"
   ],
   "metadata": {
    "collapsed": false
   },
   "id": "13bdcf08589a3437"
  },
  {
   "cell_type": "code",
   "execution_count": 48,
   "outputs": [],
   "source": [
    "x = df_preprocess.drop(columns=name_target_col)\n",
    "y = df_preprocess[name_target_col]"
   ],
   "metadata": {
    "collapsed": false,
    "ExecuteTime": {
     "end_time": "2023-11-13T21:32:11.087701900Z",
     "start_time": "2023-11-13T21:32:10.958229900Z"
    }
   },
   "id": "2cacfee0c1f97ba1"
  },
  {
   "cell_type": "code",
   "execution_count": 49,
   "outputs": [],
   "source": [
    "\n",
    "X_train, X_test, y_train, y_test = train_test_split(x, y, test_size=0.2, random_state=1)"
   ],
   "metadata": {
    "collapsed": false,
    "ExecuteTime": {
     "end_time": "2023-11-13T21:32:11.108017100Z",
     "start_time": "2023-11-13T21:32:10.973875300Z"
    }
   },
   "id": "1a7dd5781dc2bfd6"
  },
  {
   "cell_type": "code",
   "execution_count": null,
   "outputs": [],
   "source": [],
   "metadata": {
    "collapsed": false
   },
   "id": "829cfbd8a6094261"
  }
 ],
 "metadata": {
  "kernelspec": {
   "display_name": "Python 3",
   "language": "python",
   "name": "python3"
  },
  "language_info": {
   "codemirror_mode": {
    "name": "ipython",
    "version": 2
   },
   "file_extension": ".py",
   "mimetype": "text/x-python",
   "name": "python",
   "nbconvert_exporter": "python",
   "pygments_lexer": "ipython2",
   "version": "2.7.6"
  }
 },
 "nbformat": 4,
 "nbformat_minor": 5
}
