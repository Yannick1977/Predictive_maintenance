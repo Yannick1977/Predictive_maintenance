{
 "cells": [
  {
   "cell_type": "markdown",
   "id": "797c827a2185cfc3",
   "metadata": {},
   "source": [
    "### Import"
   ]
  },
  {
   "cell_type": "code",
   "execution_count": 1,
   "id": "38f5dc17",
   "metadata": {},
   "outputs": [],
   "source": [
    "import sys\n",
    "sys.path.insert(0, '../Src/')"
   ]
  },
  {
   "cell_type": "code",
   "execution_count": 2,
   "id": "initial_id",
   "metadata": {
    "ExecuteTime": {
     "end_time": "2023-11-27T21:20:16.123150200Z",
     "start_time": "2023-11-27T21:20:16.113491700Z"
    },
    "tags": []
   },
   "outputs": [
    {
     "name": "stdout",
     "output_type": "stream",
     "text": [
      "WARNING:tensorflow:From c:\\Users\\yanni\\anaconda3\\envs\\Predictive_maintenance_project\\lib\\site-packages\\keras\\src\\losses.py:2976: The name tf.losses.sparse_softmax_cross_entropy is deprecated. Please use tf.compat.v1.losses.sparse_softmax_cross_entropy instead.\n",
      "\n"
     ]
    }
   ],
   "source": [
    "import pandas as pd\n",
    "import numpy as np\n",
    "import matplotlib.pyplot as plt\n",
    "import seaborn as sns\n",
    "import json\n",
    "import tensorflow as tf\n",
    "from tensorflow import keras\n",
    "from sklearn.model_selection import train_test_split\n",
    "from sklearn.metrics import cohen_kappa_score\n",
    "from keras.models import Sequential\n",
    "from keras.layers import Dense, Dropout, Input\n",
    "from keras.losses import CategoricalCrossentropy\n",
    "from keras.callbacks import ModelCheckpoint, EarlyStopping, ReduceLROnPlateau\n",
    "from keras.regularizers import l2, l1\n",
    "from keras.metrics import Accuracy, SparseCategoricalAccuracy, CategoricalAccuracy, AUC, \\\n",
    "    PrecisionAtRecall, Recall, Precision, F1Score\n",
    "\n",
    "from Model_maintenance import modelMaintenance"
   ]
  },
  {
   "cell_type": "markdown",
   "id": "29545283ceb21211",
   "metadata": {
    "collapsed": false
   },
   "source": [
    "### Load data"
   ]
  },
  {
   "cell_type": "markdown",
   "id": "114ad75f",
   "metadata": {},
   "source": [
    "Load dataframe"
   ]
  },
  {
   "cell_type": "code",
   "execution_count": 3,
   "id": "8d36cfbdd3bd4132",
   "metadata": {
    "ExecuteTime": {
     "end_time": "2023-11-27T21:20:16.168939500Z",
     "start_time": "2023-11-27T21:20:16.123150200Z"
    },
    "tags": []
   },
   "outputs": [],
   "source": [
    "df_train = pd.read_csv('..\\data\\predictive_maintenance_train_resampled.csv')\n",
    "df_test = pd.read_csv('..\\data\\predictive_maintenance_test_resampled.csv')\n",
    "df_val = pd.read_csv('..\\data\\predictive_maintenance_validation.csv')"
   ]
  },
  {
   "cell_type": "markdown",
   "id": "f0b0cbe2684dc391",
   "metadata": {},
   "source": [
    "Extract the name of variable of 'Target'"
   ]
  },
  {
   "cell_type": "code",
   "execution_count": 4,
   "id": "ae6048fcef101c87",
   "metadata": {
    "ExecuteTime": {
     "end_time": "2023-11-27T21:20:16.168939500Z",
     "start_time": "2023-11-27T21:20:16.163430700Z"
    },
    "tags": []
   },
   "outputs": [
    {
     "data": {
      "text/plain": [
       "['No Failure', 'With_Failure']"
      ]
     },
     "execution_count": 4,
     "metadata": {},
     "output_type": "execute_result"
    }
   ],
   "source": [
    "name_target_col = list(filter(lambda ligne: 'Failure' in ligne, df_train.columns))\n",
    "name_target_col"
   ]
  },
  {
   "cell_type": "markdown",
   "id": "7fcf713be139aec9",
   "metadata": {},
   "source": [
    "Split to train and test data\n",
    "Separation of explanatory variables and variables to identify"
   ]
  },
  {
   "cell_type": "code",
   "execution_count": 5,
   "id": "79b3d41809f7d43f",
   "metadata": {
    "ExecuteTime": {
     "end_time": "2023-11-27T21:56:21.289830300Z",
     "start_time": "2023-11-27T21:56:21.254873900Z"
    },
    "tags": []
   },
   "outputs": [],
   "source": [
    "X_train = df_train.drop(columns=name_target_col)\n",
    "y_train = df_train[name_target_col]\n",
    "X_test = df_test.drop(columns=name_target_col)\n",
    "y_test = df_test[name_target_col]\n",
    "X_val = df_val.drop(columns=name_target_col)\n",
    "y_val = df_val[name_target_col]"
   ]
  },
  {
   "cell_type": "code",
   "execution_count": 6,
   "id": "2c57836bbfc832e6",
   "metadata": {
    "ExecuteTime": {
     "end_time": "2023-11-27T21:20:16.870545400Z",
     "start_time": "2023-11-27T21:20:16.846266100Z"
    }
   },
   "outputs": [],
   "source": [
    "num_features = X_train.shape[1] # Nombre de variables explicatives\n",
    "num_target = y_train.shape[1]   # Nombre de variables cibles"
   ]
  },
  {
   "cell_type": "code",
   "execution_count": 7,
   "id": "75b82786074c0065",
   "metadata": {
    "ExecuteTime": {
     "end_time": "2023-11-27T21:20:47.242315100Z",
     "start_time": "2023-11-27T21:20:47.199883900Z"
    }
   },
   "outputs": [
    {
     "name": "stdout",
     "output_type": "stream",
     "text": [
      "WARNING:tensorflow:From c:\\Users\\yanni\\anaconda3\\envs\\Predictive_maintenance_project\\lib\\site-packages\\keras\\src\\backend.py:277: The name tf.reset_default_graph is deprecated. Please use tf.compat.v1.reset_default_graph instead.\n",
      "\n"
     ]
    }
   ],
   "source": [
    "\n",
    "keras.backend.clear_session()\n"
   ]
  },
  {
   "cell_type": "markdown",
   "id": "c3807b389bf46869",
   "metadata": {
    "collapsed": false
   },
   "source": [
    "### Create model"
   ]
  },
  {
   "cell_type": "code",
   "execution_count": 8,
   "id": "b20c7c29",
   "metadata": {},
   "outputs": [
    {
     "name": "stdout",
     "output_type": "stream",
     "text": [
      "WARNING:tensorflow:From c:\\Users\\yanni\\anaconda3\\envs\\Predictive_maintenance_project\\lib\\site-packages\\keras\\src\\optimizers\\__init__.py:309: The name tf.train.Optimizer is deprecated. Please use tf.compat.v1.train.Optimizer instead.\n",
      "\n"
     ]
    }
   ],
   "source": [
    "\n",
    "\n",
    "model = modelMaintenance(\n",
    "    num_layers=5, \n",
    "    num_input=num_features, \n",
    "    num_output=num_target,\n",
    "    loss=CategoricalCrossentropy(),\n",
    "    optimizer='adam',#Adam(5e-4),\n",
    "    metrics=[CategoricalAccuracy(), Precision(), Recall()])#,AUC(), F1Score()])"
   ]
  },
  {
   "cell_type": "code",
   "execution_count": null,
   "id": "7db65a7c",
   "metadata": {},
   "outputs": [],
   "source": [
    "model.plot_model()"
   ]
  },
  {
   "cell_type": "markdown",
   "id": "9e16e296",
   "metadata": {},
   "source": [
    "### Training Model"
   ]
  },
  {
   "cell_type": "code",
   "execution_count": 9,
   "id": "fcfab3bc",
   "metadata": {},
   "outputs": [
    {
     "name": "stdout",
     "output_type": "stream",
     "text": [
      "Epoch 1/100\n",
      "WARNING:tensorflow:From c:\\Users\\yanni\\anaconda3\\envs\\Predictive_maintenance_project\\lib\\site-packages\\keras\\src\\utils\\tf_utils.py:492: The name tf.ragged.RaggedTensorValue is deprecated. Please use tf.compat.v1.ragged.RaggedTensorValue instead.\n",
      "\n",
      "25/25 [==============================] - 3s 89ms/step - loss: 0.5997 - categorical_accuracy: 0.5852 - precision: 0.5851 - recall: 0.5849 - val_loss: 0.6095 - val_categorical_accuracy: 0.7268 - val_precision: 0.7268 - val_recall: 0.7268 - lr: 0.0010\n",
      "Epoch 2/100\n",
      " 2/25 [=>............................] - ETA: 1s - loss: 0.4307 - categorical_accuracy: 0.7031 - precision: 0.7031 - recall: 0.7031"
     ]
    },
    {
     "name": "stderr",
     "output_type": "stream",
     "text": [
      "c:\\Users\\yanni\\anaconda3\\envs\\Predictive_maintenance_project\\lib\\site-packages\\keras\\src\\engine\\training.py:3103: UserWarning: You are saving your model as an HDF5 file via `model.save()`. This file format is considered legacy. We recommend using instead the native Keras format, e.g. `model.save('my_model.keras')`.\n",
      "  saving_api.save_model(\n"
     ]
    },
    {
     "name": "stdout",
     "output_type": "stream",
     "text": [
      "25/25 [==============================] - 2s 77ms/step - loss: 0.4473 - categorical_accuracy: 0.7842 - precision: 0.7842 - recall: 0.7842 - val_loss: 0.5307 - val_categorical_accuracy: 0.7469 - val_precision: 0.7469 - val_recall: 0.7469 - lr: 0.0010\n",
      "Epoch 3/100\n",
      "25/25 [==============================] - 2s 91ms/step - loss: 0.4079 - categorical_accuracy: 0.8231 - precision: 0.8231 - recall: 0.8231 - val_loss: 0.4695 - val_categorical_accuracy: 0.7707 - val_precision: 0.7707 - val_recall: 0.7707 - lr: 0.0010\n",
      "Epoch 4/100\n",
      "25/25 [==============================] - 2s 78ms/step - loss: 0.3582 - categorical_accuracy: 0.8159 - precision: 0.8159 - recall: 0.8159 - val_loss: 0.2917 - val_categorical_accuracy: 0.8534 - val_precision: 0.8534 - val_recall: 0.8534 - lr: 0.0010\n",
      "Epoch 5/100\n",
      "25/25 [==============================] - 2s 84ms/step - loss: 0.3294 - categorical_accuracy: 0.8359 - precision: 0.8359 - recall: 0.8359 - val_loss: 0.3129 - val_categorical_accuracy: 0.8465 - val_precision: 0.8465 - val_recall: 0.8465 - lr: 0.0010\n",
      "Epoch 6/100\n",
      "25/25 [==============================] - 2s 81ms/step - loss: 0.2915 - categorical_accuracy: 0.8526 - precision: 0.8526 - recall: 0.8526 - val_loss: 0.2833 - val_categorical_accuracy: 0.8697 - val_precision: 0.8697 - val_recall: 0.8697 - lr: 0.0010\n",
      "Epoch 7/100\n",
      "25/25 [==============================] - 2s 88ms/step - loss: 0.2718 - categorical_accuracy: 0.8624 - precision: 0.8624 - recall: 0.8624 - val_loss: 0.1889 - val_categorical_accuracy: 0.9079 - val_precision: 0.9079 - val_recall: 0.9079 - lr: 0.0010\n",
      "Epoch 8/100\n",
      "25/25 [==============================] - 2s 79ms/step - loss: 0.2327 - categorical_accuracy: 0.8878 - precision: 0.8878 - recall: 0.8878 - val_loss: 0.2544 - val_categorical_accuracy: 0.8709 - val_precision: 0.8709 - val_recall: 0.8709 - lr: 0.0010\n",
      "Epoch 9/100\n",
      "25/25 [==============================] - 2s 75ms/step - loss: 0.2583 - categorical_accuracy: 0.8746 - precision: 0.8746 - recall: 0.8746 - val_loss: 0.2244 - val_categorical_accuracy: 0.8929 - val_precision: 0.8929 - val_recall: 0.8929 - lr: 0.0010\n",
      "Epoch 10/100\n",
      "25/25 [==============================] - 2s 93ms/step - loss: 0.2263 - categorical_accuracy: 0.8842 - precision: 0.8842 - recall: 0.8842 - val_loss: 0.2449 - val_categorical_accuracy: 0.8684 - val_precision: 0.8684 - val_recall: 0.8684 - lr: 0.0010\n"
     ]
    }
   ],
   "source": [
    "model.train(X_train.to_numpy(), y_train.to_numpy(), X_test.to_numpy(), y_test.to_numpy(), batch_size=256, epochs=100, verbose=1)"
   ]
  },
  {
   "cell_type": "code",
   "execution_count": null,
   "id": "33faf285",
   "metadata": {},
   "outputs": [],
   "source": [
    "model.plot_history()"
   ]
  },
  {
   "cell_type": "code",
   "execution_count": 11,
   "id": "f2e98d7b",
   "metadata": {},
   "outputs": [
    {
     "name": "stdout",
     "output_type": "stream",
     "text": [
      "50/50 [==============================] - 0s 7ms/step\n",
      "Confusion matrix, without normalization\n",
      "[[1336  207]\n",
      " [   3   50]]\n"
     ]
    },
    {
     "data": {
      "image/png": "[encoded data removed]",
      "text/plain": [
       "<Figure size 640x480 with 2 Axes>"
      ]
     },
     "metadata": {},
     "output_type": "display_data"
    }
   ],
   "source": [
    "y_pred_test = model.predict(X_test.to_numpy())\n",
    "model.plot_confusion_matrix(y_test.to_numpy().argmax(axis=1), y_pred_test.argmax(axis=1), name_target_col)"
   ]
  },
  {
   "cell_type": "code",
   "execution_count": 10,
   "id": "9a807204",
   "metadata": {},
   "outputs": [
    {
     "name": "stdout",
     "output_type": "stream",
     "text": [
      "63/63 [==============================] - 0s 6ms/step\n",
      "Confusion matrix, without normalization\n",
      "[[1668  261]\n",
      " [   4   62]]\n"
     ]
    },
    {
     "data": {
      "image/png": "[encoded data removed]",
      "text/plain": [
       "<Figure size 640x480 with 2 Axes>"
      ]
     },
     "metadata": {},
     "output_type": "display_data"
    }
   ],
   "source": [
    "y_pred_val = model.predict(X_val.to_numpy())\n",
    "model.plot_confusion_matrix(y_val.to_numpy().argmax(axis=1), y_pred_val.argmax(axis=1), name_target_col)"
   ]
  },
  {
   "cell_type": "code",
   "execution_count": 13,
   "id": "87c5ba5d",
   "metadata": {},
   "outputs": [
    {
     "name": "stdout",
     "output_type": "stream",
     "text": [
      "63/63 - 1s - loss: 0.2476 - categorical_accuracy: 0.8672 - precision: 0.8672 - recall: 0.8672 - 1s/epoch - 23ms/step\n"
     ]
    }
   ],
   "source": [
    "res, score_details = model.print_evaluation(X_val.to_numpy(), y_val.to_numpy(), y_pred_val>0.5, verbose=0)\n"
   ]
  },
  {
   "cell_type": "code",
   "execution_count": 14,
   "id": "75887b04",
   "metadata": {},
   "outputs": [
    {
     "data": {
      "text/html": [
       "<div>\n",
       "<style scoped>\n",
       "    .dataframe tbody tr th:only-of-type {\n",
       "        vertical-align: middle;\n",
       "    }\n",
       "\n",
       "    .dataframe tbody tr th {\n",
       "        vertical-align: top;\n",
       "    }\n",
       "\n",
       "    .dataframe thead th {\n",
       "        text-align: right;\n",
       "    }\n",
       "</style>\n",
       "<table border=\"1\" class=\"dataframe\">\n",
       "  <thead>\n",
       "    <tr style=\"text-align: right;\">\n",
       "      <th></th>\n",
       "      <th>loss</th>\n",
       "      <th>categorical_accuracy</th>\n",
       "      <th>precision</th>\n",
       "      <th>recall</th>\n",
       "      <th>kappa</th>\n",
       "      <th>F1_score</th>\n",
       "    </tr>\n",
       "  </thead>\n",
       "  <tbody>\n",
       "    <tr>\n",
       "      <th>0</th>\n",
       "      <td>0.247644</td>\n",
       "      <td>0.867168</td>\n",
       "      <td>0.867168</td>\n",
       "      <td>0.867168</td>\n",
       "      <td>0.734336</td>\n",
       "      <td>0.867168</td>\n",
       "    </tr>\n",
       "  </tbody>\n",
       "</table>\n",
       "</div>"
      ],
      "text/plain": [
       "       loss  categorical_accuracy  precision    recall     kappa  F1_score\n",
       "0  0.247644              0.867168   0.867168  0.867168  0.734336  0.867168"
      ]
     },
     "execution_count": 14,
     "metadata": {},
     "output_type": "execute_result"
    }
   ],
   "source": [
    "\n",
    "df_score = pd.DataFrame()\n",
    "df_score = pd.concat([df_score, pd.DataFrame(score_details, index=[0])], axis=0)\n",
    "df_score"
   ]
  },
  {
   "cell_type": "markdown",
   "id": "1aca3b7d",
   "metadata": {},
   "source": [
    "### Training multiple model"
   ]
  },
  {
   "cell_type": "code",
   "execution_count": 15,
   "id": "01208753",
   "metadata": {},
   "outputs": [
    {
     "name": "stderr",
     "output_type": "stream",
     "text": [
      "c:\\Users\\yanni\\anaconda3\\envs\\Predictive_maintenance_project\\lib\\site-packages\\keras\\src\\engine\\training.py:3103: UserWarning: You are saving your model as an HDF5 file via `model.save()`. This file format is considered legacy. We recommend using instead the native Keras format, e.g. `model.save('my_model.keras')`.\n",
      "  saving_api.save_model(\n"
     ]
    },
    {
     "name": "stdout",
     "output_type": "stream",
     "text": [
      "63/63 [==============================] - 0s 3ms/step\n",
      "Nombre de couches :  1\n",
      "63/63 - 2s - loss: 0.3291 - categorical_accuracy: 0.8662 - auc: 0.9356 - precision: 0.8662 - recall: 0.8662 - 2s/epoch - 25ms/step\n",
      "\n"
     ]
    },
    {
     "name": "stderr",
     "output_type": "stream",
     "text": [
      "c:\\Users\\yanni\\anaconda3\\envs\\Predictive_maintenance_project\\lib\\site-packages\\keras\\src\\engine\\training.py:3103: UserWarning: You are saving your model as an HDF5 file via `model.save()`. This file format is considered legacy. We recommend using instead the native Keras format, e.g. `model.save('my_model.keras')`.\n",
      "  saving_api.save_model(\n"
     ]
    },
    {
     "name": "stdout",
     "output_type": "stream",
     "text": [
      "63/63 [==============================] - 0s 3ms/step\n",
      "Nombre de couches :  2\n",
      "63/63 - 1s - loss: 0.3146 - categorical_accuracy: 0.8677 - auc: 0.9390 - precision: 0.8677 - recall: 0.8677 - 1s/epoch - 23ms/step\n",
      "\n"
     ]
    },
    {
     "name": "stderr",
     "output_type": "stream",
     "text": [
      "c:\\Users\\yanni\\anaconda3\\envs\\Predictive_maintenance_project\\lib\\site-packages\\keras\\src\\engine\\training.py:3103: UserWarning: You are saving your model as an HDF5 file via `model.save()`. This file format is considered legacy. We recommend using instead the native Keras format, e.g. `model.save('my_model.keras')`.\n",
      "  saving_api.save_model(\n"
     ]
    },
    {
     "name": "stdout",
     "output_type": "stream",
     "text": [
      "63/63 [==============================] - 0s 4ms/step\n",
      "Nombre de couches :  3\n",
      "63/63 - 2s - loss: 0.2668 - categorical_accuracy: 0.8752 - auc: 0.9564 - precision: 0.8752 - recall: 0.8752 - 2s/epoch - 27ms/step\n",
      "\n"
     ]
    },
    {
     "name": "stderr",
     "output_type": "stream",
     "text": [
      "c:\\Users\\yanni\\anaconda3\\envs\\Predictive_maintenance_project\\lib\\site-packages\\keras\\src\\engine\\training.py:3103: UserWarning: You are saving your model as an HDF5 file via `model.save()`. This file format is considered legacy. We recommend using instead the native Keras format, e.g. `model.save('my_model.keras')`.\n",
      "  saving_api.save_model(\n"
     ]
    },
    {
     "name": "stdout",
     "output_type": "stream",
     "text": [
      "63/63 [==============================] - 0s 5ms/step\n",
      "Nombre de couches :  4\n",
      "63/63 - 2s - loss: 0.1766 - categorical_accuracy: 0.9078 - auc: 0.9810 - precision: 0.9078 - recall: 0.9078 - 2s/epoch - 29ms/step\n",
      "\n"
     ]
    },
    {
     "name": "stderr",
     "output_type": "stream",
     "text": [
      "c:\\Users\\yanni\\anaconda3\\envs\\Predictive_maintenance_project\\lib\\site-packages\\keras\\src\\engine\\training.py:3103: UserWarning: You are saving your model as an HDF5 file via `model.save()`. This file format is considered legacy. We recommend using instead the native Keras format, e.g. `model.save('my_model.keras')`.\n",
      "  saving_api.save_model(\n"
     ]
    },
    {
     "name": "stdout",
     "output_type": "stream",
     "text": [
      "63/63 [==============================] - 0s 6ms/step\n",
      "Nombre de couches :  5\n",
      "63/63 - 2s - loss: 0.1703 - categorical_accuracy: 0.9103 - auc: 0.9843 - precision: 0.9103 - recall: 0.9103 - 2s/epoch - 29ms/step\n",
      "\n"
     ]
    },
    {
     "name": "stderr",
     "output_type": "stream",
     "text": [
      "c:\\Users\\yanni\\anaconda3\\envs\\Predictive_maintenance_project\\lib\\site-packages\\keras\\src\\engine\\training.py:3103: UserWarning: You are saving your model as an HDF5 file via `model.save()`. This file format is considered legacy. We recommend using instead the native Keras format, e.g. `model.save('my_model.keras')`.\n",
      "  saving_api.save_model(\n"
     ]
    },
    {
     "name": "stdout",
     "output_type": "stream",
     "text": [
      "63/63 [==============================] - 0s 6ms/step\n",
      "Nombre de couches :  6\n",
      "63/63 - 2s - loss: 0.2689 - categorical_accuracy: 0.8451 - auc: 0.9566 - precision: 0.8451 - recall: 0.8451 - 2s/epoch - 29ms/step\n",
      "\n"
     ]
    },
    {
     "name": "stderr",
     "output_type": "stream",
     "text": [
      "c:\\Users\\yanni\\anaconda3\\envs\\Predictive_maintenance_project\\lib\\site-packages\\keras\\src\\engine\\training.py:3103: UserWarning: You are saving your model as an HDF5 file via `model.save()`. This file format is considered legacy. We recommend using instead the native Keras format, e.g. `model.save('my_model.keras')`.\n",
      "  saving_api.save_model(\n"
     ]
    },
    {
     "name": "stdout",
     "output_type": "stream",
     "text": [
      "63/63 [==============================] - 1s 8ms/step\n",
      "Nombre de couches :  7\n",
      "63/63 - 2s - loss: 0.2650 - categorical_accuracy: 0.8566 - auc: 0.9576 - precision: 0.8566 - recall: 0.8566 - 2s/epoch - 29ms/step\n",
      "\n"
     ]
    }
   ],
   "source": [
    "score = {}\n",
    "df_score = pd.DataFrame()\n",
    "\n",
    "for i in range(1,8,1):\n",
    "\n",
    "    keras.backend.clear_session()\n",
    "    \n",
    "    model = modelMaintenance(\n",
    "        num_layers=i, \n",
    "        num_input=num_features, \n",
    "        num_output=num_target,\n",
    "        loss=CategoricalCrossentropy(),\n",
    "        optimizer='adam',#Adam(5e-4),\n",
    "        metrics=[CategoricalAccuracy(), AUC(),  Precision(), Recall()])\n",
    "    \n",
    "    model.train(X_train.to_numpy(), y_train.to_numpy(), X_test.to_numpy(), y_test.to_numpy(), batch_size=256, epochs=100, verbose=0)\n",
    "\n",
    "    y_pred_val = model.predict(X_val.to_numpy())\n",
    "\n",
    "    print('Nombre de couches : ', i)\n",
    "    score[i], score_details = model.print_evaluation(X_val.to_numpy(), y_val.to_numpy(), y_pred_val>0.5, verbose=0)\n",
    "    \n",
    "    df_score = pd.concat([df_score, pd.DataFrame(score_details, index=[i])], axis=0)\n",
    "    print('')\n",
    "\n",
    "    "
   ]
  },
  {
   "cell_type": "code",
   "execution_count": 16,
   "id": "451e446f",
   "metadata": {},
   "outputs": [
    {
     "data": {
      "text/plain": [
       "Index(['categorical_accuracy', 'auc', 'precision', 'recall', 'kappa',\n",
       "       'F1_score'],\n",
       "      dtype='object')"
      ]
     },
     "execution_count": 16,
     "metadata": {},
     "output_type": "execute_result"
    }
   ],
   "source": [
    "df_score.columns.drop('loss')"
   ]
  },
  {
   "cell_type": "code",
   "execution_count": 17,
   "id": "c7b0a2f4",
   "metadata": {},
   "outputs": [
    {
     "data": {
      "text/html": [
       "<style type=\"text/css\">\n",
       "#T_89455_row4_col0 {\n",
       "  background-color: green;\n",
       "}\n",
       "#T_89455_row4_col1, #T_89455_row4_col2, #T_89455_row4_col3, #T_89455_row4_col4, #T_89455_row4_col5, #T_89455_row4_col6 {\n",
       "  background-color: blue;\n",
       "}\n",
       "</style>\n",
       "<table id=\"T_89455\">\n",
       "  <thead>\n",
       "    <tr>\n",
       "      <th class=\"blank level0\" >&nbsp;</th>\n",
       "      <th id=\"T_89455_level0_col0\" class=\"col_heading level0 col0\" >loss</th>\n",
       "      <th id=\"T_89455_level0_col1\" class=\"col_heading level0 col1\" >categorical_accuracy</th>\n",
       "      <th id=\"T_89455_level0_col2\" class=\"col_heading level0 col2\" >auc</th>\n",
       "      <th id=\"T_89455_level0_col3\" class=\"col_heading level0 col3\" >precision</th>\n",
       "      <th id=\"T_89455_level0_col4\" class=\"col_heading level0 col4\" >recall</th>\n",
       "      <th id=\"T_89455_level0_col5\" class=\"col_heading level0 col5\" >kappa</th>\n",
       "      <th id=\"T_89455_level0_col6\" class=\"col_heading level0 col6\" >F1_score</th>\n",
       "    </tr>\n",
       "  </thead>\n",
       "  <tbody>\n",
       "    <tr>\n",
       "      <th id=\"T_89455_level0_row0\" class=\"row_heading level0 row0\" >1</th>\n",
       "      <td id=\"T_89455_row0_col0\" class=\"data row0 col0\" >0.329066</td>\n",
       "      <td id=\"T_89455_row0_col1\" class=\"data row0 col1\" >0.866165</td>\n",
       "      <td id=\"T_89455_row0_col2\" class=\"data row0 col2\" >0.935632</td>\n",
       "      <td id=\"T_89455_row0_col3\" class=\"data row0 col3\" >0.866165</td>\n",
       "      <td id=\"T_89455_row0_col4\" class=\"data row0 col4\" >0.866165</td>\n",
       "      <td id=\"T_89455_row0_col5\" class=\"data row0 col5\" >0.732331</td>\n",
       "      <td id=\"T_89455_row0_col6\" class=\"data row0 col6\" >0.866165</td>\n",
       "    </tr>\n",
       "    <tr>\n",
       "      <th id=\"T_89455_level0_row1\" class=\"row_heading level0 row1\" >2</th>\n",
       "      <td id=\"T_89455_row1_col0\" class=\"data row1 col0\" >0.314604</td>\n",
       "      <td id=\"T_89455_row1_col1\" class=\"data row1 col1\" >0.867669</td>\n",
       "      <td id=\"T_89455_row1_col2\" class=\"data row1 col2\" >0.939008</td>\n",
       "      <td id=\"T_89455_row1_col3\" class=\"data row1 col3\" >0.867669</td>\n",
       "      <td id=\"T_89455_row1_col4\" class=\"data row1 col4\" >0.867669</td>\n",
       "      <td id=\"T_89455_row1_col5\" class=\"data row1 col5\" >0.735338</td>\n",
       "      <td id=\"T_89455_row1_col6\" class=\"data row1 col6\" >0.867669</td>\n",
       "    </tr>\n",
       "    <tr>\n",
       "      <th id=\"T_89455_level0_row2\" class=\"row_heading level0 row2\" >3</th>\n",
       "      <td id=\"T_89455_row2_col0\" class=\"data row2 col0\" >0.266841</td>\n",
       "      <td id=\"T_89455_row2_col1\" class=\"data row2 col1\" >0.875188</td>\n",
       "      <td id=\"T_89455_row2_col2\" class=\"data row2 col2\" >0.956359</td>\n",
       "      <td id=\"T_89455_row2_col3\" class=\"data row2 col3\" >0.875188</td>\n",
       "      <td id=\"T_89455_row2_col4\" class=\"data row2 col4\" >0.875188</td>\n",
       "      <td id=\"T_89455_row2_col5\" class=\"data row2 col5\" >0.750376</td>\n",
       "      <td id=\"T_89455_row2_col6\" class=\"data row2 col6\" >0.875188</td>\n",
       "    </tr>\n",
       "    <tr>\n",
       "      <th id=\"T_89455_level0_row3\" class=\"row_heading level0 row3\" >4</th>\n",
       "      <td id=\"T_89455_row3_col0\" class=\"data row3 col0\" >0.176553</td>\n",
       "      <td id=\"T_89455_row3_col1\" class=\"data row3 col1\" >0.907769</td>\n",
       "      <td id=\"T_89455_row3_col2\" class=\"data row3 col2\" >0.980981</td>\n",
       "      <td id=\"T_89455_row3_col3\" class=\"data row3 col3\" >0.907769</td>\n",
       "      <td id=\"T_89455_row3_col4\" class=\"data row3 col4\" >0.907769</td>\n",
       "      <td id=\"T_89455_row3_col5\" class=\"data row3 col5\" >0.815539</td>\n",
       "      <td id=\"T_89455_row3_col6\" class=\"data row3 col6\" >0.907769</td>\n",
       "    </tr>\n",
       "    <tr>\n",
       "      <th id=\"T_89455_level0_row4\" class=\"row_heading level0 row4\" >5</th>\n",
       "      <td id=\"T_89455_row4_col0\" class=\"data row4 col0\" >0.170327</td>\n",
       "      <td id=\"T_89455_row4_col1\" class=\"data row4 col1\" >0.910276</td>\n",
       "      <td id=\"T_89455_row4_col2\" class=\"data row4 col2\" >0.984346</td>\n",
       "      <td id=\"T_89455_row4_col3\" class=\"data row4 col3\" >0.910276</td>\n",
       "      <td id=\"T_89455_row4_col4\" class=\"data row4 col4\" >0.910276</td>\n",
       "      <td id=\"T_89455_row4_col5\" class=\"data row4 col5\" >0.820551</td>\n",
       "      <td id=\"T_89455_row4_col6\" class=\"data row4 col6\" >0.910276</td>\n",
       "    </tr>\n",
       "    <tr>\n",
       "      <th id=\"T_89455_level0_row5\" class=\"row_heading level0 row5\" >6</th>\n",
       "      <td id=\"T_89455_row5_col0\" class=\"data row5 col0\" >0.268867</td>\n",
       "      <td id=\"T_89455_row5_col1\" class=\"data row5 col1\" >0.845113</td>\n",
       "      <td id=\"T_89455_row5_col2\" class=\"data row5 col2\" >0.956624</td>\n",
       "      <td id=\"T_89455_row5_col3\" class=\"data row5 col3\" >0.845113</td>\n",
       "      <td id=\"T_89455_row5_col4\" class=\"data row5 col4\" >0.845113</td>\n",
       "      <td id=\"T_89455_row5_col5\" class=\"data row5 col5\" >0.690226</td>\n",
       "      <td id=\"T_89455_row5_col6\" class=\"data row5 col6\" >0.845113</td>\n",
       "    </tr>\n",
       "    <tr>\n",
       "      <th id=\"T_89455_level0_row6\" class=\"row_heading level0 row6\" >7</th>\n",
       "      <td id=\"T_89455_row6_col0\" class=\"data row6 col0\" >0.264954</td>\n",
       "      <td id=\"T_89455_row6_col1\" class=\"data row6 col1\" >0.856642</td>\n",
       "      <td id=\"T_89455_row6_col2\" class=\"data row6 col2\" >0.957636</td>\n",
       "      <td id=\"T_89455_row6_col3\" class=\"data row6 col3\" >0.856642</td>\n",
       "      <td id=\"T_89455_row6_col4\" class=\"data row6 col4\" >0.856642</td>\n",
       "      <td id=\"T_89455_row6_col5\" class=\"data row6 col5\" >0.713283</td>\n",
       "      <td id=\"T_89455_row6_col6\" class=\"data row6 col6\" >0.856642</td>\n",
       "    </tr>\n",
       "  </tbody>\n",
       "</table>\n"
      ],
      "text/plain": [
       "<pandas.io.formats.style.Styler at 0x1fbcb92b850>"
      ]
     },
     "execution_count": 17,
     "metadata": {},
     "output_type": "execute_result"
    }
   ],
   "source": [
    "#df_score.style.background_gradient(cmap='viridis')\n",
    "df_score.style.highlight_max(color = 'blue', subset=df_score.columns.drop('loss')).highlight_min(color = 'green', subset=['loss'])\n",
    "#df_score.style.highlight_min(color = 'blue', subset=['loss'])\n",
    "#display(df_score)"
   ]
  }
 ],
 "metadata": {
  "kernelspec": {
   "display_name": "Python 3 (ipykernel)",
   "language": "python",
   "name": "python3"
  },
  "language_info": {
   "codemirror_mode": {
    "name": "ipython",
    "version": 3
   },
   "file_extension": ".py",
   "mimetype": "text/x-python",
   "name": "python",
   "nbconvert_exporter": "python",
   "pygments_lexer": "ipython3",
   "version": "3.9.18"
  }
 },
 "nbformat": 4,
 "nbformat_minor": 5
}
