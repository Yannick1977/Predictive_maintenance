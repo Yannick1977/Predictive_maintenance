{
 "cells": [
  {
   "cell_type": "code",
   "execution_count": null,
   "metadata": {},
   "outputs": [],
   "source": [
    "import numpy as np\n",
    "import matplotlib.pyplot as plt\n",
    "\n",
    "# Generate a sample time series dataset\n",
    "# You can replace this with your own time series data\n",
    "# Ensure that the data is in a NumPy array or a list\n",
    "time = np.arange(0, 10, 0.01)  # Time values from 0 to 10 with a step of 0.01\n",
    "signal = 2 * np.sin(2 * np.pi * 1 * time) + 1 * np.sin(2 * np.pi * 2 * time)\n",
    "\n",
    "# Plot the original time series\n",
    "plt.figure(figsize=(10, 4))\n",
    "plt.subplot(2, 1, 1)\n",
    "plt.plot(time, signal)\n",
    "plt.title('Original Time Series')\n",
    "plt.xlabel('Time')\n",
    "plt.ylabel('Amplitude')\n",
    "\n",
    "# Perform the Fourier Transform\n",
    "fourier_transform = np.fft.fft(signal)\n",
    "frequencies = np.fft.fftfreq(len(signal), 0.01)  # Frequency values (assuming a sampling interval of 0.01)\n",
    "\n",
    "# Plot the magnitude of the Fourier Transform\n",
    "plt.subplot(2, 1, 2)\n",
    "plt.plot(frequencies, np.abs(fourier_transform))\n",
    "plt.title('Fourier Transform')\n",
    "plt.xlabel('Frequency (Hz)')\n",
    "plt.ylabel('Magnitude')\n",
    "plt.xlim(0, 5)  # Limit the x-axis to show frequencies up to 5 Hz\n",
    "\n",
    "plt.tight_layout()\n",
    "plt.show()"
   ]
  },
  {
   "cell_type": "code",
   "execution_count": null,
   "metadata": {},
   "outputs": [],
   "source": [
    "import pkg_resources\n",
    "\n",
    "def get_library_versions(libraries):\n",
    "    with open('../requirements.txt', 'w') as f:\n",
    "        for library in libraries:\n",
    "            try:\n",
    "                version = pkg_resources.get_distribution(library).version\n",
    "                f.write(f\"{library}=={version}\\n\")\n",
    "            except pkg_resources.DistributionNotFound:\n",
    "                print(f\"{library} is not installed\")\n",
    "\n",
    "# Liste des bibliothèques à vérifier\n",
    "libraries = [\"numpy\", \"pandas\", \"scikit-learn\", \"scipy\", \n",
    "             \"seaborn\", \"tensorflow\", \"keras\", \"matplotlib\", 'imblearn']\n",
    "\n",
    "get_library_versions(libraries)"
   ]
  },
  {
   "cell_type": "markdown",
   "id": "f0ea7cf1",
   "metadata": {},
   "source": [
    "----------------------------------------------------------------------------------------------------------"
   ]
  },
  {
   "cell_type": "code",
   "execution_count": 1,
   "id": "3104384a",
   "metadata": {},
   "outputs": [],
   "source": [
    "FILE_PATH = '../data/predictive_maintenance_A.csv'\n",
    "\n",
    "import pandas as pd\n",
    "\n",
    "import sys\n",
    "sys.path.insert(0, '../Src/')\n",
    "\n",
    "from Function_preprocess import preprocess\n",
    "df = pd.read_csv(FILE_PATH, index_col='UDI')\n"
   ]
  },
  {
   "cell_type": "code",
   "execution_count": null,
   "id": "712d16c8",
   "metadata": {},
   "outputs": [],
   "source": [
    "import pkg_resources\n",
    "\n",
    "def get_version(package_name):\n",
    "    try:\n",
    "        return pkg_resources.get_distribution(package_name).version\n",
    "    except pkg_resources.DistributionNotFound:\n",
    "        return \"Le package n'est pas installé\"\n",
    "\n",
    "print(get_version(\"keras\"))"
   ]
  },
  {
   "cell_type": "markdown",
   "id": "65160d8c",
   "metadata": {},
   "source": [
    "=============================================================================================================================="
   ]
  }
 ],
 "metadata": {
  "kernelspec": {
   "display_name": "Python 3",
   "language": "python",
   "name": "python3"
  },
  "language_info": {
   "codemirror_mode": {
    "name": "ipython",
    "version": 3
   },
   "file_extension": ".py",
   "mimetype": "text/x-python",
   "name": "python",
   "nbconvert_exporter": "python",
   "pygments_lexer": "ipython3",
   "version": "3.9.18"
  }
 },
 "nbformat": 4,
 "nbformat_minor": 5
}
