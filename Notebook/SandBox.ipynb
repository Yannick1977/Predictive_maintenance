{
 "cells": [
  {
   "cell_type": "code",
   "execution_count": 2,
   "outputs": [],
   "source": [
    "import pandas as pd\n",
    "import seaborn as sns"
   ],
   "metadata": {
    "collapsed": false,
    "ExecuteTime": {
     "end_time": "2023-11-09T19:53:49.881495500Z",
     "start_time": "2023-11-09T19:53:47.575369200Z"
    }
   },
   "id": "a7911eaeb0dc40e5"
  },
  {
   "cell_type": "code",
   "execution_count": 4,
   "id": "initial_id",
   "metadata": {
    "collapsed": true,
    "ExecuteTime": {
     "end_time": "2023-11-09T19:53:56.980905800Z",
     "start_time": "2023-11-09T19:53:56.768166600Z"
    }
   },
   "outputs": [
    {
     "data": {
      "text/plain": "<AxesSubplot: xlabel='genre', ylabel='count'>"
     },
     "execution_count": 4,
     "metadata": {},
     "output_type": "execute_result"
    },
    {
     "data": {
      "text/plain": "<Figure size 640x480 with 1 Axes>",
      "image/png": "[encoded data removed]"
     },
     "metadata": {},
     "output_type": "display_data"
    }
   ],
   "source": [
    "df = pd.DataFrame({\n",
    "    \"genre\": [\"homme\", \"femme\", \"homme\", \"femme\", \"homme\"],\n",
    "    \"taille\": [175, 165, 180, 155, 170],\n",
    "})\n",
    "\n",
    "# Convertir la colonne \"genre\" en chaîne de caractères\n",
    "df[\"genre\"] = df[\"genre\"].astype(\"str\")\n",
    "\n",
    "# Créer un countplot\n",
    "sns.countplot(data=df, x=\"genre\")"
   ]
  },
  {
   "cell_type": "code",
   "execution_count": null,
   "outputs": [],
   "source": [],
   "metadata": {
    "collapsed": false
   },
   "id": "726e6c81e554c2f"
  },
  {
   "cell_type": "code",
   "execution_count": 5,
   "outputs": [
    {
     "data": {
      "text/plain": "genre     object\ntaille     int64\ndtype: object"
     },
     "execution_count": 5,
     "metadata": {},
     "output_type": "execute_result"
    }
   ],
   "source": [
    "df.dtypes\n"
   ],
   "metadata": {
    "collapsed": false,
    "ExecuteTime": {
     "end_time": "2023-11-09T19:54:01.300699200Z",
     "start_time": "2023-11-09T19:54:01.237917100Z"
    }
   },
   "id": "74df19ec1bd0684c"
  },
  {
   "cell_type": "code",
   "execution_count": null,
   "outputs": [],
   "source": [],
   "metadata": {
    "collapsed": false
   },
   "id": "def204e3a06dd0e3"
  }
 ],
 "metadata": {
  "kernelspec": {
   "display_name": "Python 3",
   "language": "python",
   "name": "python3"
  },
  "language_info": {
   "codemirror_mode": {
    "name": "ipython",
    "version": 2
   },
   "file_extension": ".py",
   "mimetype": "text/x-python",
   "name": "python",
   "nbconvert_exporter": "python",
   "pygments_lexer": "ipython2",
   "version": "2.7.6"
  }
 },
 "nbformat": 4,
 "nbformat_minor": 5
}
