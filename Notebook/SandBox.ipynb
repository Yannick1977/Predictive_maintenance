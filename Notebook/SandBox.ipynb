{
 "cells": [
  {
   "cell_type": "code",
   "execution_count": 3,
   "outputs": [
    {
     "name": "stdout",
     "output_type": "stream",
     "text": [
      "[[ 0.          1.          0.          0.          1.         -1.34164079\n",
      "  -1.34164079]\n",
      " [ 1.          0.          1.          0.          0.         -0.4472136\n",
      "  -0.4472136 ]\n",
      " [ 1.          0.          0.          1.          0.          0.4472136\n",
      "   0.4472136 ]\n",
      " [ 0.          1.          0.          1.          0.          1.34164079\n",
      "   1.34164079]]\n"
     ]
    }
   ],
   "source": [
    "import numpy as np\n",
    "import pandas as pd\n",
    "from sklearn.compose import ColumnTransformer\n",
    "from sklearn.preprocessing import OneHotEncoder, StandardScaler\n",
    "\n",
    "# Création du dataframe\n",
    "df = pd.DataFrame({\n",
    "    \"age\": [20, 25, 30, 35],\n",
    "    \"gender\": [\"male\", \"female\", \"female\", \"male\"],\n",
    "    \"income\": [10000, 20000, 30000, 40000],\n",
    "    \"education\": [\"high school\", \"college\", \"graduate school\", \"graduate school\"]\n",
    "})\n",
    "\n",
    "# Définition des transformateurs pour les différentes variables\n",
    "ct = ColumnTransformer([\n",
    "    (\"onehot\", OneHotEncoder(), [\"gender\", \"education\"]),\n",
    "    (\"scale\", StandardScaler(), [\"age\", \"income\"])\n",
    "])\n",
    "\n",
    "# Prétraitement du dataframe\n",
    "df = ct.fit_transform(df)\n",
    "\n",
    "# Affichage du dataframe prétraité\n",
    "print(df)\n"
   ],
   "metadata": {
    "collapsed": false,
    "ExecuteTime": {
     "end_time": "2023-11-12T21:24:43.109171700Z",
     "start_time": "2023-11-12T21:24:43.077408100Z"
    }
   },
   "id": "def204e3a06dd0e3"
  }
 ],
 "metadata": {
  "kernelspec": {
   "display_name": "Python 3",
   "language": "python",
   "name": "python3"
  },
  "language_info": {
   "codemirror_mode": {
    "name": "ipython",
    "version": 2
   },
   "file_extension": ".py",
   "mimetype": "text/x-python",
   "name": "python",
   "nbconvert_exporter": "python",
   "pygments_lexer": "ipython2",
   "version": "2.7.6"
  }
 },
 "nbformat": 4,
 "nbformat_minor": 5
}
