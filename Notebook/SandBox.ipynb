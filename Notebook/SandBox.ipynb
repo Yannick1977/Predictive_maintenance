{
 "cells": [
  {
   "cell_type": "code",
   "execution_count": null,
   "id": "def204e3a06dd0e3",
   "metadata": {
    "ExecuteTime": {
     "end_time": "2023-11-12T21:24:43.109171700Z",
     "start_time": "2023-11-12T21:24:43.077408100Z"
    },
    "collapsed": false
   },
   "outputs": [],
   "source": [
    "import numpy as np\n",
    "import pandas as pd\n",
    "from sklearn.compose import ColumnTransformer\n",
    "from sklearn.preprocessing import OneHotEncoder, StandardScaler\n",
    "\n",
    "# Création du dataframe\n",
    "df = pd.DataFrame({\n",
    "    \"age\": [20, 25, 30, 35],\n",
    "    \"gender\": [\"male\", \"female\", \"female\", \"male\"],\n",
    "    \"income\": [10000, 20000, 30000, 40000],\n",
    "    \"education\": [\"high school\", \"college\", \"graduate school\", \"graduate school\"]\n",
    "})\n",
    "\n",
    "# Définition des transformateurs pour les différentes variables\n",
    "ct = ColumnTransformer([\n",
    "    (\"onehot\", OneHotEncoder(), [\"gender\", \"education\"]),\n",
    "    (\"scale\", StandardScaler(), [\"age\", \"income\"])\n",
    "])\n",
    "\n",
    "# Prétraitement du dataframe\n",
    "df = ct.fit_transform(df)\n",
    "\n",
    "# Affichage du dataframe prétraité\n",
    "print(df)\n"
   ]
  },
  {
   "cell_type": "code",
   "execution_count": null,
   "metadata": {},
   "outputs": [],
   "source": [
    "import os\n",
    "os.system(\"pip freeze > ../requirements.txt\")\n"
   ]
  },
  {
   "cell_type": "code",
   "execution_count": null,
   "metadata": {},
   "outputs": [],
   "source": [
    "import numpy as np\n",
    "import matplotlib.pyplot as plt\n",
    "\n",
    "# Generate a sample time series dataset\n",
    "# You can replace this with your own time series data\n",
    "# Ensure that the data is in a NumPy array or a list\n",
    "time = np.arange(0, 10, 0.01)  # Time values from 0 to 10 with a step of 0.01\n",
    "signal = 2 * np.sin(2 * np.pi * 1 * time) + 1 * np.sin(2 * np.pi * 2 * time)\n",
    "\n",
    "# Plot the original time series\n",
    "plt.figure(figsize=(10, 4))\n",
    "plt.subplot(2, 1, 1)\n",
    "plt.plot(time, signal)\n",
    "plt.title('Original Time Series')\n",
    "plt.xlabel('Time')\n",
    "plt.ylabel('Amplitude')\n",
    "\n",
    "# Perform the Fourier Transform\n",
    "fourier_transform = np.fft.fft(signal)\n",
    "frequencies = np.fft.fftfreq(len(signal), 0.01)  # Frequency values (assuming a sampling interval of 0.01)\n",
    "\n",
    "# Plot the magnitude of the Fourier Transform\n",
    "plt.subplot(2, 1, 2)\n",
    "plt.plot(frequencies, np.abs(fourier_transform))\n",
    "plt.title('Fourier Transform')\n",
    "plt.xlabel('Frequency (Hz)')\n",
    "plt.ylabel('Magnitude')\n",
    "plt.xlim(0, 5)  # Limit the x-axis to show frequencies up to 5 Hz\n",
    "\n",
    "plt.tight_layout()\n",
    "plt.show()"
   ]
  },
  {
   "cell_type": "code",
   "execution_count": null,
   "metadata": {},
   "outputs": [],
   "source": [
    "import pkg_resources\n",
    "\n",
    "def get_library_versions(libraries):\n",
    "    with open('../requirements.txt', 'w') as f:\n",
    "        for library in libraries:\n",
    "            try:\n",
    "                version = pkg_resources.get_distribution(library).version\n",
    "                f.write(f\"{library}=={version}\\n\")\n",
    "            except pkg_resources.DistributionNotFound:\n",
    "                print(f\"{library} is not installed\")\n",
    "\n",
    "# Liste des bibliothèques à vérifier\n",
    "libraries = [\"numpy\", \"pandas\", \"scikit-learn\", \"scipy\", \n",
    "             \"seaborn\", \"tensorflow\", \"keras\", \"matplotlib\", 'imblearn']\n",
    "\n",
    "get_library_versions(libraries)"
   ]
  },
  {
   "cell_type": "markdown",
   "id": "f0ea7cf1",
   "metadata": {},
   "source": [
    "----------------------------------------------------------------------------------------------------------"
   ]
  },
  {
   "cell_type": "code",
   "execution_count": 1,
   "id": "3104384a",
   "metadata": {},
   "outputs": [],
   "source": [
    "FILE_PATH = '../data/predictive_maintenance_A.csv'\n",
    "\n",
    "import pandas as pd\n",
    "\n",
    "import sys\n",
    "sys.path.insert(0, '../Src/')\n",
    "\n",
    "from Function_preprocess import preprocess\n",
    "df = pd.read_csv(FILE_PATH, index_col='UDI')\n"
   ]
  },
  {
   "cell_type": "code",
   "execution_count": 2,
   "id": "9737fca6",
   "metadata": {},
   "outputs": [
    {
     "name": "stderr",
     "output_type": "stream",
     "text": [
      "c:\\Users\\yanni\\anaconda3\\envs\\python_3_10\\lib\\site-packages\\joblib\\externals\\loky\\backend\\context.py:110: UserWarning: Could not find the number of physical cores for the following reason:\n",
      "found 0 physical cores < 1\n",
      "Returning the number of logical cores instead. You can silence this warning by setting LOKY_MAX_CPU_COUNT to the number of cores you want to use.\n",
      "  warnings.warn(\n",
      "  File \"c:\\Users\\yanni\\anaconda3\\envs\\python_3_10\\lib\\site-packages\\joblib\\externals\\loky\\backend\\context.py\", line 217, in _count_physical_cores\n",
      "    raise ValueError(\n"
     ]
    }
   ],
   "source": [
    "df_train, df_test, dict_target = preprocess(df)"
   ]
  },
  {
   "cell_type": "code",
   "execution_count": null,
   "id": "b785c6b7",
   "metadata": {},
   "outputs": [],
   "source": [
    "df_train.head()"
   ]
  },
  {
   "cell_type": "code",
   "execution_count": null,
   "id": "7d63b799",
   "metadata": {},
   "outputs": [],
   "source": [
    "df_train['Target'].value_counts()"
   ]
  },
  {
   "cell_type": "code",
   "execution_count": null,
   "id": "4924e581",
   "metadata": {},
   "outputs": [],
   "source": [
    "dict_target.values()"
   ]
  },
  {
   "cell_type": "code",
   "execution_count": null,
   "id": "712d16c8",
   "metadata": {},
   "outputs": [],
   "source": [
    "import pkg_resources\n",
    "\n",
    "def get_version(package_name):\n",
    "    try:\n",
    "        return pkg_resources.get_distribution(package_name).version\n",
    "    except pkg_resources.DistributionNotFound:\n",
    "        return \"Le package n'est pas installé\"\n",
    "\n",
    "print(get_version(\"keras\"))"
   ]
  },
  {
   "cell_type": "code",
   "execution_count": null,
   "id": "8655de84",
   "metadata": {},
   "outputs": [],
   "source": [
    "import numpy as np\n",
    "import pandas as pd\n",
    "from sklearn.compose import ColumnTransformer\n",
    "from sklearn.preprocessing import StandardScaler, OneHotEncoder\n",
    "\n",
    "# Créer un jeu de données\n",
    "data = np.array([\n",
    "    [1, 2, 3, 'a'],\n",
    "    [4, 5, 6, 'b'],\n",
    "    [7, 8, 9, 'c'],\n",
    "])\n",
    "\n",
    "# Créer un DataFrame\n",
    "df = pd.DataFrame(data, columns=['x', 'y', 'z', 'cat'])\n",
    "df.head()"
   ]
  },
  {
   "cell_type": "code",
   "execution_count": null,
   "id": "952e9f51",
   "metadata": {},
   "outputs": [],
   "source": [
    "\n",
    "# Créer un ColumnTransformer\n",
    "ct = ColumnTransformer(\n",
    "    transformers=[\n",
    "        (\n",
    "            'scale',\n",
    "            StandardScaler(),\n",
    "            ['x', 'y'],\n",
    "        ),\n",
    "        (\n",
    "            'ohe',\n",
    "            OneHotEncoder(),\n",
    "            ['cat'],\n",
    "        ),\n",
    "    ]\n",
    ")\n",
    "\n",
    "# Appliquer le ColumnTransformer\n",
    "df = ct.fit_transform(df)\n",
    "\n",
    "# Afficher le DataFrame\n",
    "df.head()\n"
   ]
  },
  {
   "cell_type": "code",
   "execution_count": null,
   "id": "523f327d",
   "metadata": {},
   "outputs": [],
   "source": [
    "import pandas as pd\n",
    "\n",
    "# Créer un DataFrame\n",
    "df = pd.DataFrame({\n",
    "   'A': ['a', 'b', 'a'],\n",
    "   'B': ['b', 'a', 'c']\n",
    "})\n",
    "\n",
    "# Utiliser get_dummies pour convertir les variables catégorielles en variables factices\n",
    "df_dummies = pd.get_dummies(df)\n",
    "\n",
    "print(df_dummies)"
   ]
  }
 ],
 "metadata": {
  "kernelspec": {
   "display_name": "Python 3",
   "language": "python",
   "name": "python3"
  },
  "language_info": {
   "codemirror_mode": {
    "name": "ipython",
    "version": 3
   },
   "file_extension": ".py",
   "mimetype": "text/x-python",
   "name": "python",
   "nbconvert_exporter": "python",
   "pygments_lexer": "ipython3",
   "version": "3.10.13"
  }
 },
 "nbformat": 4,
 "nbformat_minor": 5
}
