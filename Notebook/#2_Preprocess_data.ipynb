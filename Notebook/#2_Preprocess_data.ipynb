{
 "cells": [
  {
   "cell_type": "markdown",
   "id": "ec7ced684e37e66d",
   "metadata": {
    "collapsed": false
   },
   "source": [
    "### Import"
   ]
  },
  {
   "cell_type": "code",
   "execution_count": 14,
   "id": "initial_id",
   "metadata": {
    "ExecuteTime": {
     "end_time": "2023-11-22T21:39:14.768353200Z",
     "start_time": "2023-11-22T21:39:14.752321200Z"
    },
    "collapsed": true
   },
   "outputs": [],
   "source": [
    "import pandas as pd\n",
    "import numpy as np\n",
    "from sklearn.preprocessing import OneHotEncoder, StandardScaler, OrdinalEncoder\n",
    "from sklearn.compose import ColumnTransformer\n",
    "from sklearn.model_selection import train_test_split\n"
   ]
  },
  {
   "cell_type": "code",
   "execution_count": 3,
   "id": "72ad8e45dd79db7c",
   "metadata": {
    "ExecuteTime": {
     "end_time": "2023-11-22T21:33:45.817126600Z",
     "start_time": "2023-11-22T21:33:45.738317Z"
    },
    "collapsed": false
   },
   "outputs": [],
   "source": [
    "import warnings\n",
    "\n",
    "warnings.filterwarnings(action='ignore')"
   ]
  },
  {
   "cell_type": "code",
   "execution_count": 2,
   "id": "aaf9b08057cf9b5b",
   "metadata": {
    "ExecuteTime": {
     "end_time": "2023-11-22T21:33:45.864928Z",
     "start_time": "2023-11-22T21:33:45.817126600Z"
    },
    "collapsed": false
   },
   "outputs": [],
   "source": [
    "FILE_PATH = '../data/predictive_maintenance_A.csv'"
   ]
  },
  {
   "cell_type": "markdown",
   "id": "b0ee217cfc755134",
   "metadata": {
    "collapsed": false
   },
   "source": [
    "### Read file data"
   ]
  },
  {
   "cell_type": "code",
   "execution_count": 4,
   "id": "4a08a3db379f1a3a",
   "metadata": {
    "ExecuteTime": {
     "end_time": "2023-11-22T21:33:45.903970400Z",
     "start_time": "2023-11-22T21:33:45.833142900Z"
    },
    "collapsed": false
   },
   "outputs": [
    {
     "data": {
      "text/html": [
       "<div>\n",
       "<style scoped>\n",
       "    .dataframe tbody tr th:only-of-type {\n",
       "        vertical-align: middle;\n",
       "    }\n",
       "\n",
       "    .dataframe tbody tr th {\n",
       "        vertical-align: top;\n",
       "    }\n",
       "\n",
       "    .dataframe thead th {\n",
       "        text-align: right;\n",
       "    }\n",
       "</style>\n",
       "<table border=\"1\" class=\"dataframe\">\n",
       "  <thead>\n",
       "    <tr style=\"text-align: right;\">\n",
       "      <th></th>\n",
       "      <th>Type</th>\n",
       "      <th>Air temperature [K]</th>\n",
       "      <th>Process temperature [K]</th>\n",
       "      <th>Rotational speed [rpm]</th>\n",
       "      <th>Torque [Nm]</th>\n",
       "      <th>Tool wear [min]</th>\n",
       "      <th>Target</th>\n",
       "      <th>Failure Type</th>\n",
       "      <th>Difference temperature [K]</th>\n",
       "      <th>Power</th>\n",
       "    </tr>\n",
       "    <tr>\n",
       "      <th>UDI</th>\n",
       "      <th></th>\n",
       "      <th></th>\n",
       "      <th></th>\n",
       "      <th></th>\n",
       "      <th></th>\n",
       "      <th></th>\n",
       "      <th></th>\n",
       "      <th></th>\n",
       "      <th></th>\n",
       "      <th></th>\n",
       "    </tr>\n",
       "  </thead>\n",
       "  <tbody>\n",
       "    <tr>\n",
       "      <th>1</th>\n",
       "      <td>M</td>\n",
       "      <td>298.1</td>\n",
       "      <td>308.6</td>\n",
       "      <td>1551</td>\n",
       "      <td>42.8</td>\n",
       "      <td>0</td>\n",
       "      <td>0</td>\n",
       "      <td>No Failure</td>\n",
       "      <td>10.5</td>\n",
       "      <td>66382.8</td>\n",
       "    </tr>\n",
       "    <tr>\n",
       "      <th>2</th>\n",
       "      <td>L</td>\n",
       "      <td>298.2</td>\n",
       "      <td>308.7</td>\n",
       "      <td>1408</td>\n",
       "      <td>46.3</td>\n",
       "      <td>3</td>\n",
       "      <td>0</td>\n",
       "      <td>No Failure</td>\n",
       "      <td>10.5</td>\n",
       "      <td>65190.4</td>\n",
       "    </tr>\n",
       "    <tr>\n",
       "      <th>3</th>\n",
       "      <td>L</td>\n",
       "      <td>298.1</td>\n",
       "      <td>308.5</td>\n",
       "      <td>1498</td>\n",
       "      <td>49.4</td>\n",
       "      <td>5</td>\n",
       "      <td>0</td>\n",
       "      <td>No Failure</td>\n",
       "      <td>10.4</td>\n",
       "      <td>74001.2</td>\n",
       "    </tr>\n",
       "    <tr>\n",
       "      <th>4</th>\n",
       "      <td>L</td>\n",
       "      <td>298.2</td>\n",
       "      <td>308.6</td>\n",
       "      <td>1433</td>\n",
       "      <td>39.5</td>\n",
       "      <td>7</td>\n",
       "      <td>0</td>\n",
       "      <td>No Failure</td>\n",
       "      <td>10.4</td>\n",
       "      <td>56603.5</td>\n",
       "    </tr>\n",
       "    <tr>\n",
       "      <th>5</th>\n",
       "      <td>L</td>\n",
       "      <td>298.2</td>\n",
       "      <td>308.7</td>\n",
       "      <td>1408</td>\n",
       "      <td>40.0</td>\n",
       "      <td>9</td>\n",
       "      <td>0</td>\n",
       "      <td>No Failure</td>\n",
       "      <td>10.5</td>\n",
       "      <td>56320.0</td>\n",
       "    </tr>\n",
       "  </tbody>\n",
       "</table>\n",
       "</div>"
      ],
      "text/plain": [
       "    Type  Air temperature [K]  Process temperature [K]  \\\n",
       "UDI                                                      \n",
       "1      M                298.1                    308.6   \n",
       "2      L                298.2                    308.7   \n",
       "3      L                298.1                    308.5   \n",
       "4      L                298.2                    308.6   \n",
       "5      L                298.2                    308.7   \n",
       "\n",
       "     Rotational speed [rpm]  Torque [Nm]  Tool wear [min]  Target  \\\n",
       "UDI                                                                 \n",
       "1                      1551         42.8                0       0   \n",
       "2                      1408         46.3                3       0   \n",
       "3                      1498         49.4                5       0   \n",
       "4                      1433         39.5                7       0   \n",
       "5                      1408         40.0                9       0   \n",
       "\n",
       "    Failure Type  Difference temperature [K]    Power  \n",
       "UDI                                                    \n",
       "1     No Failure                        10.5  66382.8  \n",
       "2     No Failure                        10.5  65190.4  \n",
       "3     No Failure                        10.4  74001.2  \n",
       "4     No Failure                        10.4  56603.5  \n",
       "5     No Failure                        10.5  56320.0  "
      ]
     },
     "execution_count": 4,
     "metadata": {},
     "output_type": "execute_result"
    }
   ],
   "source": [
    "df = pd.read_csv(FILE_PATH, index_col='UDI')\n",
    "df.head()"
   ]
  },
  {
   "cell_type": "markdown",
   "id": "64fe3ebe7f92d2f1",
   "metadata": {
    "collapsed": false
   },
   "source": [
    "Delete rows with 'Random Failures' in type column with target == 0"
   ]
  },
  {
   "cell_type": "code",
   "execution_count": 5,
   "id": "710a4eb23a0a975",
   "metadata": {
    "ExecuteTime": {
     "end_time": "2023-11-22T21:33:45.903970400Z",
     "start_time": "2023-11-22T21:33:45.873388300Z"
    },
    "collapsed": false
   },
   "outputs": [
    {
     "data": {
      "text/plain": [
       "Failure Type\n",
       "No Failure         9643\n",
       "Random Failures      18\n",
       "Name: count, dtype: int64"
      ]
     },
     "execution_count": 5,
     "metadata": {},
     "output_type": "execute_result"
    }
   ],
   "source": [
    "df_tmp = df[df['Target']==0]\n",
    "df_tmp['Failure Type'].value_counts()"
   ]
  },
  {
   "cell_type": "code",
   "execution_count": 6,
   "id": "dac21dc0faed4dc5",
   "metadata": {
    "ExecuteTime": {
     "end_time": "2023-11-22T21:33:45.903970400Z",
     "start_time": "2023-11-22T21:33:45.884936Z"
    },
    "collapsed": false
   },
   "outputs": [],
   "source": [
    "idx = df_tmp[df_tmp['Failure Type'] == 'Random Failures'].index\n",
    "df.drop(index=idx, axis=0, inplace=True)"
   ]
  },
  {
   "cell_type": "markdown",
   "id": "1ce90491d6bc2fdc",
   "metadata": {
    "collapsed": false
   },
   "source": [
    "Delete rows with 'No Failure' in type column with target == 1"
   ]
  },
  {
   "cell_type": "code",
   "execution_count": 7,
   "id": "6741fbe980a35ade",
   "metadata": {
    "ExecuteTime": {
     "end_time": "2023-11-22T21:33:45.991435900Z",
     "start_time": "2023-11-22T21:33:45.903970400Z"
    },
    "collapsed": false
   },
   "outputs": [
    {
     "data": {
      "text/plain": [
       "Failure Type\n",
       "Heat Dissipation Failure    112\n",
       "Power Failure                95\n",
       "Overstrain Failure           78\n",
       "Tool Wear Failure            45\n",
       "No Failure                    9\n",
       "Name: count, dtype: int64"
      ]
     },
     "execution_count": 7,
     "metadata": {},
     "output_type": "execute_result"
    }
   ],
   "source": [
    "df_tmp = df[df['Target']==1]\n",
    "df_tmp['Failure Type'].value_counts()"
   ]
  },
  {
   "cell_type": "code",
   "execution_count": 8,
   "id": "31024df3ca985bda",
   "metadata": {
    "ExecuteTime": {
     "end_time": "2023-11-22T21:33:45.991435900Z",
     "start_time": "2023-11-22T21:33:45.928951800Z"
    },
    "collapsed": false
   },
   "outputs": [],
   "source": [
    "idx = df_tmp[df_tmp['Failure Type']=='No Failure'].index\n",
    "df.drop(index=idx, axis=0, inplace=True)"
   ]
  },
  {
   "cell_type": "code",
   "execution_count": 9,
   "id": "3f97ae5e20939494",
   "metadata": {
    "ExecuteTime": {
     "end_time": "2023-11-22T21:33:46.039429500Z",
     "start_time": "2023-11-22T21:33:45.944871500Z"
    },
    "collapsed": false
   },
   "outputs": [
    {
     "data": {
      "text/plain": [
       "(9973, 10)"
      ]
     },
     "execution_count": 9,
     "metadata": {},
     "output_type": "execute_result"
    }
   ],
   "source": [
    "df.shape"
   ]
  },
  {
   "cell_type": "markdown",
   "metadata": {},
   "source": [
    "# Data Formatting\n",
    "## Conversion 'Failure Type' variable to discret value"
   ]
  },
  {
   "cell_type": "code",
   "execution_count": 12,
   "metadata": {},
   "outputs": [
    {
     "data": {
      "text/plain": [
       "UDI\n",
       "1        0\n",
       "2        0\n",
       "3        0\n",
       "4        0\n",
       "5        0\n",
       "        ..\n",
       "9996     0\n",
       "9997     0\n",
       "9998     0\n",
       "9999     0\n",
       "10000    0\n",
       "Name: Failure Type, Length: 9973, dtype: int64"
      ]
     },
     "execution_count": 12,
     "metadata": {},
     "output_type": "execute_result"
    }
   ],
   "source": [
    "lst_failure = df['Failure Type'].unique()\n",
    "dict_failure = {}\n",
    "for i, failure in enumerate(lst_failure):\n",
    "    dict_failure[failure] = i\n",
    "df['Failure Type'].map(dict_failure)  "
   ]
  },
  {
   "cell_type": "markdown",
   "id": "e81808dcb94cf380",
   "metadata": {
    "collapsed": false
   },
   "source": [
    "## List of categorical variables\n",
    "Memorize features who are 'object' type, exclude target variables "
   ]
  },
  {
   "cell_type": "code",
   "execution_count": 10,
   "id": "bbdab2ea7e58c45b",
   "metadata": {
    "ExecuteTime": {
     "end_time": "2023-11-22T21:33:46.120146400Z",
     "start_time": "2023-11-22T21:33:45.966505400Z"
    },
    "collapsed": false
   },
   "outputs": [
    {
     "data": {
      "text/plain": [
       "['Type']"
      ]
     },
     "execution_count": 10,
     "metadata": {},
     "output_type": "execute_result"
    }
   ],
   "source": [
    "cat_cols = df.select_dtypes(include='O').columns.to_list()\n",
    "cat_cols.remove('Failure Type')\n",
    "#cat_cols.append('Target')\n",
    "cat_cols"
   ]
  },
  {
   "cell_type": "markdown",
   "id": "605abe70012e8045",
   "metadata": {
    "collapsed": false
   },
   "source": [
    "## List of numerical variables\n",
    "Memorize features who are 'numerical' type, exclude target variables "
   ]
  },
  {
   "cell_type": "code",
   "execution_count": 11,
   "id": "b74b65175fcb9e83",
   "metadata": {
    "ExecuteTime": {
     "end_time": "2023-11-22T21:35:27.106851Z",
     "start_time": "2023-11-22T21:35:27.073335100Z"
    },
    "collapsed": false
   },
   "outputs": [
    {
     "data": {
      "text/plain": [
       "['Air temperature [K]',\n",
       " 'Process temperature [K]',\n",
       " 'Rotational speed [rpm]',\n",
       " 'Torque [Nm]',\n",
       " 'Tool wear [min]',\n",
       " 'Difference temperature [K]',\n",
       " 'Power']"
      ]
     },
     "execution_count": 11,
     "metadata": {},
     "output_type": "execute_result"
    }
   ],
   "source": [
    "num_cols = df.select_dtypes(exclude='O').columns.to_list()\n",
    "num_cols.remove('Target')\n",
    "num_cols"
   ]
  },
  {
   "cell_type": "markdown",
   "id": "36c676bb5bd58f6b",
   "metadata": {
    "collapsed": false
   },
   "source": [
    "## Preprocessing of variables"
   ]
  },
  {
   "cell_type": "markdown",
   "id": "2799d6ab8ea5828c",
   "metadata": {
    "collapsed": false
   },
   "source": [
    "#### Pipeline creation"
   ]
  },
  {
   "cell_type": "markdown",
   "id": "6170bcbdf16d76b",
   "metadata": {
    "collapsed": false
   },
   "source": [
    "Define different preprocessing to dataset\n",
    "1. OnehotEncoder process from list of variables in 'cat_cols'\n",
    "2. StandardScaler process from list of variables in 'num_cols'\n",
    "3. OrdinalEncoder process for 'Failure Type' variables"
   ]
  },
  {
   "cell_type": "code",
   "execution_count": 15,
   "id": "f00f6c2a83254dc6",
   "metadata": {
    "ExecuteTime": {
     "end_time": "2023-11-22T21:35:32.612001100Z",
     "start_time": "2023-11-22T21:35:32.580472800Z"
    },
    "collapsed": false
   },
   "outputs": [],
   "source": [
    "ct = ColumnTransformer([\n",
    "    (\"onehot\", OneHotEncoder(), cat_cols),\n",
    "    (\"scale\", StandardScaler(), num_cols),\n",
    "    (\"fail_type\", OrdinalEncoder(), ['Failure Type'])\n",
    "])\n"
   ]
  },
  {
   "cell_type": "markdown",
   "id": "f568c6d15f72ac6",
   "metadata": {
    "collapsed": false
   },
   "source": [
    "Apply preprocess transformer and create dataframe 'df_preprocess' "
   ]
  },
  {
   "cell_type": "code",
   "execution_count": 16,
   "metadata": {},
   "outputs": [],
   "source": [
    "df_preprocess = pd.DataFrame(ct.fit_transform(df), columns=ct.get_feature_names_out())\n",
    "\n",
    "df_preprocess.rename(columns={'fail_type__Failure Type': 'Target'}, inplace=True)\n",
    "df_preprocess.dropna(axis=0, inplace=True)"
   ]
  },
  {
   "cell_type": "code",
   "execution_count": 17,
   "id": "d0b6bae0d87af516",
   "metadata": {
    "ExecuteTime": {
     "end_time": "2023-11-22T21:45:10.241504500Z",
     "start_time": "2023-11-22T21:45:10.098990100Z"
    },
    "collapsed": false
   },
   "outputs": [],
   "source": [
    "df_preprocess .to_csv('../data/predictive_maintenance_preprocess.csv')"
   ]
  }
 ],
 "metadata": {
  "kernelspec": {
   "display_name": "Python 3",
   "language": "python",
   "name": "python3"
  },
  "language_info": {
   "codemirror_mode": {
    "name": "ipython",
    "version": 3
   },
   "file_extension": ".py",
   "mimetype": "text/x-python",
   "name": "python",
   "nbconvert_exporter": "python",
   "pygments_lexer": "ipython3",
   "version": "3.10.13"
  }
 },
 "nbformat": 4,
 "nbformat_minor": 5
}
