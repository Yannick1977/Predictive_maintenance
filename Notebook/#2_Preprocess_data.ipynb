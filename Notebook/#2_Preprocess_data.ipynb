{
 "cells": [
  {
   "cell_type": "markdown",
   "id": "9d997e91",
   "metadata": {},
   "source": [
    "# Todo List\n",
    "\n",
    "- [x] completer le fichier function_preprocess\n",
    "- [x] importer le preprocess qui reste dans #3\n",
    "- [x] dans function_preprocess, reprendre le traitement de failure_type\n",
    "- [ ]\n",
    "- [ ] "
   ]
  },
  {
   "cell_type": "markdown",
   "id": "b56dfaaf",
   "metadata": {},
   "source": [
    "_____________________________________________________________________________________________________________"
   ]
  },
  {
   "cell_type": "code",
   "execution_count": 1,
   "id": "79b41544",
   "metadata": {},
   "outputs": [],
   "source": [
    "FILE_PATH = '../data/predictive_maintenance_A.csv'\n",
    "\n",
    "import pandas as pd\n",
    "\n",
    "import sys\n",
    "sys.path.insert(0, '../Src/')\n",
    "\n",
    "from Function_preprocess import preprocess\n",
    "\n",
    "df = pd.read_csv(FILE_PATH, index_col='UDI')\n",
    "\n",
    "df_train, dict_target = preprocess(df)\n"
   ]
  },
  {
   "cell_type": "code",
   "execution_count": null,
   "id": "b2e9c2c3",
   "metadata": {},
   "outputs": [],
   "source": [
    "df_train.head()"
   ]
  },
  {
   "cell_type": "markdown",
   "id": "9fc0f779",
   "metadata": {},
   "source": [
    "_______________________________________________________________________________________________________________________"
   ]
  },
  {
   "cell_type": "markdown",
   "id": "ec7ced684e37e66d",
   "metadata": {
    "collapsed": false
   },
   "source": [
    "### Import"
   ]
  },
  {
   "cell_type": "code",
   "execution_count": 2,
   "id": "initial_id",
   "metadata": {
    "ExecuteTime": {
     "end_time": "2023-11-22T21:39:14.768353200Z",
     "start_time": "2023-11-22T21:39:14.752321200Z"
    },
    "collapsed": true
   },
   "outputs": [],
   "source": [
    "import pandas as pd\n",
    "import numpy as np\n",
    "import json\n",
    "from sklearn.preprocessing import OneHotEncoder, StandardScaler, OrdinalEncoder\n",
    "from sklearn.compose import ColumnTransformer\n",
    "from sklearn.model_selection import train_test_split\n"
   ]
  },
  {
   "cell_type": "code",
   "execution_count": 3,
   "id": "72ad8e45dd79db7c",
   "metadata": {
    "ExecuteTime": {
     "end_time": "2023-11-22T21:33:45.817126600Z",
     "start_time": "2023-11-22T21:33:45.738317Z"
    },
    "collapsed": false
   },
   "outputs": [],
   "source": [
    "import warnings\n",
    "\n",
    "warnings.filterwarnings(action='ignore')"
   ]
  },
  {
   "cell_type": "code",
   "execution_count": 4,
   "id": "aaf9b08057cf9b5b",
   "metadata": {
    "ExecuteTime": {
     "end_time": "2023-11-22T21:33:45.864928Z",
     "start_time": "2023-11-22T21:33:45.817126600Z"
    },
    "collapsed": false
   },
   "outputs": [],
   "source": [
    "FILE_PATH = '../data/predictive_maintenance_A.csv'"
   ]
  },
  {
   "cell_type": "markdown",
   "id": "b0ee217cfc755134",
   "metadata": {
    "collapsed": false
   },
   "source": [
    "### Read file data"
   ]
  },
  {
   "cell_type": "code",
   "execution_count": 5,
   "id": "4a08a3db379f1a3a",
   "metadata": {
    "ExecuteTime": {
     "end_time": "2023-11-22T21:33:45.903970400Z",
     "start_time": "2023-11-22T21:33:45.833142900Z"
    },
    "collapsed": false
   },
   "outputs": [
    {
     "data": {
      "text/html": [
       "<div>\n",
       "<style scoped>\n",
       "    .dataframe tbody tr th:only-of-type {\n",
       "        vertical-align: middle;\n",
       "    }\n",
       "\n",
       "    .dataframe tbody tr th {\n",
       "        vertical-align: top;\n",
       "    }\n",
       "\n",
       "    .dataframe thead th {\n",
       "        text-align: right;\n",
       "    }\n",
       "</style>\n",
       "<table border=\"1\" class=\"dataframe\">\n",
       "  <thead>\n",
       "    <tr style=\"text-align: right;\">\n",
       "      <th></th>\n",
       "      <th>Type</th>\n",
       "      <th>Air temperature [K]</th>\n",
       "      <th>Process temperature [K]</th>\n",
       "      <th>Rotational speed [rpm]</th>\n",
       "      <th>Torque [Nm]</th>\n",
       "      <th>Tool wear [min]</th>\n",
       "      <th>Target</th>\n",
       "      <th>Failure Type</th>\n",
       "      <th>Difference temperature [K]</th>\n",
       "      <th>Power</th>\n",
       "    </tr>\n",
       "    <tr>\n",
       "      <th>UDI</th>\n",
       "      <th></th>\n",
       "      <th></th>\n",
       "      <th></th>\n",
       "      <th></th>\n",
       "      <th></th>\n",
       "      <th></th>\n",
       "      <th></th>\n",
       "      <th></th>\n",
       "      <th></th>\n",
       "      <th></th>\n",
       "    </tr>\n",
       "  </thead>\n",
       "  <tbody>\n",
       "    <tr>\n",
       "      <th>1</th>\n",
       "      <td>M</td>\n",
       "      <td>298.1</td>\n",
       "      <td>308.6</td>\n",
       "      <td>1551</td>\n",
       "      <td>42.8</td>\n",
       "      <td>0</td>\n",
       "      <td>0</td>\n",
       "      <td>No Failure</td>\n",
       "      <td>10.5</td>\n",
       "      <td>66382.8</td>\n",
       "    </tr>\n",
       "    <tr>\n",
       "      <th>2</th>\n",
       "      <td>L</td>\n",
       "      <td>298.2</td>\n",
       "      <td>308.7</td>\n",
       "      <td>1408</td>\n",
       "      <td>46.3</td>\n",
       "      <td>3</td>\n",
       "      <td>0</td>\n",
       "      <td>No Failure</td>\n",
       "      <td>10.5</td>\n",
       "      <td>65190.4</td>\n",
       "    </tr>\n",
       "    <tr>\n",
       "      <th>3</th>\n",
       "      <td>L</td>\n",
       "      <td>298.1</td>\n",
       "      <td>308.5</td>\n",
       "      <td>1498</td>\n",
       "      <td>49.4</td>\n",
       "      <td>5</td>\n",
       "      <td>0</td>\n",
       "      <td>No Failure</td>\n",
       "      <td>10.4</td>\n",
       "      <td>74001.2</td>\n",
       "    </tr>\n",
       "    <tr>\n",
       "      <th>4</th>\n",
       "      <td>L</td>\n",
       "      <td>298.2</td>\n",
       "      <td>308.6</td>\n",
       "      <td>1433</td>\n",
       "      <td>39.5</td>\n",
       "      <td>7</td>\n",
       "      <td>0</td>\n",
       "      <td>No Failure</td>\n",
       "      <td>10.4</td>\n",
       "      <td>56603.5</td>\n",
       "    </tr>\n",
       "    <tr>\n",
       "      <th>5</th>\n",
       "      <td>L</td>\n",
       "      <td>298.2</td>\n",
       "      <td>308.7</td>\n",
       "      <td>1408</td>\n",
       "      <td>40.0</td>\n",
       "      <td>9</td>\n",
       "      <td>0</td>\n",
       "      <td>No Failure</td>\n",
       "      <td>10.5</td>\n",
       "      <td>56320.0</td>\n",
       "    </tr>\n",
       "  </tbody>\n",
       "</table>\n",
       "</div>"
      ],
      "text/plain": [
       "    Type  Air temperature [K]  Process temperature [K]  \\\n",
       "UDI                                                      \n",
       "1      M                298.1                    308.6   \n",
       "2      L                298.2                    308.7   \n",
       "3      L                298.1                    308.5   \n",
       "4      L                298.2                    308.6   \n",
       "5      L                298.2                    308.7   \n",
       "\n",
       "     Rotational speed [rpm]  Torque [Nm]  Tool wear [min]  Target  \\\n",
       "UDI                                                                 \n",
       "1                      1551         42.8                0       0   \n",
       "2                      1408         46.3                3       0   \n",
       "3                      1498         49.4                5       0   \n",
       "4                      1433         39.5                7       0   \n",
       "5                      1408         40.0                9       0   \n",
       "\n",
       "    Failure Type  Difference temperature [K]    Power  \n",
       "UDI                                                    \n",
       "1     No Failure                        10.5  66382.8  \n",
       "2     No Failure                        10.5  65190.4  \n",
       "3     No Failure                        10.4  74001.2  \n",
       "4     No Failure                        10.4  56603.5  \n",
       "5     No Failure                        10.5  56320.0  "
      ]
     },
     "execution_count": 5,
     "metadata": {},
     "output_type": "execute_result"
    }
   ],
   "source": [
    "df = pd.read_csv(FILE_PATH, index_col='UDI')\n",
    "df.head()"
   ]
  },
  {
   "cell_type": "markdown",
   "id": "64fe3ebe7f92d2f1",
   "metadata": {
    "collapsed": false
   },
   "source": [
    "Delete rows with 'Random Failures' in type column with target == 0"
   ]
  },
  {
   "cell_type": "code",
   "execution_count": 6,
   "id": "710a4eb23a0a975",
   "metadata": {
    "ExecuteTime": {
     "end_time": "2023-11-22T21:33:45.903970400Z",
     "start_time": "2023-11-22T21:33:45.873388300Z"
    },
    "collapsed": false
   },
   "outputs": [
    {
     "data": {
      "text/plain": [
       "Failure Type\n",
       "No Failure         9643\n",
       "Random Failures      18\n",
       "Name: count, dtype: int64"
      ]
     },
     "execution_count": 6,
     "metadata": {},
     "output_type": "execute_result"
    }
   ],
   "source": [
    "df_tmp = df[df['Target']==0]\n",
    "df_tmp['Failure Type'].value_counts()"
   ]
  },
  {
   "cell_type": "code",
   "execution_count": 7,
   "id": "dac21dc0faed4dc5",
   "metadata": {
    "ExecuteTime": {
     "end_time": "2023-11-22T21:33:45.903970400Z",
     "start_time": "2023-11-22T21:33:45.884936Z"
    },
    "collapsed": false
   },
   "outputs": [],
   "source": [
    "idx = df_tmp[df_tmp['Failure Type'] == 'Random Failures'].index\n",
    "df.drop(index=idx, axis=0, inplace=True)"
   ]
  },
  {
   "cell_type": "markdown",
   "id": "1ce90491d6bc2fdc",
   "metadata": {
    "collapsed": false
   },
   "source": [
    "Delete rows with 'No Failure' in type column with target == 1"
   ]
  },
  {
   "cell_type": "code",
   "execution_count": 8,
   "id": "6741fbe980a35ade",
   "metadata": {
    "ExecuteTime": {
     "end_time": "2023-11-22T21:33:45.991435900Z",
     "start_time": "2023-11-22T21:33:45.903970400Z"
    },
    "collapsed": false
   },
   "outputs": [
    {
     "data": {
      "text/plain": [
       "Failure Type\n",
       "Heat Dissipation Failure    112\n",
       "Power Failure                95\n",
       "Overstrain Failure           78\n",
       "Tool Wear Failure            45\n",
       "No Failure                    9\n",
       "Name: count, dtype: int64"
      ]
     },
     "execution_count": 8,
     "metadata": {},
     "output_type": "execute_result"
    }
   ],
   "source": [
    "df_tmp = df[df['Target']==1]\n",
    "df_tmp['Failure Type'].value_counts()"
   ]
  },
  {
   "cell_type": "code",
   "execution_count": 9,
   "id": "31024df3ca985bda",
   "metadata": {
    "ExecuteTime": {
     "end_time": "2023-11-22T21:33:45.991435900Z",
     "start_time": "2023-11-22T21:33:45.928951800Z"
    },
    "collapsed": false
   },
   "outputs": [],
   "source": [
    "idx = df_tmp[df_tmp['Failure Type']=='No Failure'].index\n",
    "df.drop(index=idx, axis=0, inplace=True)"
   ]
  },
  {
   "cell_type": "code",
   "execution_count": 10,
   "id": "3f97ae5e20939494",
   "metadata": {
    "ExecuteTime": {
     "end_time": "2023-11-22T21:33:46.039429500Z",
     "start_time": "2023-11-22T21:33:45.944871500Z"
    },
    "collapsed": false
   },
   "outputs": [
    {
     "data": {
      "text/plain": [
       "(9973, 10)"
      ]
     },
     "execution_count": 10,
     "metadata": {},
     "output_type": "execute_result"
    }
   ],
   "source": [
    "df.shape"
   ]
  },
  {
   "cell_type": "code",
   "execution_count": 27,
   "id": "9c62b7e4",
   "metadata": {},
   "outputs": [
    {
     "name": "stdout",
     "output_type": "stream",
     "text": [
      "Requirement already satisfied: tensorflow in c:\\users\\yanni\\anaconda3\\envs\\python_3_10\\lib\\site-packages (2.10.0)\n",
      "Collecting tensorflow\n",
      "  Obtaining dependency information for tensorflow from https://files.pythonhosted.org/packages/7c/3c/049400232ee2897d613db9009e42269417166c3f8519d46e5c97b6f9e206/tensorflow-2.15.0-cp310-cp310-win_amd64.whl.metadata\n",
      "  Using cached tensorflow-2.15.0-cp310-cp310-win_amd64.whl.metadata (3.6 kB)\n",
      "Requirement already satisfied: tensorflow-intel==2.15.0 in c:\\users\\yanni\\anaconda3\\envs\\python_3_10\\lib\\site-packages (from tensorflow) (2.15.0)\n",
      "Requirement already satisfied: absl-py>=1.0.0 in c:\\users\\yanni\\anaconda3\\envs\\python_3_10\\lib\\site-packages (from tensorflow-intel==2.15.0->tensorflow) (1.4.0)\n",
      "Requirement already satisfied: astunparse>=1.6.0 in c:\\users\\yanni\\anaconda3\\envs\\python_3_10\\lib\\site-packages (from tensorflow-intel==2.15.0->tensorflow) (1.6.3)\n",
      "Requirement already satisfied: flatbuffers>=23.5.26 in c:\\users\\yanni\\anaconda3\\envs\\python_3_10\\lib\\site-packages (from tensorflow-intel==2.15.0->tensorflow) (23.5.26)\n",
      "Requirement already satisfied: gast!=0.5.0,!=0.5.1,!=0.5.2,>=0.2.1 in c:\\users\\yanni\\anaconda3\\envs\\python_3_10\\lib\\site-packages (from tensorflow-intel==2.15.0->tensorflow) (0.4.0)\n",
      "Requirement already satisfied: google-pasta>=0.1.1 in c:\\users\\yanni\\anaconda3\\envs\\python_3_10\\lib\\site-packages (from tensorflow-intel==2.15.0->tensorflow) (0.2.0)\n",
      "Requirement already satisfied: h5py>=2.9.0 in c:\\users\\yanni\\anaconda3\\envs\\python_3_10\\lib\\site-packages (from tensorflow-intel==2.15.0->tensorflow) (3.9.0)\n",
      "Requirement already satisfied: libclang>=13.0.0 in c:\\users\\yanni\\anaconda3\\envs\\python_3_10\\lib\\site-packages (from tensorflow-intel==2.15.0->tensorflow) (16.0.6)\n",
      "Requirement already satisfied: ml-dtypes~=0.2.0 in c:\\users\\yanni\\anaconda3\\envs\\python_3_10\\lib\\site-packages (from tensorflow-intel==2.15.0->tensorflow) (0.2.0)\n",
      "Requirement already satisfied: numpy<2.0.0,>=1.23.5 in c:\\users\\yanni\\anaconda3\\envs\\python_3_10\\lib\\site-packages (from tensorflow-intel==2.15.0->tensorflow) (1.26.0)\n",
      "Requirement already satisfied: opt-einsum>=2.3.2 in c:\\users\\yanni\\anaconda3\\envs\\python_3_10\\lib\\site-packages (from tensorflow-intel==2.15.0->tensorflow) (3.3.0)\n",
      "Requirement already satisfied: packaging in c:\\users\\yanni\\anaconda3\\envs\\python_3_10\\lib\\site-packages (from tensorflow-intel==2.15.0->tensorflow) (23.1)\n",
      "Requirement already satisfied: protobuf!=4.21.0,!=4.21.1,!=4.21.2,!=4.21.3,!=4.21.4,!=4.21.5,<5.0.0dev,>=3.20.3 in c:\\users\\yanni\\anaconda3\\envs\\python_3_10\\lib\\site-packages (from tensorflow-intel==2.15.0->tensorflow) (4.23.4)\n",
      "Requirement already satisfied: setuptools in c:\\users\\yanni\\anaconda3\\envs\\python_3_10\\lib\\site-packages (from tensorflow-intel==2.15.0->tensorflow) (68.0.0)\n",
      "Requirement already satisfied: six>=1.12.0 in c:\\users\\yanni\\anaconda3\\envs\\python_3_10\\lib\\site-packages (from tensorflow-intel==2.15.0->tensorflow) (1.16.0)\n",
      "Requirement already satisfied: termcolor>=1.1.0 in c:\\users\\yanni\\anaconda3\\envs\\python_3_10\\lib\\site-packages (from tensorflow-intel==2.15.0->tensorflow) (2.1.0)\n",
      "Requirement already satisfied: typing-extensions>=3.6.6 in c:\\users\\yanni\\anaconda3\\envs\\python_3_10\\lib\\site-packages (from tensorflow-intel==2.15.0->tensorflow) (4.7.1)\n",
      "Requirement already satisfied: wrapt<1.15,>=1.11.0 in c:\\users\\yanni\\anaconda3\\envs\\python_3_10\\lib\\site-packages (from tensorflow-intel==2.15.0->tensorflow) (1.14.1)\n",
      "Requirement already satisfied: tensorflow-io-gcs-filesystem>=0.23.1 in c:\\users\\yanni\\anaconda3\\envs\\python_3_10\\lib\\site-packages (from tensorflow-intel==2.15.0->tensorflow) (0.31.0)\n",
      "Requirement already satisfied: grpcio<2.0,>=1.24.3 in c:\\users\\yanni\\anaconda3\\envs\\python_3_10\\lib\\site-packages (from tensorflow-intel==2.15.0->tensorflow) (1.48.2)\n",
      "Collecting tensorboard<2.16,>=2.15 (from tensorflow-intel==2.15.0->tensorflow)\n",
      "  Obtaining dependency information for tensorboard<2.16,>=2.15 from https://files.pythonhosted.org/packages/6e/0c/1059a6682cf2cc1fcc0d5327837b5672fe4f5574255fa5430d0a8ceb75e9/tensorboard-2.15.1-py3-none-any.whl.metadata\n",
      "  Using cached tensorboard-2.15.1-py3-none-any.whl.metadata (1.7 kB)\n",
      "Requirement already satisfied: tensorflow-estimator<2.16,>=2.15.0 in c:\\users\\yanni\\anaconda3\\envs\\python_3_10\\lib\\site-packages (from tensorflow-intel==2.15.0->tensorflow) (2.15.0)\n",
      "Requirement already satisfied: keras<2.16,>=2.15.0 in c:\\users\\yanni\\anaconda3\\envs\\python_3_10\\lib\\site-packages (from tensorflow-intel==2.15.0->tensorflow) (2.15.0)\n",
      "Requirement already satisfied: wheel<1.0,>=0.23.0 in c:\\users\\yanni\\anaconda3\\envs\\python_3_10\\lib\\site-packages (from astunparse>=1.6.0->tensorflow-intel==2.15.0->tensorflow) (0.41.2)\n",
      "Requirement already satisfied: google-auth<3,>=1.6.3 in c:\\users\\yanni\\anaconda3\\envs\\python_3_10\\lib\\site-packages (from tensorboard<2.16,>=2.15->tensorflow-intel==2.15.0->tensorflow) (2.22.0)\n",
      "Collecting google-auth-oauthlib<2,>=0.5 (from tensorboard<2.16,>=2.15->tensorflow-intel==2.15.0->tensorflow)\n",
      "  Obtaining dependency information for google-auth-oauthlib<2,>=0.5 from https://files.pythonhosted.org/packages/71/bf/9e125754d1adb3bc4bd206c4e5df756513b1d23675ac06caa471278d1f3f/google_auth_oauthlib-1.2.0-py2.py3-none-any.whl.metadata\n",
      "  Using cached google_auth_oauthlib-1.2.0-py2.py3-none-any.whl.metadata (2.7 kB)\n",
      "Requirement already satisfied: markdown>=2.6.8 in c:\\users\\yanni\\anaconda3\\envs\\python_3_10\\lib\\site-packages (from tensorboard<2.16,>=2.15->tensorflow-intel==2.15.0->tensorflow) (3.4.1)\n",
      "Requirement already satisfied: requests<3,>=2.21.0 in c:\\users\\yanni\\anaconda3\\envs\\python_3_10\\lib\\site-packages (from tensorboard<2.16,>=2.15->tensorflow-intel==2.15.0->tensorflow) (2.31.0)\n",
      "Requirement already satisfied: tensorboard-data-server<0.8.0,>=0.7.0 in c:\\users\\yanni\\anaconda3\\envs\\python_3_10\\lib\\site-packages (from tensorboard<2.16,>=2.15->tensorflow-intel==2.15.0->tensorflow) (0.7.2)\n",
      "Requirement already satisfied: werkzeug>=1.0.1 in c:\\users\\yanni\\anaconda3\\envs\\python_3_10\\lib\\site-packages (from tensorboard<2.16,>=2.15->tensorflow-intel==2.15.0->tensorflow) (2.2.3)\n",
      "Requirement already satisfied: cachetools<6.0,>=2.0.0 in c:\\users\\yanni\\anaconda3\\envs\\python_3_10\\lib\\site-packages (from google-auth<3,>=1.6.3->tensorboard<2.16,>=2.15->tensorflow-intel==2.15.0->tensorflow) (4.2.2)\n",
      "Requirement already satisfied: pyasn1-modules>=0.2.1 in c:\\users\\yanni\\anaconda3\\envs\\python_3_10\\lib\\site-packages (from google-auth<3,>=1.6.3->tensorboard<2.16,>=2.15->tensorflow-intel==2.15.0->tensorflow) (0.2.8)\n",
      "Requirement already satisfied: rsa<5,>=3.1.4 in c:\\users\\yanni\\anaconda3\\envs\\python_3_10\\lib\\site-packages (from google-auth<3,>=1.6.3->tensorboard<2.16,>=2.15->tensorflow-intel==2.15.0->tensorflow) (4.7.2)\n",
      "Requirement already satisfied: urllib3<2.0 in c:\\users\\yanni\\anaconda3\\envs\\python_3_10\\lib\\site-packages (from google-auth<3,>=1.6.3->tensorboard<2.16,>=2.15->tensorflow-intel==2.15.0->tensorflow) (1.26.16)\n",
      "Requirement already satisfied: requests-oauthlib>=0.7.0 in c:\\users\\yanni\\anaconda3\\envs\\python_3_10\\lib\\site-packages (from google-auth-oauthlib<2,>=0.5->tensorboard<2.16,>=2.15->tensorflow-intel==2.15.0->tensorflow) (1.3.0)\n",
      "Requirement already satisfied: charset-normalizer<4,>=2 in c:\\users\\yanni\\anaconda3\\envs\\python_3_10\\lib\\site-packages (from requests<3,>=2.21.0->tensorboard<2.16,>=2.15->tensorflow-intel==2.15.0->tensorflow) (2.0.4)\n",
      "Requirement already satisfied: idna<4,>=2.5 in c:\\users\\yanni\\anaconda3\\envs\\python_3_10\\lib\\site-packages (from requests<3,>=2.21.0->tensorboard<2.16,>=2.15->tensorflow-intel==2.15.0->tensorflow) (3.4)\n",
      "Requirement already satisfied: certifi>=2017.4.17 in c:\\users\\yanni\\anaconda3\\envs\\python_3_10\\lib\\site-packages (from requests<3,>=2.21.0->tensorboard<2.16,>=2.15->tensorflow-intel==2.15.0->tensorflow) (2023.11.17)\n",
      "Requirement already satisfied: MarkupSafe>=2.1.1 in c:\\users\\yanni\\anaconda3\\envs\\python_3_10\\lib\\site-packages (from werkzeug>=1.0.1->tensorboard<2.16,>=2.15->tensorflow-intel==2.15.0->tensorflow) (2.1.1)\n",
      "Requirement already satisfied: pyasn1<0.5.0,>=0.4.6 in c:\\users\\yanni\\anaconda3\\envs\\python_3_10\\lib\\site-packages (from pyasn1-modules>=0.2.1->google-auth<3,>=1.6.3->tensorboard<2.16,>=2.15->tensorflow-intel==2.15.0->tensorflow) (0.4.8)\n",
      "Requirement already satisfied: oauthlib>=3.0.0 in c:\\users\\yanni\\anaconda3\\envs\\python_3_10\\lib\\site-packages (from requests-oauthlib>=0.7.0->google-auth-oauthlib<2,>=0.5->tensorboard<2.16,>=2.15->tensorflow-intel==2.15.0->tensorflow) (3.2.2)\n",
      "Using cached tensorflow-2.15.0-cp310-cp310-win_amd64.whl (2.1 kB)\n",
      "Using cached tensorboard-2.15.1-py3-none-any.whl (5.5 MB)\n",
      "Using cached google_auth_oauthlib-1.2.0-py2.py3-none-any.whl (24 kB)\n",
      "Installing collected packages: google-auth-oauthlib, tensorboard, tensorflow\n",
      "Successfully installed google-auth-oauthlib-1.2.0 tensorboard-2.15.1 tensorflow-2.15.0\n"
     ]
    },
    {
     "name": "stderr",
     "output_type": "stream",
     "text": [
      "WARNING: Ignoring invalid distribution -rotobuf (c:\\users\\yanni\\anaconda3\\envs\\python_3_10\\lib\\site-packages)\n",
      "WARNING: Ignoring invalid distribution -rotobuf (c:\\users\\yanni\\anaconda3\\envs\\python_3_10\\lib\\site-packages)\n",
      "  WARNING: The script google-oauthlib-tool.exe is installed in 'C:\\Users\\yanni\\AppData\\Roaming\\Python\\Python310\\Scripts' which is not on PATH.\n",
      "  Consider adding this directory to PATH or, if you prefer to suppress this warning, use --no-warn-script-location.\n",
      "  WARNING: The script tensorboard.exe is installed in 'C:\\Users\\yanni\\AppData\\Roaming\\Python\\Python310\\Scripts' which is not on PATH.\n",
      "  Consider adding this directory to PATH or, if you prefer to suppress this warning, use --no-warn-script-location.\n"
     ]
    }
   ],
   "source": [
    "!pip install --upgrade tensorflow --user"
   ]
  },
  {
   "cell_type": "code",
   "execution_count": 38,
   "id": "dc8be237",
   "metadata": {},
   "outputs": [
    {
     "ename": "ImportError",
     "evalue": "cannot import name 'to_categorical' from 'tensorflow.python.keras.utils' (c:\\Users\\yanni\\anaconda3\\envs\\python_3_10\\lib\\site-packages\\tensorflow\\python\\keras\\utils\\__init__.py)",
     "output_type": "error",
     "traceback": [
      "\u001b[1;31m---------------------------------------------------------------------------\u001b[0m",
      "\u001b[1;31mImportError\u001b[0m                               Traceback (most recent call last)",
      "Cell \u001b[1;32mIn[38], line 4\u001b[0m\n\u001b[0;32m      1\u001b[0m \u001b[38;5;66;03m#from tensorflow import keras\u001b[39;00m\n\u001b[0;32m      2\u001b[0m \u001b[38;5;66;03m#from tensorflow.python.keras.utils import to_categorical\u001b[39;00m\n\u001b[0;32m      3\u001b[0m \u001b[38;5;28;01mimport\u001b[39;00m \u001b[38;5;21;01mtensorflow\u001b[39;00m \u001b[38;5;28;01mas\u001b[39;00m \u001b[38;5;21;01mtf\u001b[39;00m\n\u001b[1;32m----> 4\u001b[0m \u001b[38;5;28;01mfrom\u001b[39;00m \u001b[38;5;21;01mtensorflow\u001b[39;00m\u001b[38;5;21;01m.\u001b[39;00m\u001b[38;5;21;01mpython\u001b[39;00m\u001b[38;5;21;01m.\u001b[39;00m\u001b[38;5;21;01mkeras\u001b[39;00m\u001b[38;5;21;01m.\u001b[39;00m\u001b[38;5;21;01mutils\u001b[39;00m \u001b[38;5;28;01mimport\u001b[39;00m to_categorical\n\u001b[0;32m      5\u001b[0m a \u001b[38;5;241m=\u001b[39mto_categorical(df[\u001b[38;5;124m'\u001b[39m\u001b[38;5;124mFailure Type\u001b[39m\u001b[38;5;124m'\u001b[39m], num_classes\u001b[38;5;241m=\u001b[39mdf[\u001b[38;5;124m'\u001b[39m\u001b[38;5;124mFailure Type\u001b[39m\u001b[38;5;124m'\u001b[39m]\u001b[38;5;241m.\u001b[39mnunique())\n\u001b[0;32m      6\u001b[0m \u001b[38;5;28mprint\u001b[39m(a)\n",
      "\u001b[1;31mImportError\u001b[0m: cannot import name 'to_categorical' from 'tensorflow.python.keras.utils' (c:\\Users\\yanni\\anaconda3\\envs\\python_3_10\\lib\\site-packages\\tensorflow\\python\\keras\\utils\\__init__.py)"
     ]
    }
   ],
   "source": [
    "\n",
    "#from tensorflow import keras\n",
    "#from tensorflow.python.keras.utils import to_categorical\n",
    "import tensorflow as tf\n",
    "from tensorflow.python.keras.utils import to_categorical\n",
    "a =to_categorical(df['Failure Type'], num_classes=df['Failure Type'].nunique())\n",
    "print(a)"
   ]
  },
  {
   "cell_type": "markdown",
   "metadata": {},
   "source": [
    "# Data Formatting\n",
    "## Conversion 'Failure Type' variable to discret value"
   ]
  },
  {
   "cell_type": "code",
   "execution_count": null,
   "metadata": {},
   "outputs": [],
   "source": [
    "lst_failure = df['Failure Type'].unique()\n",
    "dict_failure = {}\n",
    "for i, failure in enumerate(lst_failure):\n",
    "    dict_failure[failure] = i\n",
    "df['Failure Type'].map(dict_failure)  "
   ]
  },
  {
   "cell_type": "markdown",
   "id": "e81808dcb94cf380",
   "metadata": {
    "collapsed": false
   },
   "source": [
    "## List of categorical variables\n",
    "Memorize features who are 'object' type, exclude target variables "
   ]
  },
  {
   "cell_type": "code",
   "execution_count": null,
   "id": "bbdab2ea7e58c45b",
   "metadata": {
    "ExecuteTime": {
     "end_time": "2023-11-22T21:33:46.120146400Z",
     "start_time": "2023-11-22T21:33:45.966505400Z"
    },
    "collapsed": false
   },
   "outputs": [],
   "source": [
    "cat_cols = df.select_dtypes(include='O').columns.to_list()\n",
    "cat_cols.remove('Failure Type')\n",
    "#cat_cols.append('Target')\n",
    "cat_cols"
   ]
  },
  {
   "cell_type": "markdown",
   "id": "605abe70012e8045",
   "metadata": {
    "collapsed": false
   },
   "source": [
    "## List of numerical variables\n",
    "Memorize features who are 'numerical' type, exclude target variables "
   ]
  },
  {
   "cell_type": "code",
   "execution_count": null,
   "id": "b74b65175fcb9e83",
   "metadata": {
    "ExecuteTime": {
     "end_time": "2023-11-22T21:35:27.106851Z",
     "start_time": "2023-11-22T21:35:27.073335100Z"
    },
    "collapsed": false
   },
   "outputs": [],
   "source": [
    "num_cols = df.select_dtypes(exclude='O').columns.to_list()\n",
    "num_cols.remove('Target')\n",
    "num_cols"
   ]
  },
  {
   "cell_type": "markdown",
   "id": "36c676bb5bd58f6b",
   "metadata": {
    "collapsed": false
   },
   "source": [
    "## Preprocessing of variables"
   ]
  },
  {
   "cell_type": "markdown",
   "id": "2799d6ab8ea5828c",
   "metadata": {
    "collapsed": false
   },
   "source": [
    "#### Pipeline creation"
   ]
  },
  {
   "cell_type": "markdown",
   "id": "6170bcbdf16d76b",
   "metadata": {
    "collapsed": false
   },
   "source": [
    "Define different preprocessing to dataset\n",
    "1. OnehotEncoder process from list of variables in 'cat_cols'\n",
    "2. StandardScaler process from list of variables in 'num_cols'\n",
    "3. OrdinalEncoder process for 'Failure Type' variables"
   ]
  },
  {
   "cell_type": "code",
   "execution_count": null,
   "id": "f00f6c2a83254dc6",
   "metadata": {
    "ExecuteTime": {
     "end_time": "2023-11-22T21:35:32.612001100Z",
     "start_time": "2023-11-22T21:35:32.580472800Z"
    },
    "collapsed": false
   },
   "outputs": [],
   "source": [
    "ct = ColumnTransformer([\n",
    "    (\"onehot\", OneHotEncoder(), cat_cols),\n",
    "    (\"scale\", StandardScaler(), num_cols),\n",
    "    (\"fail_type\", OrdinalEncoder(), ['Target'])\n",
    "])\n"
   ]
  },
  {
   "cell_type": "markdown",
   "id": "f568c6d15f72ac6",
   "metadata": {
    "collapsed": false
   },
   "source": [
    "Apply preprocess transformer and create dataframe 'df_preprocess' "
   ]
  },
  {
   "cell_type": "code",
   "execution_count": null,
   "metadata": {},
   "outputs": [],
   "source": [
    "df.drop(columns=['Target'], inplace=True)\n",
    "df.rename(columns={'Failure Type': 'Target'}, inplace=True)\n",
    "df_preprocess = pd.DataFrame(ct.fit_transform(df), columns=ct.get_feature_names_out())\n"
   ]
  },
  {
   "cell_type": "code",
   "execution_count": null,
   "id": "ffa08f75",
   "metadata": {},
   "outputs": [],
   "source": [
    "\n",
    "df_preprocess.dropna(axis=0, inplace=True)"
   ]
  },
  {
   "cell_type": "markdown",
   "id": "bdf973f9",
   "metadata": {},
   "source": [
    "Create dictionnary with index and value of 'target' feature"
   ]
  },
  {
   "cell_type": "code",
   "execution_count": null,
   "id": "04a12c62",
   "metadata": {},
   "outputs": [],
   "source": [
    "cat_=ct.named_transformers_['fail_type'].categories_\n",
    "dict_target = {}\n",
    "dict_target_inv = {}\n",
    "for i, c in enumerate(cat_[0]):\n",
    "    dict_target[c] = i\n",
    "    dict_target_inv[i] = c\n"
   ]
  },
  {
   "cell_type": "markdown",
   "id": "75197883",
   "metadata": {},
   "source": [
    "Split dataframe into dataset for training and dataset for validation"
   ]
  },
  {
   "cell_type": "code",
   "execution_count": null,
   "id": "dd2dc510",
   "metadata": {},
   "outputs": [],
   "source": [
    "X_, X_val, y_, y_val = train_test_split(\n",
    "    df_preprocess.drop(columns=['fail_type__Target']), \n",
    "    df_preprocess['fail_type__Target'], \n",
    "    test_size=0.2,\n",
    "    stratify=df_preprocess['fail_type__Target'],\n",
    "    random_state=42)"
   ]
  },
  {
   "cell_type": "code",
   "execution_count": null,
   "id": "708499b4",
   "metadata": {},
   "outputs": [],
   "source": [
    "df_train = pd.concat([X_, y_], axis=1)\n",
    "df_val = pd.concat([X_val, y_val], axis=1)"
   ]
  },
  {
   "cell_type": "markdown",
   "id": "008995da",
   "metadata": {},
   "source": [
    "Save dataframe"
   ]
  },
  {
   "cell_type": "code",
   "execution_count": null,
   "id": "d0b6bae0d87af516",
   "metadata": {
    "ExecuteTime": {
     "end_time": "2023-11-22T21:45:10.241504500Z",
     "start_time": "2023-11-22T21:45:10.098990100Z"
    },
    "collapsed": false
   },
   "outputs": [],
   "source": [
    "df_train.to_csv('../data/predictive_maintenance_preprocess.csv')\n",
    "df_val.to_csv('../data/predictive_maintenance_validation.csv')"
   ]
  },
  {
   "cell_type": "markdown",
   "id": "326df2ac",
   "metadata": {},
   "source": [
    "Save dictionary of target"
   ]
  },
  {
   "cell_type": "code",
   "execution_count": null,
   "id": "67bc9496",
   "metadata": {},
   "outputs": [],
   "source": [
    "with open('../data/dict_target.json', 'w') as f:\n",
    "    json.dump(dict_target_inv, f)"
   ]
  }
 ],
 "metadata": {
  "kernelspec": {
   "display_name": "Python 3",
   "language": "python",
   "name": "python3"
  },
  "language_info": {
   "codemirror_mode": {
    "name": "ipython",
    "version": 3
   },
   "file_extension": ".py",
   "mimetype": "text/x-python",
   "name": "python",
   "nbconvert_exporter": "python",
   "pygments_lexer": "ipython3",
   "version": "3.10.13"
  }
 },
 "nbformat": 4,
 "nbformat_minor": 5
}
