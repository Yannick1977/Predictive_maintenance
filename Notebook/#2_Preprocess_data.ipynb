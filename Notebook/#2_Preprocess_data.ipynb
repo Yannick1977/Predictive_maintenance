{
 "cells": [
  {
   "cell_type": "markdown",
   "id": "9d997e91",
   "metadata": {},
   "source": [
    "# Todo List\n",
    "\n",
    "- [x] completer le fichier function_preprocess\n",
    "- [x] importer le preprocess qui reste dans #3\n",
    "- [x] dans function_preprocess, reprendre le traitement de failure_type\n",
    "- [ ]\n",
    "- [ ] "
   ]
  },
  {
   "cell_type": "markdown",
   "id": "b56dfaaf",
   "metadata": {},
   "source": [
    "_____________________________________________________________________________________________________________"
   ]
  },
  {
   "cell_type": "code",
   "execution_count": 1,
   "id": "79b41544",
   "metadata": {
    "ExecuteTime": {
     "end_time": "2023-12-17T21:02:51.412828100Z",
     "start_time": "2023-12-17T21:02:48.849560700Z"
    }
   },
   "outputs": [
    {
     "ename": "AttributeError",
     "evalue": "'NoneType' object has no attribute 'split'",
     "output_type": "error",
     "traceback": [
      "\u001B[1;31m---------------------------------------------------------------------------\u001B[0m",
      "\u001B[1;31mAttributeError\u001B[0m                            Traceback (most recent call last)",
      "Cell \u001B[1;32mIn[1], line 12\u001B[0m\n\u001B[0;32m      8\u001B[0m \u001B[38;5;28;01mfrom\u001B[39;00m \u001B[38;5;21;01mFunction_preprocess\u001B[39;00m \u001B[38;5;28;01mimport\u001B[39;00m preprocess\n\u001B[0;32m     10\u001B[0m df \u001B[38;5;241m=\u001B[39m pd\u001B[38;5;241m.\u001B[39mread_csv(FILE_PATH, index_col\u001B[38;5;241m=\u001B[39m\u001B[38;5;124m'\u001B[39m\u001B[38;5;124mUDI\u001B[39m\u001B[38;5;124m'\u001B[39m)\n\u001B[1;32m---> 12\u001B[0m df_train, df_test, dict_target \u001B[38;5;241m=\u001B[39m \u001B[43mpreprocess\u001B[49m\u001B[43m(\u001B[49m\u001B[43mdf\u001B[49m\u001B[43m)\u001B[49m\n",
      "File \u001B[1;32m~\\OneDrive\\Documents\\GitHub\\Predictive_maintenance\\Predictive_maintenance\\Notebook\\../Src\\Function_preprocess.py:77\u001B[0m, in \u001B[0;36mpreprocess\u001B[1;34m(df_)\u001B[0m\n\u001B[0;32m     75\u001B[0m \u001B[38;5;66;03m# Apply SMOTE to the dataset train and test\u001B[39;00m\n\u001B[0;32m     76\u001B[0m X_train_res_, y_train_res_ \u001B[38;5;241m=\u001B[39m apply_smote(X_\u001B[38;5;241m=\u001B[39mX_train_trans, y_\u001B[38;5;241m=\u001B[39my_train_trans)\n\u001B[1;32m---> 77\u001B[0m X_test_res_, y_test_res_ \u001B[38;5;241m=\u001B[39m \u001B[43mapply_smote\u001B[49m\u001B[43m(\u001B[49m\u001B[43mX_\u001B[49m\u001B[38;5;241;43m=\u001B[39;49m\u001B[43mX_test_trans\u001B[49m\u001B[43m,\u001B[49m\u001B[43m \u001B[49m\u001B[43my_\u001B[49m\u001B[38;5;241;43m=\u001B[39;49m\u001B[43my_test_trans\u001B[49m\u001B[43m)\u001B[49m\n\u001B[0;32m     80\u001B[0m \u001B[38;5;66;03m# Save the train and test dataset\u001B[39;00m\n\u001B[0;32m     81\u001B[0m df_train \u001B[38;5;241m=\u001B[39m create_df_from_X_y(X_\u001B[38;5;241m=\u001B[39mX_train_res_, y_\u001B[38;5;241m=\u001B[39my_train_res_, columns_y\u001B[38;5;241m=\u001B[39mdict_target_inv_\u001B[38;5;241m.\u001B[39mvalues())\n",
      "File \u001B[1;32m~\\OneDrive\\Documents\\GitHub\\Predictive_maintenance\\Predictive_maintenance\\Notebook\\../Src\\Function_preprocess.py:110\u001B[0m, in \u001B[0;36mapply_smote\u001B[1;34m(X_, y_)\u001B[0m\n\u001B[0;32m    108\u001B[0m \u001B[38;5;28;01mdef\u001B[39;00m \u001B[38;5;21mapply_smote\u001B[39m(X_,y_):\n\u001B[0;32m    109\u001B[0m     smote \u001B[38;5;241m=\u001B[39m SMOTE(random_state\u001B[38;5;241m=\u001B[39m\u001B[38;5;241m12\u001B[39m)\n\u001B[1;32m--> 110\u001B[0m     X_resampled_, y_resampled_ \u001B[38;5;241m=\u001B[39m \u001B[43msmote\u001B[49m\u001B[38;5;241;43m.\u001B[39;49m\u001B[43mfit_resample\u001B[49m\u001B[43m(\u001B[49m\u001B[43mX_\u001B[49m\u001B[38;5;241;43m.\u001B[39;49m\u001B[43mto_numpy\u001B[49m\u001B[43m(\u001B[49m\u001B[43m)\u001B[49m\u001B[43m,\u001B[49m\u001B[43m \u001B[49m\u001B[43my_\u001B[49m\u001B[38;5;241;43m.\u001B[39;49m\u001B[43mto_numpy\u001B[49m\u001B[43m(\u001B[49m\u001B[43m)\u001B[49m\u001B[43m)\u001B[49m\n\u001B[0;32m    112\u001B[0m     X_resampled_\u001B[38;5;241m=\u001B[39m pd\u001B[38;5;241m.\u001B[39mDataFrame(X_resampled_)\n\u001B[0;32m    113\u001B[0m     X_resampled_\u001B[38;5;241m.\u001B[39mcolumns \u001B[38;5;241m=\u001B[39m X_\u001B[38;5;241m.\u001B[39mcolumns\n",
      "File \u001B[1;32m~\\anaconda3\\envs\\python_3_10\\lib\\site-packages\\imblearn\\base.py:203\u001B[0m, in \u001B[0;36mBaseSampler.fit_resample\u001B[1;34m(self, X, y)\u001B[0m\n\u001B[0;32m    182\u001B[0m \u001B[38;5;250m\u001B[39m\u001B[38;5;124;03m\"\"\"Resample the dataset.\u001B[39;00m\n\u001B[0;32m    183\u001B[0m \n\u001B[0;32m    184\u001B[0m \u001B[38;5;124;03mParameters\u001B[39;00m\n\u001B[1;32m   (...)\u001B[0m\n\u001B[0;32m    200\u001B[0m \u001B[38;5;124;03m    The corresponding label of `X_resampled`.\u001B[39;00m\n\u001B[0;32m    201\u001B[0m \u001B[38;5;124;03m\"\"\"\u001B[39;00m\n\u001B[0;32m    202\u001B[0m \u001B[38;5;28mself\u001B[39m\u001B[38;5;241m.\u001B[39m_validate_params()\n\u001B[1;32m--> 203\u001B[0m \u001B[38;5;28;01mreturn\u001B[39;00m \u001B[38;5;28;43msuper\u001B[39;49m\u001B[43m(\u001B[49m\u001B[43m)\u001B[49m\u001B[38;5;241;43m.\u001B[39;49m\u001B[43mfit_resample\u001B[49m\u001B[43m(\u001B[49m\u001B[43mX\u001B[49m\u001B[43m,\u001B[49m\u001B[43m \u001B[49m\u001B[43my\u001B[49m\u001B[43m)\u001B[49m\n",
      "File \u001B[1;32m~\\anaconda3\\envs\\python_3_10\\lib\\site-packages\\imblearn\\base.py:88\u001B[0m, in \u001B[0;36mSamplerMixin.fit_resample\u001B[1;34m(self, X, y)\u001B[0m\n\u001B[0;32m     82\u001B[0m X, y, binarize_y \u001B[38;5;241m=\u001B[39m \u001B[38;5;28mself\u001B[39m\u001B[38;5;241m.\u001B[39m_check_X_y(X, y)\n\u001B[0;32m     84\u001B[0m \u001B[38;5;28mself\u001B[39m\u001B[38;5;241m.\u001B[39msampling_strategy_ \u001B[38;5;241m=\u001B[39m check_sampling_strategy(\n\u001B[0;32m     85\u001B[0m     \u001B[38;5;28mself\u001B[39m\u001B[38;5;241m.\u001B[39msampling_strategy, y, \u001B[38;5;28mself\u001B[39m\u001B[38;5;241m.\u001B[39m_sampling_type\n\u001B[0;32m     86\u001B[0m )\n\u001B[1;32m---> 88\u001B[0m output \u001B[38;5;241m=\u001B[39m \u001B[38;5;28;43mself\u001B[39;49m\u001B[38;5;241;43m.\u001B[39;49m\u001B[43m_fit_resample\u001B[49m\u001B[43m(\u001B[49m\u001B[43mX\u001B[49m\u001B[43m,\u001B[49m\u001B[43m \u001B[49m\u001B[43my\u001B[49m\u001B[43m)\u001B[49m\n\u001B[0;32m     90\u001B[0m y_ \u001B[38;5;241m=\u001B[39m (\n\u001B[0;32m     91\u001B[0m     label_binarize(output[\u001B[38;5;241m1\u001B[39m], classes\u001B[38;5;241m=\u001B[39mnp\u001B[38;5;241m.\u001B[39munique(y)) \u001B[38;5;28;01mif\u001B[39;00m binarize_y \u001B[38;5;28;01melse\u001B[39;00m output[\u001B[38;5;241m1\u001B[39m]\n\u001B[0;32m     92\u001B[0m )\n\u001B[0;32m     94\u001B[0m X_, y_ \u001B[38;5;241m=\u001B[39m arrays_transformer\u001B[38;5;241m.\u001B[39mtransform(output[\u001B[38;5;241m0\u001B[39m], y_)\n",
      "File \u001B[1;32m~\\anaconda3\\envs\\python_3_10\\lib\\site-packages\\imblearn\\over_sampling\\_smote\\base.py:355\u001B[0m, in \u001B[0;36mSMOTE._fit_resample\u001B[1;34m(self, X, y)\u001B[0m\n\u001B[0;32m    352\u001B[0m X_class \u001B[38;5;241m=\u001B[39m _safe_indexing(X, target_class_indices)\n\u001B[0;32m    354\u001B[0m \u001B[38;5;28mself\u001B[39m\u001B[38;5;241m.\u001B[39mnn_k_\u001B[38;5;241m.\u001B[39mfit(X_class)\n\u001B[1;32m--> 355\u001B[0m nns \u001B[38;5;241m=\u001B[39m \u001B[38;5;28;43mself\u001B[39;49m\u001B[38;5;241;43m.\u001B[39;49m\u001B[43mnn_k_\u001B[49m\u001B[38;5;241;43m.\u001B[39;49m\u001B[43mkneighbors\u001B[49m\u001B[43m(\u001B[49m\u001B[43mX_class\u001B[49m\u001B[43m,\u001B[49m\u001B[43m \u001B[49m\u001B[43mreturn_distance\u001B[49m\u001B[38;5;241;43m=\u001B[39;49m\u001B[38;5;28;43;01mFalse\u001B[39;49;00m\u001B[43m)\u001B[49m[:, \u001B[38;5;241m1\u001B[39m:]\n\u001B[0;32m    356\u001B[0m X_new, y_new \u001B[38;5;241m=\u001B[39m \u001B[38;5;28mself\u001B[39m\u001B[38;5;241m.\u001B[39m_make_samples(\n\u001B[0;32m    357\u001B[0m     X_class, y\u001B[38;5;241m.\u001B[39mdtype, class_sample, X_class, nns, n_samples, \u001B[38;5;241m1.0\u001B[39m\n\u001B[0;32m    358\u001B[0m )\n\u001B[0;32m    359\u001B[0m X_resampled\u001B[38;5;241m.\u001B[39mappend(X_new)\n",
      "File \u001B[1;32m~\\anaconda3\\envs\\python_3_10\\lib\\site-packages\\sklearn\\neighbors\\_base.py:824\u001B[0m, in \u001B[0;36mKNeighborsMixin.kneighbors\u001B[1;34m(self, X, n_neighbors, return_distance)\u001B[0m\n\u001B[0;32m    817\u001B[0m use_pairwise_distances_reductions \u001B[38;5;241m=\u001B[39m (\n\u001B[0;32m    818\u001B[0m     \u001B[38;5;28mself\u001B[39m\u001B[38;5;241m.\u001B[39m_fit_method \u001B[38;5;241m==\u001B[39m \u001B[38;5;124m\"\u001B[39m\u001B[38;5;124mbrute\u001B[39m\u001B[38;5;124m\"\u001B[39m\n\u001B[0;32m    819\u001B[0m     \u001B[38;5;129;01mand\u001B[39;00m ArgKmin\u001B[38;5;241m.\u001B[39mis_usable_for(\n\u001B[0;32m    820\u001B[0m         X \u001B[38;5;28;01mif\u001B[39;00m X \u001B[38;5;129;01mis\u001B[39;00m \u001B[38;5;129;01mnot\u001B[39;00m \u001B[38;5;28;01mNone\u001B[39;00m \u001B[38;5;28;01melse\u001B[39;00m \u001B[38;5;28mself\u001B[39m\u001B[38;5;241m.\u001B[39m_fit_X, \u001B[38;5;28mself\u001B[39m\u001B[38;5;241m.\u001B[39m_fit_X, \u001B[38;5;28mself\u001B[39m\u001B[38;5;241m.\u001B[39meffective_metric_\n\u001B[0;32m    821\u001B[0m     )\n\u001B[0;32m    822\u001B[0m )\n\u001B[0;32m    823\u001B[0m \u001B[38;5;28;01mif\u001B[39;00m use_pairwise_distances_reductions:\n\u001B[1;32m--> 824\u001B[0m     results \u001B[38;5;241m=\u001B[39m \u001B[43mArgKmin\u001B[49m\u001B[38;5;241;43m.\u001B[39;49m\u001B[43mcompute\u001B[49m\u001B[43m(\u001B[49m\n\u001B[0;32m    825\u001B[0m \u001B[43m        \u001B[49m\u001B[43mX\u001B[49m\u001B[38;5;241;43m=\u001B[39;49m\u001B[43mX\u001B[49m\u001B[43m,\u001B[49m\n\u001B[0;32m    826\u001B[0m \u001B[43m        \u001B[49m\u001B[43mY\u001B[49m\u001B[38;5;241;43m=\u001B[39;49m\u001B[38;5;28;43mself\u001B[39;49m\u001B[38;5;241;43m.\u001B[39;49m\u001B[43m_fit_X\u001B[49m\u001B[43m,\u001B[49m\n\u001B[0;32m    827\u001B[0m \u001B[43m        \u001B[49m\u001B[43mk\u001B[49m\u001B[38;5;241;43m=\u001B[39;49m\u001B[43mn_neighbors\u001B[49m\u001B[43m,\u001B[49m\n\u001B[0;32m    828\u001B[0m \u001B[43m        \u001B[49m\u001B[43mmetric\u001B[49m\u001B[38;5;241;43m=\u001B[39;49m\u001B[38;5;28;43mself\u001B[39;49m\u001B[38;5;241;43m.\u001B[39;49m\u001B[43meffective_metric_\u001B[49m\u001B[43m,\u001B[49m\n\u001B[0;32m    829\u001B[0m \u001B[43m        \u001B[49m\u001B[43mmetric_kwargs\u001B[49m\u001B[38;5;241;43m=\u001B[39;49m\u001B[38;5;28;43mself\u001B[39;49m\u001B[38;5;241;43m.\u001B[39;49m\u001B[43meffective_metric_params_\u001B[49m\u001B[43m,\u001B[49m\n\u001B[0;32m    830\u001B[0m \u001B[43m        \u001B[49m\u001B[43mstrategy\u001B[49m\u001B[38;5;241;43m=\u001B[39;49m\u001B[38;5;124;43m\"\u001B[39;49m\u001B[38;5;124;43mauto\u001B[39;49m\u001B[38;5;124;43m\"\u001B[39;49m\u001B[43m,\u001B[49m\n\u001B[0;32m    831\u001B[0m \u001B[43m        \u001B[49m\u001B[43mreturn_distance\u001B[49m\u001B[38;5;241;43m=\u001B[39;49m\u001B[43mreturn_distance\u001B[49m\u001B[43m,\u001B[49m\n\u001B[0;32m    832\u001B[0m \u001B[43m    \u001B[49m\u001B[43m)\u001B[49m\n\u001B[0;32m    834\u001B[0m \u001B[38;5;28;01melif\u001B[39;00m (\n\u001B[0;32m    835\u001B[0m     \u001B[38;5;28mself\u001B[39m\u001B[38;5;241m.\u001B[39m_fit_method \u001B[38;5;241m==\u001B[39m \u001B[38;5;124m\"\u001B[39m\u001B[38;5;124mbrute\u001B[39m\u001B[38;5;124m\"\u001B[39m \u001B[38;5;129;01mand\u001B[39;00m \u001B[38;5;28mself\u001B[39m\u001B[38;5;241m.\u001B[39mmetric \u001B[38;5;241m==\u001B[39m \u001B[38;5;124m\"\u001B[39m\u001B[38;5;124mprecomputed\u001B[39m\u001B[38;5;124m\"\u001B[39m \u001B[38;5;129;01mand\u001B[39;00m issparse(X)\n\u001B[0;32m    836\u001B[0m ):\n\u001B[0;32m    837\u001B[0m     results \u001B[38;5;241m=\u001B[39m _kneighbors_from_graph(\n\u001B[0;32m    838\u001B[0m         X, n_neighbors\u001B[38;5;241m=\u001B[39mn_neighbors, return_distance\u001B[38;5;241m=\u001B[39mreturn_distance\n\u001B[0;32m    839\u001B[0m     )\n",
      "File \u001B[1;32m~\\anaconda3\\envs\\python_3_10\\lib\\site-packages\\sklearn\\metrics\\_pairwise_distances_reduction\\_dispatcher.py:277\u001B[0m, in \u001B[0;36mArgKmin.compute\u001B[1;34m(cls, X, Y, k, metric, chunk_size, metric_kwargs, strategy, return_distance)\u001B[0m\n\u001B[0;32m    196\u001B[0m \u001B[38;5;250m\u001B[39m\u001B[38;5;124;03m\"\"\"Compute the argkmin reduction.\u001B[39;00m\n\u001B[0;32m    197\u001B[0m \n\u001B[0;32m    198\u001B[0m \u001B[38;5;124;03mParameters\u001B[39;00m\n\u001B[1;32m   (...)\u001B[0m\n\u001B[0;32m    274\u001B[0m \u001B[38;5;124;03mreturns.\u001B[39;00m\n\u001B[0;32m    275\u001B[0m \u001B[38;5;124;03m\"\"\"\u001B[39;00m\n\u001B[0;32m    276\u001B[0m \u001B[38;5;28;01mif\u001B[39;00m X\u001B[38;5;241m.\u001B[39mdtype \u001B[38;5;241m==\u001B[39m Y\u001B[38;5;241m.\u001B[39mdtype \u001B[38;5;241m==\u001B[39m np\u001B[38;5;241m.\u001B[39mfloat64:\n\u001B[1;32m--> 277\u001B[0m     \u001B[38;5;28;01mreturn\u001B[39;00m \u001B[43mArgKmin64\u001B[49m\u001B[38;5;241;43m.\u001B[39;49m\u001B[43mcompute\u001B[49m\u001B[43m(\u001B[49m\n\u001B[0;32m    278\u001B[0m \u001B[43m        \u001B[49m\u001B[43mX\u001B[49m\u001B[38;5;241;43m=\u001B[39;49m\u001B[43mX\u001B[49m\u001B[43m,\u001B[49m\n\u001B[0;32m    279\u001B[0m \u001B[43m        \u001B[49m\u001B[43mY\u001B[49m\u001B[38;5;241;43m=\u001B[39;49m\u001B[43mY\u001B[49m\u001B[43m,\u001B[49m\n\u001B[0;32m    280\u001B[0m \u001B[43m        \u001B[49m\u001B[43mk\u001B[49m\u001B[38;5;241;43m=\u001B[39;49m\u001B[43mk\u001B[49m\u001B[43m,\u001B[49m\n\u001B[0;32m    281\u001B[0m \u001B[43m        \u001B[49m\u001B[43mmetric\u001B[49m\u001B[38;5;241;43m=\u001B[39;49m\u001B[43mmetric\u001B[49m\u001B[43m,\u001B[49m\n\u001B[0;32m    282\u001B[0m \u001B[43m        \u001B[49m\u001B[43mchunk_size\u001B[49m\u001B[38;5;241;43m=\u001B[39;49m\u001B[43mchunk_size\u001B[49m\u001B[43m,\u001B[49m\n\u001B[0;32m    283\u001B[0m \u001B[43m        \u001B[49m\u001B[43mmetric_kwargs\u001B[49m\u001B[38;5;241;43m=\u001B[39;49m\u001B[43mmetric_kwargs\u001B[49m\u001B[43m,\u001B[49m\n\u001B[0;32m    284\u001B[0m \u001B[43m        \u001B[49m\u001B[43mstrategy\u001B[49m\u001B[38;5;241;43m=\u001B[39;49m\u001B[43mstrategy\u001B[49m\u001B[43m,\u001B[49m\n\u001B[0;32m    285\u001B[0m \u001B[43m        \u001B[49m\u001B[43mreturn_distance\u001B[49m\u001B[38;5;241;43m=\u001B[39;49m\u001B[43mreturn_distance\u001B[49m\u001B[43m,\u001B[49m\n\u001B[0;32m    286\u001B[0m \u001B[43m    \u001B[49m\u001B[43m)\u001B[49m\n\u001B[0;32m    288\u001B[0m \u001B[38;5;28;01mif\u001B[39;00m X\u001B[38;5;241m.\u001B[39mdtype \u001B[38;5;241m==\u001B[39m Y\u001B[38;5;241m.\u001B[39mdtype \u001B[38;5;241m==\u001B[39m np\u001B[38;5;241m.\u001B[39mfloat32:\n\u001B[0;32m    289\u001B[0m     \u001B[38;5;28;01mreturn\u001B[39;00m ArgKmin32\u001B[38;5;241m.\u001B[39mcompute(\n\u001B[0;32m    290\u001B[0m         X\u001B[38;5;241m=\u001B[39mX,\n\u001B[0;32m    291\u001B[0m         Y\u001B[38;5;241m=\u001B[39mY,\n\u001B[1;32m   (...)\u001B[0m\n\u001B[0;32m    297\u001B[0m         return_distance\u001B[38;5;241m=\u001B[39mreturn_distance,\n\u001B[0;32m    298\u001B[0m     )\n",
      "File \u001B[1;32msklearn\\metrics\\_pairwise_distances_reduction\\_argkmin.pyx:95\u001B[0m, in \u001B[0;36msklearn.metrics._pairwise_distances_reduction._argkmin.ArgKmin64.compute\u001B[1;34m()\u001B[0m\n",
      "File \u001B[1;32m~\\anaconda3\\envs\\python_3_10\\lib\\site-packages\\sklearn\\utils\\fixes.py:139\u001B[0m, in \u001B[0;36mthreadpool_limits\u001B[1;34m(limits, user_api)\u001B[0m\n\u001B[0;32m    137\u001B[0m     \u001B[38;5;28;01mreturn\u001B[39;00m controller\u001B[38;5;241m.\u001B[39mlimit(limits\u001B[38;5;241m=\u001B[39mlimits, user_api\u001B[38;5;241m=\u001B[39muser_api)\n\u001B[0;32m    138\u001B[0m \u001B[38;5;28;01melse\u001B[39;00m:\n\u001B[1;32m--> 139\u001B[0m     \u001B[38;5;28;01mreturn\u001B[39;00m \u001B[43mthreadpoolctl\u001B[49m\u001B[38;5;241;43m.\u001B[39;49m\u001B[43mthreadpool_limits\u001B[49m\u001B[43m(\u001B[49m\u001B[43mlimits\u001B[49m\u001B[38;5;241;43m=\u001B[39;49m\u001B[43mlimits\u001B[49m\u001B[43m,\u001B[49m\u001B[43m \u001B[49m\u001B[43muser_api\u001B[49m\u001B[38;5;241;43m=\u001B[39;49m\u001B[43muser_api\u001B[49m\u001B[43m)\u001B[49m\n",
      "File \u001B[1;32m~\\anaconda3\\envs\\python_3_10\\lib\\site-packages\\threadpoolctl.py:171\u001B[0m, in \u001B[0;36mthreadpool_limits.__init__\u001B[1;34m(self, limits, user_api)\u001B[0m\n\u001B[0;32m    167\u001B[0m \u001B[38;5;28;01mdef\u001B[39;00m \u001B[38;5;21m__init__\u001B[39m(\u001B[38;5;28mself\u001B[39m, limits\u001B[38;5;241m=\u001B[39m\u001B[38;5;28;01mNone\u001B[39;00m, user_api\u001B[38;5;241m=\u001B[39m\u001B[38;5;28;01mNone\u001B[39;00m):\n\u001B[0;32m    168\u001B[0m     \u001B[38;5;28mself\u001B[39m\u001B[38;5;241m.\u001B[39m_limits, \u001B[38;5;28mself\u001B[39m\u001B[38;5;241m.\u001B[39m_user_api, \u001B[38;5;28mself\u001B[39m\u001B[38;5;241m.\u001B[39m_prefixes \u001B[38;5;241m=\u001B[39m \\\n\u001B[0;32m    169\u001B[0m         \u001B[38;5;28mself\u001B[39m\u001B[38;5;241m.\u001B[39m_check_params(limits, user_api)\n\u001B[1;32m--> 171\u001B[0m     \u001B[38;5;28mself\u001B[39m\u001B[38;5;241m.\u001B[39m_original_info \u001B[38;5;241m=\u001B[39m \u001B[38;5;28;43mself\u001B[39;49m\u001B[38;5;241;43m.\u001B[39;49m\u001B[43m_set_threadpool_limits\u001B[49m\u001B[43m(\u001B[49m\u001B[43m)\u001B[49m\n",
      "File \u001B[1;32m~\\anaconda3\\envs\\python_3_10\\lib\\site-packages\\threadpoolctl.py:268\u001B[0m, in \u001B[0;36mthreadpool_limits._set_threadpool_limits\u001B[1;34m(self)\u001B[0m\n\u001B[0;32m    265\u001B[0m \u001B[38;5;28;01mif\u001B[39;00m \u001B[38;5;28mself\u001B[39m\u001B[38;5;241m.\u001B[39m_limits \u001B[38;5;129;01mis\u001B[39;00m \u001B[38;5;28;01mNone\u001B[39;00m:\n\u001B[0;32m    266\u001B[0m     \u001B[38;5;28;01mreturn\u001B[39;00m \u001B[38;5;28;01mNone\u001B[39;00m\n\u001B[1;32m--> 268\u001B[0m modules \u001B[38;5;241m=\u001B[39m \u001B[43m_ThreadpoolInfo\u001B[49m\u001B[43m(\u001B[49m\u001B[43mprefixes\u001B[49m\u001B[38;5;241;43m=\u001B[39;49m\u001B[38;5;28;43mself\u001B[39;49m\u001B[38;5;241;43m.\u001B[39;49m\u001B[43m_prefixes\u001B[49m\u001B[43m,\u001B[49m\n\u001B[0;32m    269\u001B[0m \u001B[43m                          \u001B[49m\u001B[43muser_api\u001B[49m\u001B[38;5;241;43m=\u001B[39;49m\u001B[38;5;28;43mself\u001B[39;49m\u001B[38;5;241;43m.\u001B[39;49m\u001B[43m_user_api\u001B[49m\u001B[43m)\u001B[49m\n\u001B[0;32m    270\u001B[0m \u001B[38;5;28;01mfor\u001B[39;00m module \u001B[38;5;129;01min\u001B[39;00m modules:\n\u001B[0;32m    271\u001B[0m     \u001B[38;5;66;03m# self._limits is a dict {key: num_threads} where key is either\u001B[39;00m\n\u001B[0;32m    272\u001B[0m     \u001B[38;5;66;03m# a prefix or a user_api. If a module matches both, the limit\u001B[39;00m\n\u001B[0;32m    273\u001B[0m     \u001B[38;5;66;03m# corresponding to the prefix is chosed.\u001B[39;00m\n\u001B[0;32m    274\u001B[0m     \u001B[38;5;28;01mif\u001B[39;00m module\u001B[38;5;241m.\u001B[39mprefix \u001B[38;5;129;01min\u001B[39;00m \u001B[38;5;28mself\u001B[39m\u001B[38;5;241m.\u001B[39m_limits:\n",
      "File \u001B[1;32m~\\anaconda3\\envs\\python_3_10\\lib\\site-packages\\threadpoolctl.py:340\u001B[0m, in \u001B[0;36m_ThreadpoolInfo.__init__\u001B[1;34m(self, user_api, prefixes, modules)\u001B[0m\n\u001B[0;32m    337\u001B[0m     \u001B[38;5;28mself\u001B[39m\u001B[38;5;241m.\u001B[39muser_api \u001B[38;5;241m=\u001B[39m [] \u001B[38;5;28;01mif\u001B[39;00m user_api \u001B[38;5;129;01mis\u001B[39;00m \u001B[38;5;28;01mNone\u001B[39;00m \u001B[38;5;28;01melse\u001B[39;00m user_api\n\u001B[0;32m    339\u001B[0m     \u001B[38;5;28mself\u001B[39m\u001B[38;5;241m.\u001B[39mmodules \u001B[38;5;241m=\u001B[39m []\n\u001B[1;32m--> 340\u001B[0m     \u001B[38;5;28;43mself\u001B[39;49m\u001B[38;5;241;43m.\u001B[39;49m\u001B[43m_load_modules\u001B[49m\u001B[43m(\u001B[49m\u001B[43m)\u001B[49m\n\u001B[0;32m    341\u001B[0m     \u001B[38;5;28mself\u001B[39m\u001B[38;5;241m.\u001B[39m_warn_if_incompatible_openmp()\n\u001B[0;32m    342\u001B[0m \u001B[38;5;28;01melse\u001B[39;00m:\n",
      "File \u001B[1;32m~\\anaconda3\\envs\\python_3_10\\lib\\site-packages\\threadpoolctl.py:373\u001B[0m, in \u001B[0;36m_ThreadpoolInfo._load_modules\u001B[1;34m(self)\u001B[0m\n\u001B[0;32m    371\u001B[0m     \u001B[38;5;28mself\u001B[39m\u001B[38;5;241m.\u001B[39m_find_modules_with_dyld()\n\u001B[0;32m    372\u001B[0m \u001B[38;5;28;01melif\u001B[39;00m sys\u001B[38;5;241m.\u001B[39mplatform \u001B[38;5;241m==\u001B[39m \u001B[38;5;124m\"\u001B[39m\u001B[38;5;124mwin32\u001B[39m\u001B[38;5;124m\"\u001B[39m:\n\u001B[1;32m--> 373\u001B[0m     \u001B[38;5;28;43mself\u001B[39;49m\u001B[38;5;241;43m.\u001B[39;49m\u001B[43m_find_modules_with_enum_process_module_ex\u001B[49m\u001B[43m(\u001B[49m\u001B[43m)\u001B[49m\n\u001B[0;32m    374\u001B[0m \u001B[38;5;28;01melse\u001B[39;00m:\n\u001B[0;32m    375\u001B[0m     \u001B[38;5;28mself\u001B[39m\u001B[38;5;241m.\u001B[39m_find_modules_with_dl_iterate_phdr()\n",
      "File \u001B[1;32m~\\anaconda3\\envs\\python_3_10\\lib\\site-packages\\threadpoolctl.py:485\u001B[0m, in \u001B[0;36m_ThreadpoolInfo._find_modules_with_enum_process_module_ex\u001B[1;34m(self)\u001B[0m\n\u001B[0;32m    482\u001B[0m         filepath \u001B[38;5;241m=\u001B[39m buf\u001B[38;5;241m.\u001B[39mvalue\n\u001B[0;32m    484\u001B[0m         \u001B[38;5;66;03m# Store the module if it is supported and selected\u001B[39;00m\n\u001B[1;32m--> 485\u001B[0m         \u001B[38;5;28;43mself\u001B[39;49m\u001B[38;5;241;43m.\u001B[39;49m\u001B[43m_make_module_from_path\u001B[49m\u001B[43m(\u001B[49m\u001B[43mfilepath\u001B[49m\u001B[43m)\u001B[49m\n\u001B[0;32m    486\u001B[0m \u001B[38;5;28;01mfinally\u001B[39;00m:\n\u001B[0;32m    487\u001B[0m     kernel_32\u001B[38;5;241m.\u001B[39mCloseHandle(h_process)\n",
      "File \u001B[1;32m~\\anaconda3\\envs\\python_3_10\\lib\\site-packages\\threadpoolctl.py:515\u001B[0m, in \u001B[0;36m_ThreadpoolInfo._make_module_from_path\u001B[1;34m(self, filepath)\u001B[0m\n\u001B[0;32m    513\u001B[0m \u001B[38;5;28;01mif\u001B[39;00m prefix \u001B[38;5;129;01min\u001B[39;00m \u001B[38;5;28mself\u001B[39m\u001B[38;5;241m.\u001B[39mprefixes \u001B[38;5;129;01mor\u001B[39;00m user_api \u001B[38;5;129;01min\u001B[39;00m \u001B[38;5;28mself\u001B[39m\u001B[38;5;241m.\u001B[39muser_api:\n\u001B[0;32m    514\u001B[0m     module_class \u001B[38;5;241m=\u001B[39m \u001B[38;5;28mglobals\u001B[39m()[module_class]\n\u001B[1;32m--> 515\u001B[0m     module \u001B[38;5;241m=\u001B[39m \u001B[43mmodule_class\u001B[49m\u001B[43m(\u001B[49m\u001B[43mfilepath\u001B[49m\u001B[43m,\u001B[49m\u001B[43m \u001B[49m\u001B[43mprefix\u001B[49m\u001B[43m,\u001B[49m\u001B[43m \u001B[49m\u001B[43muser_api\u001B[49m\u001B[43m,\u001B[49m\u001B[43m \u001B[49m\u001B[43minternal_api\u001B[49m\u001B[43m)\u001B[49m\n\u001B[0;32m    516\u001B[0m     \u001B[38;5;28mself\u001B[39m\u001B[38;5;241m.\u001B[39mmodules\u001B[38;5;241m.\u001B[39mappend(module)\n",
      "File \u001B[1;32m~\\anaconda3\\envs\\python_3_10\\lib\\site-packages\\threadpoolctl.py:606\u001B[0m, in \u001B[0;36m_Module.__init__\u001B[1;34m(self, filepath, prefix, user_api, internal_api)\u001B[0m\n\u001B[0;32m    604\u001B[0m \u001B[38;5;28mself\u001B[39m\u001B[38;5;241m.\u001B[39minternal_api \u001B[38;5;241m=\u001B[39m internal_api\n\u001B[0;32m    605\u001B[0m \u001B[38;5;28mself\u001B[39m\u001B[38;5;241m.\u001B[39m_dynlib \u001B[38;5;241m=\u001B[39m ctypes\u001B[38;5;241m.\u001B[39mCDLL(filepath, mode\u001B[38;5;241m=\u001B[39m_RTLD_NOLOAD)\n\u001B[1;32m--> 606\u001B[0m \u001B[38;5;28mself\u001B[39m\u001B[38;5;241m.\u001B[39mversion \u001B[38;5;241m=\u001B[39m \u001B[38;5;28;43mself\u001B[39;49m\u001B[38;5;241;43m.\u001B[39;49m\u001B[43mget_version\u001B[49m\u001B[43m(\u001B[49m\u001B[43m)\u001B[49m\n\u001B[0;32m    607\u001B[0m \u001B[38;5;28mself\u001B[39m\u001B[38;5;241m.\u001B[39mnum_threads \u001B[38;5;241m=\u001B[39m \u001B[38;5;28mself\u001B[39m\u001B[38;5;241m.\u001B[39mget_num_threads()\n\u001B[0;32m    608\u001B[0m \u001B[38;5;28mself\u001B[39m\u001B[38;5;241m.\u001B[39m_get_extra_info()\n",
      "File \u001B[1;32m~\\anaconda3\\envs\\python_3_10\\lib\\site-packages\\threadpoolctl.py:646\u001B[0m, in \u001B[0;36m_OpenBLASModule.get_version\u001B[1;34m(self)\u001B[0m\n\u001B[0;32m    643\u001B[0m get_config \u001B[38;5;241m=\u001B[39m \u001B[38;5;28mgetattr\u001B[39m(\u001B[38;5;28mself\u001B[39m\u001B[38;5;241m.\u001B[39m_dynlib, \u001B[38;5;124m\"\u001B[39m\u001B[38;5;124mopenblas_get_config\u001B[39m\u001B[38;5;124m\"\u001B[39m,\n\u001B[0;32m    644\u001B[0m                      \u001B[38;5;28;01mlambda\u001B[39;00m: \u001B[38;5;28;01mNone\u001B[39;00m)\n\u001B[0;32m    645\u001B[0m get_config\u001B[38;5;241m.\u001B[39mrestype \u001B[38;5;241m=\u001B[39m ctypes\u001B[38;5;241m.\u001B[39mc_char_p\n\u001B[1;32m--> 646\u001B[0m config \u001B[38;5;241m=\u001B[39m \u001B[43mget_config\u001B[49m\u001B[43m(\u001B[49m\u001B[43m)\u001B[49m\u001B[38;5;241;43m.\u001B[39;49m\u001B[43msplit\u001B[49m()\n\u001B[0;32m    647\u001B[0m \u001B[38;5;28;01mif\u001B[39;00m config[\u001B[38;5;241m0\u001B[39m] \u001B[38;5;241m==\u001B[39m \u001B[38;5;124mb\u001B[39m\u001B[38;5;124m\"\u001B[39m\u001B[38;5;124mOpenBLAS\u001B[39m\u001B[38;5;124m\"\u001B[39m:\n\u001B[0;32m    648\u001B[0m     \u001B[38;5;28;01mreturn\u001B[39;00m config[\u001B[38;5;241m1\u001B[39m]\u001B[38;5;241m.\u001B[39mdecode(\u001B[38;5;124m\"\u001B[39m\u001B[38;5;124mutf-8\u001B[39m\u001B[38;5;124m\"\u001B[39m)\n",
      "\u001B[1;31mAttributeError\u001B[0m: 'NoneType' object has no attribute 'split'"
     ]
    }
   ],
   "source": [
    "FILE_PATH = '../data/predictive_maintenance_A.csv'\n",
    "\n",
    "import pandas as pd\n",
    "\n",
    "import sys\n",
    "sys.path.insert(0, '../Src/')\n",
    "\n",
    "from Function_preprocess import preprocess\n",
    "\n",
    "df = pd.read_csv(FILE_PATH, index_col='UDI')\n",
    "\n",
    "df_train, df_test, dict_target = preprocess(df)\n"
   ]
  },
  {
   "cell_type": "code",
   "execution_count": null,
   "id": "b2e9c2c3",
   "metadata": {},
   "outputs": [],
   "source": [
    "df_train.head()"
   ]
  },
  {
   "cell_type": "markdown",
   "id": "9fc0f779",
   "metadata": {},
   "source": [
    "_______________________________________________________________________________________________________________________"
   ]
  },
  {
   "cell_type": "markdown",
   "id": "ec7ced684e37e66d",
   "metadata": {
    "collapsed": false
   },
   "source": [
    "### Import"
   ]
  },
  {
   "cell_type": "code",
   "execution_count": 2,
   "id": "initial_id",
   "metadata": {
    "ExecuteTime": {
     "end_time": "2023-11-22T21:39:14.768353200Z",
     "start_time": "2023-11-22T21:39:14.752321200Z"
    },
    "collapsed": true
   },
   "outputs": [],
   "source": [
    "import pandas as pd\n",
    "import numpy as np\n",
    "import json\n",
    "from sklearn.preprocessing import OneHotEncoder, StandardScaler, OrdinalEncoder\n",
    "from sklearn.compose import ColumnTransformer\n",
    "from sklearn.model_selection import train_test_split\n"
   ]
  },
  {
   "cell_type": "code",
   "execution_count": 3,
   "id": "72ad8e45dd79db7c",
   "metadata": {
    "ExecuteTime": {
     "end_time": "2023-11-22T21:33:45.817126600Z",
     "start_time": "2023-11-22T21:33:45.738317Z"
    },
    "collapsed": false
   },
   "outputs": [],
   "source": [
    "import warnings\n",
    "\n",
    "warnings.filterwarnings(action='ignore')"
   ]
  },
  {
   "cell_type": "code",
   "execution_count": 4,
   "id": "aaf9b08057cf9b5b",
   "metadata": {
    "ExecuteTime": {
     "end_time": "2023-11-22T21:33:45.864928Z",
     "start_time": "2023-11-22T21:33:45.817126600Z"
    },
    "collapsed": false
   },
   "outputs": [],
   "source": [
    "FILE_PATH = '../data/predictive_maintenance_A.csv'"
   ]
  },
  {
   "cell_type": "markdown",
   "id": "b0ee217cfc755134",
   "metadata": {
    "collapsed": false
   },
   "source": [
    "### Read file data"
   ]
  },
  {
   "cell_type": "code",
   "execution_count": 5,
   "id": "4a08a3db379f1a3a",
   "metadata": {
    "ExecuteTime": {
     "end_time": "2023-11-22T21:33:45.903970400Z",
     "start_time": "2023-11-22T21:33:45.833142900Z"
    },
    "collapsed": false
   },
   "outputs": [
    {
     "data": {
      "text/html": [
       "<div>\n",
       "<style scoped>\n",
       "    .dataframe tbody tr th:only-of-type {\n",
       "        vertical-align: middle;\n",
       "    }\n",
       "\n",
       "    .dataframe tbody tr th {\n",
       "        vertical-align: top;\n",
       "    }\n",
       "\n",
       "    .dataframe thead th {\n",
       "        text-align: right;\n",
       "    }\n",
       "</style>\n",
       "<table border=\"1\" class=\"dataframe\">\n",
       "  <thead>\n",
       "    <tr style=\"text-align: right;\">\n",
       "      <th></th>\n",
       "      <th>Type</th>\n",
       "      <th>Air temperature [K]</th>\n",
       "      <th>Process temperature [K]</th>\n",
       "      <th>Rotational speed [rpm]</th>\n",
       "      <th>Torque [Nm]</th>\n",
       "      <th>Tool wear [min]</th>\n",
       "      <th>Target</th>\n",
       "      <th>Failure Type</th>\n",
       "      <th>Difference temperature [K]</th>\n",
       "      <th>Power</th>\n",
       "    </tr>\n",
       "    <tr>\n",
       "      <th>UDI</th>\n",
       "      <th></th>\n",
       "      <th></th>\n",
       "      <th></th>\n",
       "      <th></th>\n",
       "      <th></th>\n",
       "      <th></th>\n",
       "      <th></th>\n",
       "      <th></th>\n",
       "      <th></th>\n",
       "      <th></th>\n",
       "    </tr>\n",
       "  </thead>\n",
       "  <tbody>\n",
       "    <tr>\n",
       "      <th>1</th>\n",
       "      <td>M</td>\n",
       "      <td>298.1</td>\n",
       "      <td>308.6</td>\n",
       "      <td>1551</td>\n",
       "      <td>42.8</td>\n",
       "      <td>0</td>\n",
       "      <td>0</td>\n",
       "      <td>No Failure</td>\n",
       "      <td>10.5</td>\n",
       "      <td>66382.8</td>\n",
       "    </tr>\n",
       "    <tr>\n",
       "      <th>2</th>\n",
       "      <td>L</td>\n",
       "      <td>298.2</td>\n",
       "      <td>308.7</td>\n",
       "      <td>1408</td>\n",
       "      <td>46.3</td>\n",
       "      <td>3</td>\n",
       "      <td>0</td>\n",
       "      <td>No Failure</td>\n",
       "      <td>10.5</td>\n",
       "      <td>65190.4</td>\n",
       "    </tr>\n",
       "    <tr>\n",
       "      <th>3</th>\n",
       "      <td>L</td>\n",
       "      <td>298.1</td>\n",
       "      <td>308.5</td>\n",
       "      <td>1498</td>\n",
       "      <td>49.4</td>\n",
       "      <td>5</td>\n",
       "      <td>0</td>\n",
       "      <td>No Failure</td>\n",
       "      <td>10.4</td>\n",
       "      <td>74001.2</td>\n",
       "    </tr>\n",
       "    <tr>\n",
       "      <th>4</th>\n",
       "      <td>L</td>\n",
       "      <td>298.2</td>\n",
       "      <td>308.6</td>\n",
       "      <td>1433</td>\n",
       "      <td>39.5</td>\n",
       "      <td>7</td>\n",
       "      <td>0</td>\n",
       "      <td>No Failure</td>\n",
       "      <td>10.4</td>\n",
       "      <td>56603.5</td>\n",
       "    </tr>\n",
       "    <tr>\n",
       "      <th>5</th>\n",
       "      <td>L</td>\n",
       "      <td>298.2</td>\n",
       "      <td>308.7</td>\n",
       "      <td>1408</td>\n",
       "      <td>40.0</td>\n",
       "      <td>9</td>\n",
       "      <td>0</td>\n",
       "      <td>No Failure</td>\n",
       "      <td>10.5</td>\n",
       "      <td>56320.0</td>\n",
       "    </tr>\n",
       "  </tbody>\n",
       "</table>\n",
       "</div>"
      ],
      "text/plain": [
       "    Type  Air temperature [K]  Process temperature [K]  \\\n",
       "UDI                                                      \n",
       "1      M                298.1                    308.6   \n",
       "2      L                298.2                    308.7   \n",
       "3      L                298.1                    308.5   \n",
       "4      L                298.2                    308.6   \n",
       "5      L                298.2                    308.7   \n",
       "\n",
       "     Rotational speed [rpm]  Torque [Nm]  Tool wear [min]  Target  \\\n",
       "UDI                                                                 \n",
       "1                      1551         42.8                0       0   \n",
       "2                      1408         46.3                3       0   \n",
       "3                      1498         49.4                5       0   \n",
       "4                      1433         39.5                7       0   \n",
       "5                      1408         40.0                9       0   \n",
       "\n",
       "    Failure Type  Difference temperature [K]    Power  \n",
       "UDI                                                    \n",
       "1     No Failure                        10.5  66382.8  \n",
       "2     No Failure                        10.5  65190.4  \n",
       "3     No Failure                        10.4  74001.2  \n",
       "4     No Failure                        10.4  56603.5  \n",
       "5     No Failure                        10.5  56320.0  "
      ]
     },
     "execution_count": 5,
     "metadata": {},
     "output_type": "execute_result"
    }
   ],
   "source": [
    "df = pd.read_csv(FILE_PATH, index_col='UDI')\n",
    "df.head()"
   ]
  },
  {
   "cell_type": "markdown",
   "id": "64fe3ebe7f92d2f1",
   "metadata": {
    "collapsed": false
   },
   "source": [
    "Delete rows with 'Random Failures' in type column with target == 0"
   ]
  },
  {
   "cell_type": "code",
   "execution_count": 6,
   "id": "710a4eb23a0a975",
   "metadata": {
    "ExecuteTime": {
     "end_time": "2023-11-22T21:33:45.903970400Z",
     "start_time": "2023-11-22T21:33:45.873388300Z"
    },
    "collapsed": false
   },
   "outputs": [
    {
     "data": {
      "text/plain": [
       "Failure Type\n",
       "No Failure         9643\n",
       "Random Failures      18\n",
       "Name: count, dtype: int64"
      ]
     },
     "execution_count": 6,
     "metadata": {},
     "output_type": "execute_result"
    }
   ],
   "source": [
    "df_tmp = df[df['Target']==0]\n",
    "df_tmp['Failure Type'].value_counts()"
   ]
  },
  {
   "cell_type": "code",
   "execution_count": 7,
   "id": "dac21dc0faed4dc5",
   "metadata": {
    "ExecuteTime": {
     "end_time": "2023-11-22T21:33:45.903970400Z",
     "start_time": "2023-11-22T21:33:45.884936Z"
    },
    "collapsed": false
   },
   "outputs": [],
   "source": [
    "idx = df_tmp[df_tmp['Failure Type'] == 'Random Failures'].index\n",
    "df.drop(index=idx, axis=0, inplace=True)"
   ]
  },
  {
   "cell_type": "markdown",
   "id": "1ce90491d6bc2fdc",
   "metadata": {
    "collapsed": false
   },
   "source": [
    "Delete rows with 'No Failure' in type column with target == 1"
   ]
  },
  {
   "cell_type": "code",
   "execution_count": 8,
   "id": "6741fbe980a35ade",
   "metadata": {
    "ExecuteTime": {
     "end_time": "2023-11-22T21:33:45.991435900Z",
     "start_time": "2023-11-22T21:33:45.903970400Z"
    },
    "collapsed": false
   },
   "outputs": [
    {
     "data": {
      "text/plain": [
       "Failure Type\n",
       "Heat Dissipation Failure    112\n",
       "Power Failure                95\n",
       "Overstrain Failure           78\n",
       "Tool Wear Failure            45\n",
       "No Failure                    9\n",
       "Name: count, dtype: int64"
      ]
     },
     "execution_count": 8,
     "metadata": {},
     "output_type": "execute_result"
    }
   ],
   "source": [
    "df_tmp = df[df['Target']==1]\n",
    "df_tmp['Failure Type'].value_counts()"
   ]
  },
  {
   "cell_type": "code",
   "execution_count": 9,
   "id": "31024df3ca985bda",
   "metadata": {
    "ExecuteTime": {
     "end_time": "2023-11-22T21:33:45.991435900Z",
     "start_time": "2023-11-22T21:33:45.928951800Z"
    },
    "collapsed": false
   },
   "outputs": [],
   "source": [
    "idx = df_tmp[df_tmp['Failure Type']=='No Failure'].index\n",
    "df.drop(index=idx, axis=0, inplace=True)"
   ]
  },
  {
   "cell_type": "code",
   "execution_count": 10,
   "id": "3f97ae5e20939494",
   "metadata": {
    "ExecuteTime": {
     "end_time": "2023-11-22T21:33:46.039429500Z",
     "start_time": "2023-11-22T21:33:45.944871500Z"
    },
    "collapsed": false
   },
   "outputs": [
    {
     "data": {
      "text/plain": [
       "(9973, 10)"
      ]
     },
     "execution_count": 10,
     "metadata": {},
     "output_type": "execute_result"
    }
   ],
   "source": [
    "df.shape"
   ]
  },
  {
   "cell_type": "code",
   "execution_count": 38,
   "id": "dc8be237",
   "metadata": {},
   "outputs": [
    {
     "ename": "ImportError",
     "evalue": "cannot import name 'to_categorical' from 'tensorflow.python.keras.utils' (c:\\Users\\yanni\\anaconda3\\envs\\python_3_10\\lib\\site-packages\\tensorflow\\python\\keras\\utils\\__init__.py)",
     "output_type": "error",
     "traceback": [
      "\u001B[1;31m---------------------------------------------------------------------------\u001B[0m",
      "\u001B[1;31mImportError\u001B[0m                               Traceback (most recent call last)",
      "Cell \u001B[1;32mIn[38], line 4\u001B[0m\n\u001B[0;32m      1\u001B[0m \u001B[38;5;66;03m#from tensorflow import keras\u001B[39;00m\n\u001B[0;32m      2\u001B[0m \u001B[38;5;66;03m#from tensorflow.python.keras.utils import to_categorical\u001B[39;00m\n\u001B[0;32m      3\u001B[0m \u001B[38;5;28;01mimport\u001B[39;00m \u001B[38;5;21;01mtensorflow\u001B[39;00m \u001B[38;5;28;01mas\u001B[39;00m \u001B[38;5;21;01mtf\u001B[39;00m\n\u001B[1;32m----> 4\u001B[0m \u001B[38;5;28;01mfrom\u001B[39;00m \u001B[38;5;21;01mtensorflow\u001B[39;00m\u001B[38;5;21;01m.\u001B[39;00m\u001B[38;5;21;01mpython\u001B[39;00m\u001B[38;5;21;01m.\u001B[39;00m\u001B[38;5;21;01mkeras\u001B[39;00m\u001B[38;5;21;01m.\u001B[39;00m\u001B[38;5;21;01mutils\u001B[39;00m \u001B[38;5;28;01mimport\u001B[39;00m to_categorical\n\u001B[0;32m      5\u001B[0m a \u001B[38;5;241m=\u001B[39mto_categorical(df[\u001B[38;5;124m'\u001B[39m\u001B[38;5;124mFailure Type\u001B[39m\u001B[38;5;124m'\u001B[39m], num_classes\u001B[38;5;241m=\u001B[39mdf[\u001B[38;5;124m'\u001B[39m\u001B[38;5;124mFailure Type\u001B[39m\u001B[38;5;124m'\u001B[39m]\u001B[38;5;241m.\u001B[39mnunique())\n\u001B[0;32m      6\u001B[0m \u001B[38;5;28mprint\u001B[39m(a)\n",
      "\u001B[1;31mImportError\u001B[0m: cannot import name 'to_categorical' from 'tensorflow.python.keras.utils' (c:\\Users\\yanni\\anaconda3\\envs\\python_3_10\\lib\\site-packages\\tensorflow\\python\\keras\\utils\\__init__.py)"
     ]
    }
   ],
   "source": [
    "\n",
    "#from tensorflow import keras\n",
    "#from tensorflow.python.keras.utils import to_categorical\n",
    "import tensorflow as tf\n",
    "from tensorflow.python.keras.utils import to_categorical\n",
    "a =to_categorical(df['Failure Type'], num_classes=df['Failure Type'].nunique())\n",
    "print(a)"
   ]
  },
  {
   "cell_type": "markdown",
   "metadata": {},
   "source": [
    "# Data Formatting\n",
    "## Conversion 'Failure Type' variable to discret value"
   ],
   "id": "8bad044bb2910bf0"
  },
  {
   "cell_type": "code",
   "execution_count": null,
   "metadata": {},
   "outputs": [],
   "source": [
    "lst_failure = df['Failure Type'].unique()\n",
    "dict_failure = {}\n",
    "for i, failure in enumerate(lst_failure):\n",
    "    dict_failure[failure] = i\n",
    "df['Failure Type'].map(dict_failure)  "
   ],
   "id": "54c2e657a8fc4bbe"
  },
  {
   "cell_type": "markdown",
   "id": "e81808dcb94cf380",
   "metadata": {
    "collapsed": false
   },
   "source": [
    "## List of categorical variables\n",
    "Memorize features who are 'object' type, exclude target variables "
   ]
  },
  {
   "cell_type": "code",
   "execution_count": null,
   "id": "bbdab2ea7e58c45b",
   "metadata": {
    "ExecuteTime": {
     "end_time": "2023-11-22T21:33:46.120146400Z",
     "start_time": "2023-11-22T21:33:45.966505400Z"
    },
    "collapsed": false
   },
   "outputs": [],
   "source": [
    "cat_cols = df.select_dtypes(include='O').columns.to_list()\n",
    "cat_cols.remove('Failure Type')\n",
    "#cat_cols.append('Target')\n",
    "cat_cols"
   ]
  },
  {
   "cell_type": "markdown",
   "id": "605abe70012e8045",
   "metadata": {
    "collapsed": false
   },
   "source": [
    "## List of numerical variables\n",
    "Memorize features who are 'numerical' type, exclude target variables "
   ]
  },
  {
   "cell_type": "code",
   "execution_count": null,
   "id": "b74b65175fcb9e83",
   "metadata": {
    "ExecuteTime": {
     "end_time": "2023-11-22T21:35:27.106851Z",
     "start_time": "2023-11-22T21:35:27.073335100Z"
    },
    "collapsed": false
   },
   "outputs": [],
   "source": [
    "num_cols = df.select_dtypes(exclude='O').columns.to_list()\n",
    "num_cols.remove('Target')\n",
    "num_cols"
   ]
  },
  {
   "cell_type": "markdown",
   "id": "36c676bb5bd58f6b",
   "metadata": {
    "collapsed": false
   },
   "source": [
    "## Preprocessing of variables"
   ]
  },
  {
   "cell_type": "markdown",
   "id": "2799d6ab8ea5828c",
   "metadata": {
    "collapsed": false
   },
   "source": [
    "#### Pipeline creation"
   ]
  },
  {
   "cell_type": "markdown",
   "id": "6170bcbdf16d76b",
   "metadata": {
    "collapsed": false
   },
   "source": [
    "Define different preprocessing to dataset\n",
    "1. OnehotEncoder process from list of variables in 'cat_cols'\n",
    "2. StandardScaler process from list of variables in 'num_cols'\n",
    "3. OrdinalEncoder process for 'Failure Type' variables"
   ]
  },
  {
   "cell_type": "code",
   "execution_count": null,
   "id": "f00f6c2a83254dc6",
   "metadata": {
    "ExecuteTime": {
     "end_time": "2023-11-22T21:35:32.612001100Z",
     "start_time": "2023-11-22T21:35:32.580472800Z"
    },
    "collapsed": false
   },
   "outputs": [],
   "source": [
    "ct = ColumnTransformer([\n",
    "    (\"onehot\", OneHotEncoder(), cat_cols),\n",
    "    (\"scale\", StandardScaler(), num_cols),\n",
    "    (\"fail_type\", OrdinalEncoder(), ['Target'])\n",
    "])\n"
   ]
  },
  {
   "cell_type": "markdown",
   "id": "f568c6d15f72ac6",
   "metadata": {
    "collapsed": false
   },
   "source": [
    "Apply preprocess transformer and create dataframe 'df_preprocess' "
   ]
  },
  {
   "cell_type": "code",
   "execution_count": null,
   "metadata": {},
   "outputs": [],
   "source": [
    "df.drop(columns=['Target'], inplace=True)\n",
    "df.rename(columns={'Failure Type': 'Target'}, inplace=True)\n",
    "df_preprocess = pd.DataFrame(ct.fit_transform(df), columns=ct.get_feature_names_out())\n"
   ],
   "id": "aa988049828df837"
  },
  {
   "cell_type": "code",
   "execution_count": null,
   "id": "ffa08f75",
   "metadata": {},
   "outputs": [],
   "source": [
    "\n",
    "df_preprocess.dropna(axis=0, inplace=True)"
   ]
  },
  {
   "cell_type": "markdown",
   "id": "bdf973f9",
   "metadata": {},
   "source": [
    "Create dictionnary with index and value of 'target' feature"
   ]
  },
  {
   "cell_type": "code",
   "execution_count": null,
   "id": "04a12c62",
   "metadata": {},
   "outputs": [],
   "source": [
    "cat_=ct.named_transformers_['fail_type'].categories_\n",
    "dict_target = {}\n",
    "dict_target_inv = {}\n",
    "for i, c in enumerate(cat_[0]):\n",
    "    dict_target[c] = i\n",
    "    dict_target_inv[i] = c\n"
   ]
  },
  {
   "cell_type": "markdown",
   "id": "75197883",
   "metadata": {},
   "source": [
    "Split dataframe into dataset for training and dataset for validation"
   ]
  },
  {
   "cell_type": "code",
   "execution_count": null,
   "id": "dd2dc510",
   "metadata": {},
   "outputs": [],
   "source": [
    "X_, X_val, y_, y_val = train_test_split(\n",
    "    df_preprocess.drop(columns=['fail_type__Target']), \n",
    "    df_preprocess['fail_type__Target'], \n",
    "    test_size=0.2,\n",
    "    stratify=df_preprocess['fail_type__Target'],\n",
    "    random_state=42)"
   ]
  },
  {
   "cell_type": "code",
   "execution_count": null,
   "id": "708499b4",
   "metadata": {},
   "outputs": [],
   "source": [
    "df_train = pd.concat([X_, y_], axis=1)\n",
    "df_val = pd.concat([X_val, y_val], axis=1)"
   ]
  },
  {
   "cell_type": "markdown",
   "id": "008995da",
   "metadata": {},
   "source": [
    "Save dataframe"
   ]
  },
  {
   "cell_type": "code",
   "execution_count": null,
   "id": "d0b6bae0d87af516",
   "metadata": {
    "ExecuteTime": {
     "end_time": "2023-11-22T21:45:10.241504500Z",
     "start_time": "2023-11-22T21:45:10.098990100Z"
    },
    "collapsed": false
   },
   "outputs": [],
   "source": [
    "df_train.to_csv('../data/predictive_maintenance_preprocess.csv')\n",
    "df_val.to_csv('../data/predictive_maintenance_validation.csv')"
   ]
  },
  {
   "cell_type": "markdown",
   "id": "326df2ac",
   "metadata": {},
   "source": [
    "Save dictionary of target"
   ]
  },
  {
   "cell_type": "code",
   "execution_count": null,
   "id": "67bc9496",
   "metadata": {},
   "outputs": [],
   "source": [
    "with open('../data/dict_target.json', 'w') as f:\n",
    "    json.dump(dict_target_inv, f)"
   ]
  }
 ],
 "metadata": {
  "kernelspec": {
   "display_name": "Python 3",
   "language": "python",
   "name": "python3"
  },
  "language_info": {
   "codemirror_mode": {
    "name": "ipython",
    "version": 3
   },
   "file_extension": ".py",
   "mimetype": "text/x-python",
   "name": "python",
   "nbconvert_exporter": "python",
   "pygments_lexer": "ipython3",
   "version": "3.10.13"
  }
 },
 "nbformat": 4,
 "nbformat_minor": 5
}
