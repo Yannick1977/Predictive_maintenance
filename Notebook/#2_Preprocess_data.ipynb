{
 "cells": [
  {
   "cell_type": "markdown",
   "id": "9d997e91",
   "metadata": {},
   "source": [
    "# Todo List\n",
    "\n",
    "- [x] completer le fichier function_preprocess\n",
    "- [x] importer le preprocess qui reste dans #3\n",
    "- [x] dans function_preprocess, reprendre le traitement de failure_type\n",
    "- [ ]\n",
    "- [ ] "
   ]
  },
  {
   "cell_type": "markdown",
   "id": "b56dfaaf",
   "metadata": {},
   "source": [
    "_____________________________________________________________________________________________________________"
   ]
  },
  {
   "cell_type": "code",
   "execution_count": 1,
   "id": "79b41544",
   "metadata": {
    "ExecuteTime": {
     "end_time": "2023-12-17T21:02:51.412828100Z",
     "start_time": "2023-12-17T21:02:48.849560700Z"
    }
   },
   "outputs": [],
   "source": [
    "FILE_PATH = '../data/predictive_maintenance_A.csv'\n",
    "\n",
    "import pandas as pd\n",
    "\n",
    "import sys\n",
    "sys.path.insert(0, '../Src/')\n",
    "\n",
    "from Function_preprocess import preprocess\n",
    "\n",
    "df = pd.read_csv(FILE_PATH, index_col='UDI')\n",
    "\n",
    "df_train, df_test, dict_target = preprocess(df, False, False)\n"
   ]
  },
  {
   "cell_type": "code",
   "execution_count": 2,
   "id": "d726d1fd",
   "metadata": {},
   "outputs": [
    {
     "data": {
      "text/plain": [
       "(6382, 12)"
      ]
     },
     "execution_count": 2,
     "metadata": {},
     "output_type": "execute_result"
    }
   ],
   "source": [
    "df_train.shape\n"
   ]
  },
  {
   "cell_type": "code",
   "execution_count": null,
   "id": "b2e9c2c3",
   "metadata": {},
   "outputs": [],
   "source": [
    "df_train.head()"
   ]
  },
  {
   "cell_type": "markdown",
   "id": "9fc0f779",
   "metadata": {},
   "source": [
    "_______________________________________________________________________________________________________________________"
   ]
  },
  {
   "cell_type": "markdown",
   "id": "ec7ced684e37e66d",
   "metadata": {
    "collapsed": false
   },
   "source": [
    "### Import"
   ]
  },
  {
   "cell_type": "code",
   "execution_count": null,
   "id": "initial_id",
   "metadata": {
    "ExecuteTime": {
     "end_time": "2023-11-22T21:39:14.768353200Z",
     "start_time": "2023-11-22T21:39:14.752321200Z"
    },
    "collapsed": true
   },
   "outputs": [],
   "source": [
    "import pandas as pd\n",
    "import numpy as np\n",
    "import json\n",
    "from sklearn.preprocessing import OneHotEncoder, StandardScaler, OrdinalEncoder\n",
    "from sklearn.compose import ColumnTransformer\n",
    "from sklearn.model_selection import train_test_split\n"
   ]
  },
  {
   "cell_type": "code",
   "execution_count": null,
   "id": "72ad8e45dd79db7c",
   "metadata": {
    "ExecuteTime": {
     "end_time": "2023-11-22T21:33:45.817126600Z",
     "start_time": "2023-11-22T21:33:45.738317Z"
    },
    "collapsed": false
   },
   "outputs": [],
   "source": [
    "import warnings\n",
    "\n",
    "warnings.filterwarnings(action='ignore')"
   ]
  },
  {
   "cell_type": "code",
   "execution_count": null,
   "id": "aaf9b08057cf9b5b",
   "metadata": {
    "ExecuteTime": {
     "end_time": "2023-11-22T21:33:45.864928Z",
     "start_time": "2023-11-22T21:33:45.817126600Z"
    },
    "collapsed": false
   },
   "outputs": [],
   "source": [
    "FILE_PATH = '../data/predictive_maintenance_A.csv'"
   ]
  },
  {
   "cell_type": "markdown",
   "id": "b0ee217cfc755134",
   "metadata": {
    "collapsed": false
   },
   "source": [
    "### Read file data"
   ]
  },
  {
   "cell_type": "code",
   "execution_count": null,
   "id": "4a08a3db379f1a3a",
   "metadata": {
    "ExecuteTime": {
     "end_time": "2023-11-22T21:33:45.903970400Z",
     "start_time": "2023-11-22T21:33:45.833142900Z"
    },
    "collapsed": false
   },
   "outputs": [],
   "source": [
    "df = pd.read_csv(FILE_PATH, index_col='UDI')\n",
    "df.head()"
   ]
  },
  {
   "cell_type": "markdown",
   "id": "64fe3ebe7f92d2f1",
   "metadata": {
    "collapsed": false
   },
   "source": [
    "Delete rows with 'Random Failures' in type column with target == 0"
   ]
  },
  {
   "cell_type": "code",
   "execution_count": null,
   "id": "710a4eb23a0a975",
   "metadata": {
    "ExecuteTime": {
     "end_time": "2023-11-22T21:33:45.903970400Z",
     "start_time": "2023-11-22T21:33:45.873388300Z"
    },
    "collapsed": false
   },
   "outputs": [],
   "source": [
    "df_tmp = df[df['Target']==0]\n",
    "df_tmp['Failure Type'].value_counts()"
   ]
  },
  {
   "cell_type": "code",
   "execution_count": null,
   "id": "dac21dc0faed4dc5",
   "metadata": {
    "ExecuteTime": {
     "end_time": "2023-11-22T21:33:45.903970400Z",
     "start_time": "2023-11-22T21:33:45.884936Z"
    },
    "collapsed": false
   },
   "outputs": [],
   "source": [
    "idx = df_tmp[df_tmp['Failure Type'] == 'Random Failures'].index\n",
    "df.drop(index=idx, axis=0, inplace=True)"
   ]
  },
  {
   "cell_type": "markdown",
   "id": "1ce90491d6bc2fdc",
   "metadata": {
    "collapsed": false
   },
   "source": [
    "Delete rows with 'No Failure' in type column with target == 1"
   ]
  },
  {
   "cell_type": "code",
   "execution_count": null,
   "id": "6741fbe980a35ade",
   "metadata": {
    "ExecuteTime": {
     "end_time": "2023-11-22T21:33:45.991435900Z",
     "start_time": "2023-11-22T21:33:45.903970400Z"
    },
    "collapsed": false
   },
   "outputs": [],
   "source": [
    "df_tmp = df[df['Target']==1]\n",
    "df_tmp['Failure Type'].value_counts()"
   ]
  },
  {
   "cell_type": "code",
   "execution_count": null,
   "id": "31024df3ca985bda",
   "metadata": {
    "ExecuteTime": {
     "end_time": "2023-11-22T21:33:45.991435900Z",
     "start_time": "2023-11-22T21:33:45.928951800Z"
    },
    "collapsed": false
   },
   "outputs": [],
   "source": [
    "idx = df_tmp[df_tmp['Failure Type']=='No Failure'].index\n",
    "df.drop(index=idx, axis=0, inplace=True)"
   ]
  },
  {
   "cell_type": "code",
   "execution_count": null,
   "id": "3f97ae5e20939494",
   "metadata": {
    "ExecuteTime": {
     "end_time": "2023-11-22T21:33:46.039429500Z",
     "start_time": "2023-11-22T21:33:45.944871500Z"
    },
    "collapsed": false
   },
   "outputs": [],
   "source": [
    "df.shape"
   ]
  },
  {
   "cell_type": "code",
   "execution_count": null,
   "id": "dc8be237",
   "metadata": {},
   "outputs": [],
   "source": [
    "\n",
    "#from tensorflow import keras\n",
    "#from tensorflow.python.keras.utils import to_categorical\n",
    "import tensorflow as tf\n",
    "from tensorflow.python.keras.utils import to_categorical\n",
    "a =to_categorical(df['Failure Type'], num_classes=df['Failure Type'].nunique())\n",
    "print(a)"
   ]
  },
  {
   "cell_type": "markdown",
   "id": "8bad044bb2910bf0",
   "metadata": {},
   "source": [
    "# Data Formatting\n",
    "## Conversion 'Failure Type' variable to discret value"
   ]
  },
  {
   "cell_type": "code",
   "execution_count": null,
   "id": "54c2e657a8fc4bbe",
   "metadata": {},
   "outputs": [],
   "source": [
    "lst_failure = df['Failure Type'].unique()\n",
    "dict_failure = {}\n",
    "for i, failure in enumerate(lst_failure):\n",
    "    dict_failure[failure] = i\n",
    "df['Failure Type'].map(dict_failure)  "
   ]
  },
  {
   "cell_type": "markdown",
   "id": "e81808dcb94cf380",
   "metadata": {
    "collapsed": false
   },
   "source": [
    "## List of categorical variables\n",
    "Memorize features who are 'object' type, exclude target variables "
   ]
  },
  {
   "cell_type": "code",
   "execution_count": null,
   "id": "bbdab2ea7e58c45b",
   "metadata": {
    "ExecuteTime": {
     "end_time": "2023-11-22T21:33:46.120146400Z",
     "start_time": "2023-11-22T21:33:45.966505400Z"
    },
    "collapsed": false
   },
   "outputs": [],
   "source": [
    "cat_cols = df.select_dtypes(include='O').columns.to_list()\n",
    "cat_cols.remove('Failure Type')\n",
    "#cat_cols.append('Target')\n",
    "cat_cols"
   ]
  },
  {
   "cell_type": "markdown",
   "id": "605abe70012e8045",
   "metadata": {
    "collapsed": false
   },
   "source": [
    "## List of numerical variables\n",
    "Memorize features who are 'numerical' type, exclude target variables "
   ]
  },
  {
   "cell_type": "code",
   "execution_count": null,
   "id": "b74b65175fcb9e83",
   "metadata": {
    "ExecuteTime": {
     "end_time": "2023-11-22T21:35:27.106851Z",
     "start_time": "2023-11-22T21:35:27.073335100Z"
    },
    "collapsed": false
   },
   "outputs": [],
   "source": [
    "num_cols = df.select_dtypes(exclude='O').columns.to_list()\n",
    "num_cols.remove('Target')\n",
    "num_cols"
   ]
  },
  {
   "cell_type": "markdown",
   "id": "36c676bb5bd58f6b",
   "metadata": {
    "collapsed": false
   },
   "source": [
    "## Preprocessing of variables"
   ]
  },
  {
   "cell_type": "markdown",
   "id": "2799d6ab8ea5828c",
   "metadata": {
    "collapsed": false
   },
   "source": [
    "#### Pipeline creation"
   ]
  },
  {
   "cell_type": "markdown",
   "id": "6170bcbdf16d76b",
   "metadata": {
    "collapsed": false
   },
   "source": [
    "Define different preprocessing to dataset\n",
    "1. OnehotEncoder process from list of variables in 'cat_cols'\n",
    "2. StandardScaler process from list of variables in 'num_cols'\n",
    "3. OrdinalEncoder process for 'Failure Type' variables"
   ]
  },
  {
   "cell_type": "code",
   "execution_count": null,
   "id": "f00f6c2a83254dc6",
   "metadata": {
    "ExecuteTime": {
     "end_time": "2023-11-22T21:35:32.612001100Z",
     "start_time": "2023-11-22T21:35:32.580472800Z"
    },
    "collapsed": false
   },
   "outputs": [],
   "source": [
    "ct = ColumnTransformer([\n",
    "    (\"onehot\", OneHotEncoder(), cat_cols),\n",
    "    (\"scale\", StandardScaler(), num_cols),\n",
    "    (\"fail_type\", OrdinalEncoder(), ['Target'])\n",
    "])\n"
   ]
  },
  {
   "cell_type": "markdown",
   "id": "f568c6d15f72ac6",
   "metadata": {
    "collapsed": false
   },
   "source": [
    "Apply preprocess transformer and create dataframe 'df_preprocess' "
   ]
  },
  {
   "cell_type": "code",
   "execution_count": null,
   "id": "aa988049828df837",
   "metadata": {},
   "outputs": [],
   "source": [
    "df.drop(columns=['Target'], inplace=True)\n",
    "df.rename(columns={'Failure Type': 'Target'}, inplace=True)\n",
    "df_preprocess = pd.DataFrame(ct.fit_transform(df), columns=ct.get_feature_names_out())\n"
   ]
  },
  {
   "cell_type": "code",
   "execution_count": null,
   "id": "ffa08f75",
   "metadata": {},
   "outputs": [],
   "source": [
    "\n",
    "df_preprocess.dropna(axis=0, inplace=True)"
   ]
  },
  {
   "cell_type": "markdown",
   "id": "bdf973f9",
   "metadata": {},
   "source": [
    "Create dictionnary with index and value of 'target' feature"
   ]
  },
  {
   "cell_type": "code",
   "execution_count": null,
   "id": "04a12c62",
   "metadata": {},
   "outputs": [],
   "source": [
    "cat_=ct.named_transformers_['fail_type'].categories_\n",
    "dict_target = {}\n",
    "dict_target_inv = {}\n",
    "for i, c in enumerate(cat_[0]):\n",
    "    dict_target[c] = i\n",
    "    dict_target_inv[i] = c\n"
   ]
  },
  {
   "cell_type": "markdown",
   "id": "75197883",
   "metadata": {},
   "source": [
    "Split dataframe into dataset for training and dataset for validation"
   ]
  },
  {
   "cell_type": "code",
   "execution_count": null,
   "id": "dd2dc510",
   "metadata": {},
   "outputs": [],
   "source": [
    "X_, X_val, y_, y_val = train_test_split(\n",
    "    df_preprocess.drop(columns=['fail_type__Target']), \n",
    "    df_preprocess['fail_type__Target'], \n",
    "    test_size=0.2,\n",
    "    stratify=df_preprocess['fail_type__Target'],\n",
    "    random_state=42)"
   ]
  },
  {
   "cell_type": "code",
   "execution_count": null,
   "id": "708499b4",
   "metadata": {},
   "outputs": [],
   "source": [
    "df_train = pd.concat([X_, y_], axis=1)\n",
    "df_val = pd.concat([X_val, y_val], axis=1)"
   ]
  },
  {
   "cell_type": "markdown",
   "id": "008995da",
   "metadata": {},
   "source": [
    "Save dataframe"
   ]
  },
  {
   "cell_type": "code",
   "execution_count": null,
   "id": "d0b6bae0d87af516",
   "metadata": {
    "ExecuteTime": {
     "end_time": "2023-11-22T21:45:10.241504500Z",
     "start_time": "2023-11-22T21:45:10.098990100Z"
    },
    "collapsed": false
   },
   "outputs": [],
   "source": [
    "df_train.to_csv('../data/predictive_maintenance_preprocess.csv')\n",
    "df_val.to_csv('../data/predictive_maintenance_validation.csv')"
   ]
  },
  {
   "cell_type": "markdown",
   "id": "326df2ac",
   "metadata": {},
   "source": [
    "Save dictionary of target"
   ]
  },
  {
   "cell_type": "code",
   "execution_count": null,
   "id": "67bc9496",
   "metadata": {},
   "outputs": [],
   "source": [
    "with open('../data/dict_target.json', 'w') as f:\n",
    "    json.dump(dict_target_inv, f)"
   ]
  }
 ],
 "metadata": {
  "kernelspec": {
   "display_name": "Python 3",
   "language": "python",
   "name": "python3"
  },
  "language_info": {
   "codemirror_mode": {
    "name": "ipython",
    "version": 3
   },
   "file_extension": ".py",
   "mimetype": "text/x-python",
   "name": "python",
   "nbconvert_exporter": "python",
   "pygments_lexer": "ipython3",
   "version": "3.10.13"
  }
 },
 "nbformat": 4,
 "nbformat_minor": 5
}
