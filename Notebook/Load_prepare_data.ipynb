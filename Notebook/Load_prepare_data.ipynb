{
 "cells": [
  {
   "cell_type": "markdown",
   "source": [
    "Import"
   ],
   "metadata": {
    "collapsed": false
   },
   "id": "4d5be023b26c79b4"
  },
  {
   "cell_type": "code",
   "execution_count": 47,
   "id": "initial_id",
   "metadata": {
    "collapsed": true,
    "ExecuteTime": {
     "end_time": "2023-11-06T22:04:31.911085600Z",
     "start_time": "2023-11-06T22:04:31.841390400Z"
    }
   },
   "outputs": [],
   "source": [
    "import pandas as pd\n",
    "import numpy as np\n",
    "import os\n",
    "import seaborn as sns\n",
    "import matplotlib.pyplot as plt\n",
    "import math"
   ]
  },
  {
   "cell_type": "code",
   "execution_count": 28,
   "outputs": [],
   "source": [
    "import warnings\n",
    "\n",
    "warnings.filterwarnings(action='ignore')"
   ],
   "metadata": {
    "collapsed": false,
    "ExecuteTime": {
     "end_time": "2023-11-06T21:49:01.217228700Z",
     "start_time": "2023-11-06T21:49:01.170450800Z"
    }
   },
   "id": "366a13a348140ee9"
  },
  {
   "cell_type": "code",
   "execution_count": 2,
   "outputs": [],
   "source": [
    "FILE_PATH = '../data/predictive_maintenance.csv'"
   ],
   "metadata": {
    "collapsed": false,
    "ExecuteTime": {
     "end_time": "2023-11-06T21:02:11.907352Z",
     "start_time": "2023-11-06T21:02:11.884923800Z"
    }
   },
   "id": "ef3ac7722cff1ba4"
  },
  {
   "cell_type": "markdown",
   "source": [
    "Read data"
   ],
   "metadata": {
    "collapsed": false
   },
   "id": "ae5efc34b2426573"
  },
  {
   "cell_type": "code",
   "execution_count": 25,
   "outputs": [
    {
     "data": {
      "text/plain": "    Product ID Type  Air temperature [K]  Process temperature [K]  \\\nUDI                                                                 \n1       M14860    M                298.1                    308.6   \n2       L47181    L                298.2                    308.7   \n3       L47182    L                298.1                    308.5   \n4       L47183    L                298.2                    308.6   \n5       L47184    L                298.2                    308.7   \n\n     Rotational speed [rpm]  Torque [Nm]  Tool wear [min]  Target Failure Type  \nUDI                                                                             \n1                      1551         42.8                0       0   No Failure  \n2                      1408         46.3                3       0   No Failure  \n3                      1498         49.4                5       0   No Failure  \n4                      1433         39.5                7       0   No Failure  \n5                      1408         40.0                9       0   No Failure  ",
      "text/html": "<div>\n<style scoped>\n    .dataframe tbody tr th:only-of-type {\n        vertical-align: middle;\n    }\n\n    .dataframe tbody tr th {\n        vertical-align: top;\n    }\n\n    .dataframe thead th {\n        text-align: right;\n    }\n</style>\n<table border=\"1\" class=\"dataframe\">\n  <thead>\n    <tr style=\"text-align: right;\">\n      <th></th>\n      <th>Product ID</th>\n      <th>Type</th>\n      <th>Air temperature [K]</th>\n      <th>Process temperature [K]</th>\n      <th>Rotational speed [rpm]</th>\n      <th>Torque [Nm]</th>\n      <th>Tool wear [min]</th>\n      <th>Target</th>\n      <th>Failure Type</th>\n    </tr>\n    <tr>\n      <th>UDI</th>\n      <th></th>\n      <th></th>\n      <th></th>\n      <th></th>\n      <th></th>\n      <th></th>\n      <th></th>\n      <th></th>\n      <th></th>\n    </tr>\n  </thead>\n  <tbody>\n    <tr>\n      <th>1</th>\n      <td>M14860</td>\n      <td>M</td>\n      <td>298.1</td>\n      <td>308.6</td>\n      <td>1551</td>\n      <td>42.8</td>\n      <td>0</td>\n      <td>0</td>\n      <td>No Failure</td>\n    </tr>\n    <tr>\n      <th>2</th>\n      <td>L47181</td>\n      <td>L</td>\n      <td>298.2</td>\n      <td>308.7</td>\n      <td>1408</td>\n      <td>46.3</td>\n      <td>3</td>\n      <td>0</td>\n      <td>No Failure</td>\n    </tr>\n    <tr>\n      <th>3</th>\n      <td>L47182</td>\n      <td>L</td>\n      <td>298.1</td>\n      <td>308.5</td>\n      <td>1498</td>\n      <td>49.4</td>\n      <td>5</td>\n      <td>0</td>\n      <td>No Failure</td>\n    </tr>\n    <tr>\n      <th>4</th>\n      <td>L47183</td>\n      <td>L</td>\n      <td>298.2</td>\n      <td>308.6</td>\n      <td>1433</td>\n      <td>39.5</td>\n      <td>7</td>\n      <td>0</td>\n      <td>No Failure</td>\n    </tr>\n    <tr>\n      <th>5</th>\n      <td>L47184</td>\n      <td>L</td>\n      <td>298.2</td>\n      <td>308.7</td>\n      <td>1408</td>\n      <td>40.0</td>\n      <td>9</td>\n      <td>0</td>\n      <td>No Failure</td>\n    </tr>\n  </tbody>\n</table>\n</div>"
     },
     "execution_count": 25,
     "metadata": {},
     "output_type": "execute_result"
    }
   ],
   "source": [
    "df = pd.read_csv(FILE_PATH, index_col='UDI')\n",
    "df.head()"
   ],
   "metadata": {
    "collapsed": false,
    "ExecuteTime": {
     "end_time": "2023-11-06T21:47:13.102882300Z",
     "start_time": "2023-11-06T21:47:13.070774400Z"
    }
   },
   "id": "7892cf0930b1b05"
  },
  {
   "cell_type": "code",
   "execution_count": 6,
   "outputs": [
    {
     "name": "stdout",
     "output_type": "stream",
     "text": [
      "<class 'pandas.core.frame.DataFrame'>\n",
      "Index: 10000 entries, 1 to 10000\n",
      "Data columns (total 9 columns):\n",
      " #   Column                   Non-Null Count  Dtype  \n",
      "---  ------                   --------------  -----  \n",
      " 0   Product ID               10000 non-null  object \n",
      " 1   Type                     10000 non-null  object \n",
      " 2   Air temperature [K]      10000 non-null  float64\n",
      " 3   Process temperature [K]  10000 non-null  float64\n",
      " 4   Rotational speed [rpm]   10000 non-null  int64  \n",
      " 5   Torque [Nm]              10000 non-null  float64\n",
      " 6   Tool wear [min]          10000 non-null  int64  \n",
      " 7   Target                   10000 non-null  int64  \n",
      " 8   Failure Type             10000 non-null  object \n",
      "dtypes: float64(3), int64(3), object(3)\n",
      "memory usage: 781.2+ KB\n"
     ]
    }
   ],
   "source": [
    "df.info()"
   ],
   "metadata": {
    "collapsed": false,
    "ExecuteTime": {
     "end_time": "2023-11-06T21:15:31.334525600Z",
     "start_time": "2023-11-06T21:15:31.223363400Z"
    }
   },
   "id": "4312baae4f52e041"
  },
  {
   "cell_type": "code",
   "execution_count": 7,
   "outputs": [
    {
     "data": {
      "text/plain": "       Air temperature [K]  Process temperature [K]  Rotational speed [rpm]  \\\ncount         10000.000000             10000.000000            10000.000000   \nmean            300.004930               310.005560             1538.776100   \nstd               2.000259                 1.483734              179.284096   \nmin             295.300000               305.700000             1168.000000   \n25%             298.300000               308.800000             1423.000000   \n50%             300.100000               310.100000             1503.000000   \n75%             301.500000               311.100000             1612.000000   \nmax             304.500000               313.800000             2886.000000   \n\n        Torque [Nm]  Tool wear [min]        Target  \ncount  10000.000000     10000.000000  10000.000000  \nmean      39.986910       107.951000      0.033900  \nstd        9.968934        63.654147      0.180981  \nmin        3.800000         0.000000      0.000000  \n25%       33.200000        53.000000      0.000000  \n50%       40.100000       108.000000      0.000000  \n75%       46.800000       162.000000      0.000000  \nmax       76.600000       253.000000      1.000000  ",
      "text/html": "<div>\n<style scoped>\n    .dataframe tbody tr th:only-of-type {\n        vertical-align: middle;\n    }\n\n    .dataframe tbody tr th {\n        vertical-align: top;\n    }\n\n    .dataframe thead th {\n        text-align: right;\n    }\n</style>\n<table border=\"1\" class=\"dataframe\">\n  <thead>\n    <tr style=\"text-align: right;\">\n      <th></th>\n      <th>Air temperature [K]</th>\n      <th>Process temperature [K]</th>\n      <th>Rotational speed [rpm]</th>\n      <th>Torque [Nm]</th>\n      <th>Tool wear [min]</th>\n      <th>Target</th>\n    </tr>\n  </thead>\n  <tbody>\n    <tr>\n      <th>count</th>\n      <td>10000.000000</td>\n      <td>10000.000000</td>\n      <td>10000.000000</td>\n      <td>10000.000000</td>\n      <td>10000.000000</td>\n      <td>10000.000000</td>\n    </tr>\n    <tr>\n      <th>mean</th>\n      <td>300.004930</td>\n      <td>310.005560</td>\n      <td>1538.776100</td>\n      <td>39.986910</td>\n      <td>107.951000</td>\n      <td>0.033900</td>\n    </tr>\n    <tr>\n      <th>std</th>\n      <td>2.000259</td>\n      <td>1.483734</td>\n      <td>179.284096</td>\n      <td>9.968934</td>\n      <td>63.654147</td>\n      <td>0.180981</td>\n    </tr>\n    <tr>\n      <th>min</th>\n      <td>295.300000</td>\n      <td>305.700000</td>\n      <td>1168.000000</td>\n      <td>3.800000</td>\n      <td>0.000000</td>\n      <td>0.000000</td>\n    </tr>\n    <tr>\n      <th>25%</th>\n      <td>298.300000</td>\n      <td>308.800000</td>\n      <td>1423.000000</td>\n      <td>33.200000</td>\n      <td>53.000000</td>\n      <td>0.000000</td>\n    </tr>\n    <tr>\n      <th>50%</th>\n      <td>300.100000</td>\n      <td>310.100000</td>\n      <td>1503.000000</td>\n      <td>40.100000</td>\n      <td>108.000000</td>\n      <td>0.000000</td>\n    </tr>\n    <tr>\n      <th>75%</th>\n      <td>301.500000</td>\n      <td>311.100000</td>\n      <td>1612.000000</td>\n      <td>46.800000</td>\n      <td>162.000000</td>\n      <td>0.000000</td>\n    </tr>\n    <tr>\n      <th>max</th>\n      <td>304.500000</td>\n      <td>313.800000</td>\n      <td>2886.000000</td>\n      <td>76.600000</td>\n      <td>253.000000</td>\n      <td>1.000000</td>\n    </tr>\n  </tbody>\n</table>\n</div>"
     },
     "execution_count": 7,
     "metadata": {},
     "output_type": "execute_result"
    }
   ],
   "source": [
    "df.describe()"
   ],
   "metadata": {
    "collapsed": false,
    "ExecuteTime": {
     "end_time": "2023-11-06T21:15:41.523393500Z",
     "start_time": "2023-11-06T21:15:41.491610300Z"
    }
   },
   "id": "1ec3ba37b4c6efbd"
  },
  {
   "cell_type": "code",
   "execution_count": 29,
   "outputs": [
    {
     "data": {
      "text/plain": "Target\n0    9661\n1     339\nName: count, dtype: int64"
     },
     "execution_count": 29,
     "metadata": {},
     "output_type": "execute_result"
    },
    {
     "data": {
      "text/plain": "<Figure size 640x480 with 1 Axes>",
      "image/png": "[encoded data removed]"
     },
     "metadata": {},
     "output_type": "display_data"
    }
   ],
   "source": [
    "sns.countplot(x='Target', data=df)\n",
    "df['Target'].value_counts()"
   ],
   "metadata": {
    "collapsed": false,
    "ExecuteTime": {
     "end_time": "2023-11-06T21:49:10.613778200Z",
     "start_time": "2023-11-06T21:49:10.494341900Z"
    }
   },
   "id": "fac77a28f6eb362d"
  },
  {
   "cell_type": "code",
   "execution_count": 30,
   "outputs": [
    {
     "data": {
      "text/plain": "(array([0, 1, 2, 3, 4]),\n [Text(0, 0, 'Power Failure'),\n  Text(1, 0, 'Tool Wear Failure'),\n  Text(2, 0, 'Overstrain Failure'),\n  Text(3, 0, 'No Failure'),\n  Text(4, 0, 'Heat Dissipation Failure')])"
     },
     "execution_count": 30,
     "metadata": {},
     "output_type": "execute_result"
    },
    {
     "data": {
      "text/plain": "<Figure size 640x480 with 1 Axes>",
      "image/png": "[encoded data removed]"
     },
     "metadata": {},
     "output_type": "display_data"
    }
   ],
   "source": [
    "sns.countplot(x='Failure Type', data=df[df['Target']==1])\n",
    "df['Failure Type'].value_counts()\n",
    "plt.xticks(rotation=45)"
   ],
   "metadata": {
    "collapsed": false,
    "ExecuteTime": {
     "end_time": "2023-11-06T21:49:19.299021600Z",
     "start_time": "2023-11-06T21:49:19.137148400Z"
    }
   },
   "id": "e1fb21534ade5596"
  },
  {
   "cell_type": "code",
   "execution_count": 41,
   "outputs": [],
   "source": [
    "def visualize_df(_df, nb_col=2):\n",
    "    columns = _df.columns\n",
    "    nb_row = math.ceil(len(columns)/nb_col )\n",
    "    print(nb_row)\n",
    "    for i, col in enumerate(columns):\n",
    "        print(f'{i} : {col} : {_df[col].dtype}')"
   ],
   "metadata": {
    "collapsed": false,
    "ExecuteTime": {
     "end_time": "2023-11-06T22:03:18.526673300Z",
     "start_time": "2023-11-06T22:03:18.485766600Z"
    }
   },
   "id": "aef8dc278ed817a5"
  },
  {
   "cell_type": "code",
   "execution_count": 46,
   "outputs": [
    {
     "name": "stdout",
     "output_type": "stream",
     "text": [
      "2\n",
      "0 : Product ID : object\n",
      "1 : Type : object\n",
      "2 : Air temperature [K] : float64\n",
      "3 : Process temperature [K] : float64\n",
      "4 : Rotational speed [rpm] : int64\n",
      "5 : Torque [Nm] : float64\n",
      "6 : Tool wear [min] : int64\n",
      "7 : Target : int64\n",
      "8 : Failure Type : object\n"
     ]
    }
   ],
   "source": [
    "visualize_df(df,5)"
   ],
   "metadata": {
    "collapsed": false,
    "ExecuteTime": {
     "end_time": "2023-11-06T22:03:48.487209600Z",
     "start_time": "2023-11-06T22:03:48.425811200Z"
    }
   },
   "id": "e7311c6c2118bcb9"
  },
  {
   "cell_type": "code",
   "execution_count": null,
   "outputs": [],
   "source": [],
   "metadata": {
    "collapsed": false
   },
   "id": "75d31116d2ea7ea2"
  }
 ],
 "metadata": {
  "kernelspec": {
   "display_name": "Python 3",
   "language": "python",
   "name": "python3"
  },
  "language_info": {
   "codemirror_mode": {
    "name": "ipython",
    "version": 2
   },
   "file_extension": ".py",
   "mimetype": "text/x-python",
   "name": "python",
   "nbconvert_exporter": "python",
   "pygments_lexer": "ipython2",
   "version": "2.7.6"
  }
 },
 "nbformat": 4,
 "nbformat_minor": 5
}
