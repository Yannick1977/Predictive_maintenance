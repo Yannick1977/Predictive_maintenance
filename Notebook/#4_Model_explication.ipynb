{
 "cells": [
  {
   "cell_type": "markdown",
   "metadata": {},
   "source": [
    "### Import"
   ]
  },
  {
   "cell_type": "code",
   "execution_count": 4,
   "id": "initial_id",
   "metadata": {
    "ExecuteTime": {
     "end_time": "2023-11-29T20:58:51.821420700Z",
     "start_time": "2023-11-29T20:58:51.745304200Z"
    },
    "collapsed": true
   },
   "outputs": [],
   "source": [
    "import numpy as np\n",
    "import os\n",
    "import glob\n",
    "import pandas as pd\n",
    "import matplotlib.pyplot as plt\n",
    "import time\n",
    "from tensorflow.python.keras.models import load_model"
   ]
  },
  {
   "cell_type": "code",
   "execution_count": 5,
   "id": "99024232df15b29c",
   "metadata": {
    "ExecuteTime": {
     "end_time": "2023-11-29T20:58:51.821420700Z",
     "start_time": "2023-11-29T20:58:51.758946400Z"
    },
    "collapsed": false
   },
   "outputs": [],
   "source": [
    "DIR_MODEL = '../Model'"
   ]
  },
  {
   "cell_type": "markdown",
   "metadata": {},
   "source": [
    "### Load Model (earlier file)"
   ]
  },
  {
   "cell_type": "code",
   "execution_count": 6,
   "id": "3f8e8384b7d05cd6",
   "metadata": {
    "ExecuteTime": {
     "end_time": "2023-11-29T20:58:51.821420700Z",
     "start_time": "2023-11-29T20:58:51.774070800Z"
    },
    "collapsed": false
   },
   "outputs": [
    {
     "name": "stdout",
     "output_type": "stream",
     "text": [
      "../Model\\best_model.h5\n"
     ]
    }
   ],
   "source": [
    "def latest_file_in_dir(directory):\n",
    "    # Liste tous les fichiers dans le répertoire\n",
    "    files = glob.glob(os.path.join(directory, \"*\"))\n",
    "\n",
    "    # Trouve et retourne le fichier le plus récent\n",
    "    latest_file = max(files, key=os.path.getctime)\n",
    "\n",
    "    return latest_file\n",
    "\n",
    "file = latest_file_in_dir(DIR_MODEL)\n",
    "print(file)"
   ]
  },
  {
   "cell_type": "code",
   "execution_count": 7,
   "id": "f20b26fe03b29138",
   "metadata": {
    "ExecuteTime": {
     "end_time": "2023-11-29T20:58:52.272899Z",
     "start_time": "2023-11-29T20:58:51.789817100Z"
    },
    "collapsed": false
   },
   "outputs": [],
   "source": [
    "# Load model from the disk\n",
    "model = load_model(file)"
   ]
  },
  {
   "cell_type": "code",
   "execution_count": 8,
   "id": "dcba635db2a6b94a",
   "metadata": {
    "ExecuteTime": {
     "end_time": "2023-11-29T20:58:52.288691300Z",
     "start_time": "2023-11-29T20:58:52.279252700Z"
    },
    "collapsed": false
   },
   "outputs": [
    {
     "name": "stdout",
     "output_type": "stream",
     "text": [
      "Model: \"sequential\"\n",
      "_________________________________________________________________\n",
      "Layer (type)                 Output Shape              Param #   \n",
      "=================================================================\n",
      "dense (Dense)                (None, 1024)              11264     \n",
      "_________________________________________________________________\n",
      "dense_1 (Dense)              (None, 512)               524800    \n",
      "_________________________________________________________________\n",
      "dropout (Dropout)            (None, 512)               0         \n",
      "_________________________________________________________________\n",
      "dense_2 (Dense)              (None, 256)               131328    \n",
      "_________________________________________________________________\n",
      "dense_3 (Dense)              (None, 128)               32896     \n",
      "_________________________________________________________________\n",
      "dropout_1 (Dropout)          (None, 128)               0         \n",
      "_________________________________________________________________\n",
      "dense_4 (Dense)              (None, 64)                8256      \n",
      "_________________________________________________________________\n",
      "dense_5 (Dense)              (None, 32)                2080      \n",
      "_________________________________________________________________\n",
      "dropout_2 (Dropout)          (None, 32)                0         \n",
      "_________________________________________________________________\n",
      "dense_6 (Dense)              (None, 5)                 165       \n",
      "=================================================================\n",
      "Total params: 710,789\n",
      "Trainable params: 710,789\n",
      "Non-trainable params: 0\n",
      "_________________________________________________________________\n"
     ]
    }
   ],
   "source": [
    "model.summary()"
   ]
  },
  {
   "cell_type": "markdown",
   "metadata": {},
   "source": [
    "### Prediction"
   ]
  },
  {
   "cell_type": "code",
   "execution_count": 9,
   "id": "2297072e5a471395",
   "metadata": {
    "ExecuteTime": {
     "end_time": "2023-11-29T20:58:52.336195600Z",
     "start_time": "2023-11-29T20:58:52.288691300Z"
    },
    "collapsed": false
   },
   "outputs": [],
   "source": [
    "df = pd.read_csv('../data/predictive_maintenance_preprocess.csv', index_col=0)"
   ]
  },
  {
   "cell_type": "code",
   "execution_count": 10,
   "id": "aa67b5709b9a8dc7",
   "metadata": {
    "ExecuteTime": {
     "end_time": "2023-11-29T20:58:52.368099600Z",
     "start_time": "2023-11-29T20:58:52.336195600Z"
    },
    "collapsed": false
   },
   "outputs": [],
   "source": [
    "name_target_col = list(filter(lambda ligne: 'Target' in ligne, df.columns))"
   ]
  },
  {
   "cell_type": "code",
   "execution_count": 11,
   "id": "9711ffdff7777fc9",
   "metadata": {
    "ExecuteTime": {
     "end_time": "2023-11-29T20:58:52.368099600Z",
     "start_time": "2023-11-29T20:58:52.356338Z"
    },
    "collapsed": false
   },
   "outputs": [],
   "source": [
    "x = df.drop(columns=name_target_col)\n",
    "y = df[name_target_col]"
   ]
  },
  {
   "cell_type": "code",
   "execution_count": 12,
   "id": "f87ce649497358c9",
   "metadata": {
    "ExecuteTime": {
     "end_time": "2023-11-29T20:58:52.408492700Z",
     "start_time": "2023-11-29T20:58:52.368099600Z"
    },
    "collapsed": false
   },
   "outputs": [],
   "source": [
    "y= pd.DataFrame(pd.get_dummies(y[name_target_col[0]].to_numpy()))\n",
    "y.columns=['Target_0', 'Target_1','Target_2', 'Target_3','Target_4']"
   ]
  },
  {
   "cell_type": "code",
   "execution_count": 13,
   "id": "6ff513ad89dc93df",
   "metadata": {
    "ExecuteTime": {
     "end_time": "2023-11-29T20:58:53.401860200Z",
     "start_time": "2023-11-29T20:58:52.384147300Z"
    },
    "collapsed": false
   },
   "outputs": [],
   "source": [
    "y_pred = model.predict(x)\n"
   ]
  },
  {
   "cell_type": "markdown",
   "metadata": {},
   "source": [
    "### Matrice de confusion"
   ]
  },
  {
   "cell_type": "code",
   "execution_count": 14,
   "id": "917661a48ccdc57c",
   "metadata": {
    "ExecuteTime": {
     "end_time": "2023-11-29T20:58:53.560727Z",
     "start_time": "2023-11-29T20:58:53.383524100Z"
    },
    "collapsed": false
   },
   "outputs": [
    {
     "name": "stdout",
     "output_type": "stream",
     "text": [
      "[[ 112    0    0    0    0]\n",
      " [  59 9064   30   86  404]\n",
      " [   0    0   77    0    1]\n",
      " [   0    0    0   95    0]\n",
      " [   0    0    0    0   45]]\n"
     ]
    }
   ],
   "source": [
    "from sklearn.metrics import confusion_matrix\n",
    "cm = confusion_matrix(y_true=np.argmax(y.values, axis=1), y_pred=np.argmax(y_pred, axis=1))\n",
    "print(cm)"
   ]
  },
  {
   "cell_type": "code",
   "execution_count": 16,
   "id": "f8e5a5ef2fcd40c3",
   "metadata": {
    "ExecuteTime": {
     "end_time": "2023-11-29T20:59:11.552288200Z",
     "start_time": "2023-11-29T20:59:11.251582100Z"
    },
    "collapsed": false
   },
   "outputs": [
    {
     "data": {
      "text/plain": [
       "<AxesSubplot: >"
      ]
     },
     "execution_count": 16,
     "metadata": {},
     "output_type": "execute_result"
    },
    {
     "data": {
      "image/png": "[encoded data removed]",
      "text/plain": [
       "<Figure size 640x480 with 2 Axes>"
      ]
     },
     "metadata": {},
     "output_type": "display_data"
    }
   ],
   "source": [
    "import seaborn as sns\n",
    "\n",
    "sns.heatmap(cm, annot=True, cmap=\"Blues\", fmt=\".0f\")"
   ]
  },
  {
   "cell_type": "markdown",
   "metadata": {},
   "source": [
    "### Explicabilité"
   ]
  },
  {
   "cell_type": "code",
   "execution_count": 17,
   "id": "2a62e7c080e23f94",
   "metadata": {
    "ExecuteTime": {
     "end_time": "2023-11-29T21:16:35.886528400Z",
     "start_time": "2023-11-29T21:16:35.091667400Z"
    },
    "collapsed": false
   },
   "outputs": [],
   "source": [
    "import shap"
   ]
  },
  {
   "cell_type": "code",
   "execution_count": 24,
   "id": "71412535ef5b33b3",
   "metadata": {
    "ExecuteTime": {
     "end_time": "2023-11-29T21:38:12.051644100Z",
     "start_time": "2023-11-29T21:25:18.732015800Z"
    },
    "collapsed": false
   },
   "outputs": [
    {
     "name": "stderr",
     "output_type": "stream",
     "text": [
      "ExactExplainer explainer: 101it [12:53,  7.81s/it]                         \n"
     ]
    }
   ],
   "source": [
    "# Fits the explainer\n",
    "explainer = shap.Explainer(model.predict, x.head(100))\n",
    "# Calculates the SHAP values - It takes some time\n",
    "shap_values = explainer(x.head(100))"
   ]
  },
  {
   "cell_type": "code",
   "execution_count": 23,
   "id": "1c4eab8505e07c59",
   "metadata": {
    "ExecuteTime": {
     "end_time": "2023-11-29T21:24:18.427236400Z",
     "start_time": "2023-11-29T21:24:18.411259800Z"
    },
    "collapsed": false
   },
   "outputs": [
    {
     "ename": "ValueError",
     "evalue": "The beeswarm plot does not support plotting explanations with instances that have more than one dimension!",
     "output_type": "error",
     "traceback": [
      "\u001b[1;31m---------------------------------------------------------------------------\u001b[0m",
      "\u001b[1;31mValueError\u001b[0m                                Traceback (most recent call last)",
      "Cell \u001b[1;32mIn[23], line 1\u001b[0m\n\u001b[1;32m----> 1\u001b[0m \u001b[43mshap\u001b[49m\u001b[38;5;241;43m.\u001b[39;49m\u001b[43mplots\u001b[49m\u001b[38;5;241;43m.\u001b[39;49m\u001b[43mbeeswarm\u001b[49m\u001b[43m(\u001b[49m\u001b[43mshap_values\u001b[49m\u001b[43m)\u001b[49m\n",
      "File \u001b[1;32m~\\anaconda3\\envs\\python_3_8\\lib\\site-packages\\shap\\plots\\_beeswarm.py:85\u001b[0m, in \u001b[0;36mbeeswarm\u001b[1;34m(shap_values, max_display, order, clustering, cluster_threshold, color, axis_color, alpha, show, log_scale, color_bar, plot_size, color_bar_label)\u001b[0m\n\u001b[0;32m     80\u001b[0m \u001b[38;5;28;01melif\u001b[39;00m \u001b[38;5;28mlen\u001b[39m(sv_shape) \u001b[38;5;241m>\u001b[39m \u001b[38;5;241m2\u001b[39m:\n\u001b[0;32m     81\u001b[0m     emsg \u001b[38;5;241m=\u001b[39m (\n\u001b[0;32m     82\u001b[0m         \u001b[38;5;124m\"\u001b[39m\u001b[38;5;124mThe beeswarm plot does not support plotting explanations with instances that have more \u001b[39m\u001b[38;5;124m\"\u001b[39m\n\u001b[0;32m     83\u001b[0m         \u001b[38;5;124m\"\u001b[39m\u001b[38;5;124mthan one dimension!\u001b[39m\u001b[38;5;124m\"\u001b[39m\n\u001b[0;32m     84\u001b[0m     )\n\u001b[1;32m---> 85\u001b[0m     \u001b[38;5;28;01mraise\u001b[39;00m \u001b[38;5;167;01mValueError\u001b[39;00m(emsg)\n\u001b[0;32m     87\u001b[0m shap_exp \u001b[38;5;241m=\u001b[39m shap_values\n\u001b[0;32m     88\u001b[0m \u001b[38;5;66;03m# we make a copy here, because later there are places that might modify this array\u001b[39;00m\n",
      "\u001b[1;31mValueError\u001b[0m: The beeswarm plot does not support plotting explanations with instances that have more than one dimension!"
     ]
    }
   ],
   "source": [
    "shap.plots.beeswarm(shap_values)"
   ]
  }
 ],
 "metadata": {
  "kernelspec": {
   "display_name": "Python 3",
   "language": "python",
   "name": "python3"
  },
  "language_info": {
   "codemirror_mode": {
    "name": "ipython",
    "version": 2
   },
   "file_extension": ".py",
   "mimetype": "text/x-python",
   "name": "python",
   "nbconvert_exporter": "python",
   "pygments_lexer": "ipython2",
   "version": "2.7.6"
  }
 },
 "nbformat": 4,
 "nbformat_minor": 5
}
