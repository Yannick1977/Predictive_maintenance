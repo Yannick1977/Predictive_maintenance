{
 "cells": [
  {
   "cell_type": "markdown",
   "source": [
    "voir pour utiliser la fonction make_pipeline\n",
    "https://www.geeksforgeeks.org/make_pipeline-function-in-sklearn/"
   ],
   "metadata": {
    "collapsed": false
   },
   "id": "797c827a2185cfc3"
  },
  {
   "cell_type": "code",
   "execution_count": 1,
   "id": "initial_id",
   "metadata": {
    "collapsed": true,
    "ExecuteTime": {
     "end_time": "2023-11-17T17:22:12.982546300Z",
     "start_time": "2023-11-17T17:22:12.969218700Z"
    }
   },
   "outputs": [],
   "source": [
    "import pandas as pd\n",
    "import numpy as np\n",
    "import matplotlib.pyplot as plt"
   ]
  },
  {
   "cell_type": "code",
   "execution_count": 2,
   "outputs": [],
   "source": [
    "df_preprocess = pd.read_csv('../data/predictive_maintenance_preprocess.csv')"
   ],
   "metadata": {
    "collapsed": false,
    "ExecuteTime": {
     "end_time": "2023-11-17T17:22:13.063483200Z",
     "start_time": "2023-11-17T17:22:12.983551Z"
    }
   },
   "id": "8d36cfbdd3bd4132"
  },
  {
   "cell_type": "markdown",
   "source": [
    "Extract the name of variable of 'Target'"
   ],
   "metadata": {
    "collapsed": false
   },
   "id": "f0b0cbe2684dc391"
  },
  {
   "cell_type": "code",
   "execution_count": 3,
   "outputs": [],
   "source": [
    "name_target_col = list(filter(lambda ligne: 'Target' in ligne, df_preprocess.columns))"
   ],
   "metadata": {
    "collapsed": false,
    "ExecuteTime": {
     "end_time": "2023-11-17T17:22:13.064482700Z",
     "start_time": "2023-11-17T17:22:13.031001Z"
    }
   },
   "id": "ae6048fcef101c87"
  },
  {
   "cell_type": "markdown",
   "source": [
    "Separation of explanatory variables and variables to identify"
   ],
   "metadata": {
    "collapsed": false
   },
   "id": "7fcf713be139aec9"
  },
  {
   "cell_type": "code",
   "execution_count": 4,
   "outputs": [],
   "source": [
    "x = df_preprocess.drop(columns=name_target_col)\n",
    "y = df_preprocess[name_target_col]"
   ],
   "metadata": {
    "collapsed": false,
    "ExecuteTime": {
     "end_time": "2023-11-17T17:22:13.065482700Z",
     "start_time": "2023-11-17T17:22:13.046310Z"
    }
   },
   "id": "79b3d41809f7d43f"
  },
  {
   "cell_type": "code",
   "execution_count": 5,
   "outputs": [],
   "source": [
    "from sklearn.model_selection import train_test_split\n",
    "\n",
    "X_train, X_test, y_train, y_test = train_test_split(x, y, test_size=0.2, random_state=1)"
   ],
   "metadata": {
    "collapsed": false,
    "ExecuteTime": {
     "end_time": "2023-11-17T17:22:13.492015200Z",
     "start_time": "2023-11-17T17:22:13.066481Z"
    }
   },
   "id": "4841b0ad54064f56"
  },
  {
   "cell_type": "code",
   "execution_count": 6,
   "outputs": [],
   "source": [
    "num_features = x.shape[1]\n",
    "num_target = y.shape[1]"
   ],
   "metadata": {
    "collapsed": false,
    "ExecuteTime": {
     "end_time": "2023-11-17T17:22:13.513280Z",
     "start_time": "2023-11-17T17:22:13.493015200Z"
    }
   },
   "id": "2c57836bbfc832e6"
  },
  {
   "cell_type": "code",
   "execution_count": 8,
   "outputs": [],
   "source": [
    "from tensorflow.python.keras.layers import Dense, Dropout\n",
    "from tensorflow.python.keras import Sequential, Input\n",
    "from tensorflow.python.keras.losses import CategoricalCrossentropy\n",
    "from tensorflow.python.keras.optimizer_v2.adam import Adam\n"
   ],
   "metadata": {
    "collapsed": false,
    "ExecuteTime": {
     "end_time": "2023-11-17T17:22:33.806483200Z",
     "start_time": "2023-11-17T17:22:33.798886Z"
    }
   },
   "id": "e89ebb3f357b01ce"
  },
  {
   "cell_type": "code",
   "execution_count": 41,
   "outputs": [],
   "source": [
    "\n",
    "\n",
    "from tensorflow.python import keras\n",
    "\n",
    "keras.backend.clear_session()"
   ],
   "metadata": {
    "collapsed": false,
    "ExecuteTime": {
     "end_time": "2023-11-17T18:08:10.250926500Z",
     "start_time": "2023-11-17T18:08:10.229271900Z"
    }
   },
   "id": "75b82786074c0065"
  },
  {
   "cell_type": "code",
   "execution_count": 42,
   "outputs": [
    {
     "name": "stdout",
     "output_type": "stream",
     "text": [
      "WARNING:tensorflow:Please add `keras.layers.InputLayer` instead of `keras.Input` to Sequential model. `keras.Input` is intended to be used by Functional model.\n"
     ]
    }
   ],
   "source": [
    "from tensorflow.python.keras.regularizers import l2, l1\n",
    "from tensorflow.python.keras.metrics import Accuracy, SparseCategoricalAccuracy, CategoricalAccuracy, AUC, \\\n",
    "    PrecisionAtRecall\n",
    "\n",
    "EPOCH=20\n",
    "\n",
    "model = Sequential()\n",
    "model.add(Input(num_features))\n",
    "model.add(Dense(units=1024, activation='relu', kernel_regularizer=l1()))\n",
    "model.add(Dense(units=512, activation='relu'))\n",
    "model.add(Dense(units=256, activation='relu'))\n",
    "model.add(Dense(units=128, activation='relu'))\n",
    "model.add(Dense(units=64, activation='relu'))\n",
    "model.add(Dense(units=32, activation='relu'))\n",
    "model.add(Dropout(0.2))\n",
    "model.add(Dense(units=num_target, activation='softmax'))\n",
    "\n",
    "#model.compile(loss=CategoricalCrossentropy(), optimizer=Adam(learning_rate=0.001), metrics=[\"accuracy\"])\n",
    "model.compile(loss=CategoricalCrossentropy(),optimizer=Adam(5e-4), metrics=[PrecisionAtRecall(recall=0.8)])"
   ],
   "metadata": {
    "collapsed": false,
    "ExecuteTime": {
     "end_time": "2023-11-17T18:08:12.082178100Z",
     "start_time": "2023-11-17T18:08:11.928433300Z"
    }
   },
   "id": "f67e5a5044af896a"
  },
  {
   "cell_type": "code",
   "execution_count": 33,
   "outputs": [
    {
     "name": "stdout",
     "output_type": "stream",
     "text": [
      "Model: \"sequential\"\n",
      "_________________________________________________________________\n",
      "Layer (type)                 Output Shape              Param #   \n",
      "=================================================================\n",
      "dense (Dense)                (None, 1024)              12288     \n",
      "_________________________________________________________________\n",
      "dense_1 (Dense)              (None, 512)               524800    \n",
      "_________________________________________________________________\n",
      "dense_2 (Dense)              (None, 256)               131328    \n",
      "_________________________________________________________________\n",
      "dense_3 (Dense)              (None, 128)               32896     \n",
      "_________________________________________________________________\n",
      "dense_4 (Dense)              (None, 64)                8256      \n",
      "_________________________________________________________________\n",
      "dense_5 (Dense)              (None, 32)                2080      \n",
      "_________________________________________________________________\n",
      "dropout (Dropout)            (None, 32)                0         \n",
      "_________________________________________________________________\n",
      "dense_6 (Dense)              (None, 2)                 66        \n",
      "=================================================================\n",
      "Total params: 711,714\n",
      "Trainable params: 711,714\n",
      "Non-trainable params: 0\n",
      "_________________________________________________________________\n"
     ]
    }
   ],
   "source": [
    "model.summary()"
   ],
   "metadata": {
    "collapsed": false,
    "ExecuteTime": {
     "end_time": "2023-11-17T18:01:07.457133500Z",
     "start_time": "2023-11-17T18:01:07.437001100Z"
    }
   },
   "id": "e915b76daf73a05f"
  },
  {
   "cell_type": "code",
   "execution_count": 43,
   "outputs": [
    {
     "name": "stdout",
     "output_type": "stream",
     "text": [
      "Epoch 1/20\n",
      "250/250 [==============================] - 3s 8ms/step - loss: 3.2576 - precision_at_recall: 0.9432 - val_loss: 0.4183 - val_precision_at_recall: 0.9686\n",
      "Epoch 2/20\n",
      "250/250 [==============================] - 1s 6ms/step - loss: 0.7656 - precision_at_recall: 0.9583 - val_loss: 1.4886 - val_precision_at_recall: 0.9686\n",
      "Epoch 3/20\n",
      "250/250 [==============================] - 2s 6ms/step - loss: 0.4847 - precision_at_recall: 0.9634 - val_loss: 0.3990 - val_precision_at_recall: 0.9685\n",
      "Epoch 4/20\n",
      "250/250 [==============================] - 2s 7ms/step - loss: 0.4087 - precision_at_recall: 0.9660 - val_loss: 0.3895 - val_precision_at_recall: 0.9685\n",
      "Epoch 5/20\n",
      "250/250 [==============================] - 2s 8ms/step - loss: 0.4084 - precision_at_recall: 0.9657 - val_loss: 0.3849 - val_precision_at_recall: 0.9685\n",
      "Epoch 6/20\n",
      "250/250 [==============================] - 2s 8ms/step - loss: 0.3724 - precision_at_recall: 0.9658 - val_loss: 0.3495 - val_precision_at_recall: 0.9686\n",
      "Epoch 7/20\n",
      "250/250 [==============================] - 2s 9ms/step - loss: 0.3637 - precision_at_recall: 0.9655 - val_loss: 0.3374 - val_precision_at_recall: 0.9687\n",
      "Epoch 8/20\n",
      "250/250 [==============================] - 2s 7ms/step - loss: 0.3519 - precision_at_recall: 0.9663 - val_loss: 0.3289 - val_precision_at_recall: 0.9685\n",
      "Epoch 9/20\n",
      "250/250 [==============================] - 2s 8ms/step - loss: 0.3364 - precision_at_recall: 0.9655 - val_loss: 0.3154 - val_precision_at_recall: 0.9685\n",
      "Epoch 10/20\n",
      "250/250 [==============================] - 2s 8ms/step - loss: 0.3231 - precision_at_recall: 0.9656 - val_loss: 0.3038 - val_precision_at_recall: 0.9685\n",
      "Epoch 11/20\n",
      "250/250 [==============================] - 2s 8ms/step - loss: 0.3072 - precision_at_recall: 0.9657 - val_loss: 0.2916 - val_precision_at_recall: 0.9686\n",
      "Epoch 12/20\n",
      "250/250 [==============================] - 2s 8ms/step - loss: 0.3097 - precision_at_recall: 0.9655 - val_loss: 0.2867 - val_precision_at_recall: 0.9685\n",
      "Epoch 13/20\n",
      "250/250 [==============================] - 2s 8ms/step - loss: 0.2895 - precision_at_recall: 0.9655 - val_loss: 0.2723 - val_precision_at_recall: 0.9685\n",
      "Epoch 14/20\n",
      "250/250 [==============================] - 2s 8ms/step - loss: 0.2776 - precision_at_recall: 0.9656 - val_loss: 0.2621 - val_precision_at_recall: 0.9685\n",
      "Epoch 15/20\n",
      "250/250 [==============================] - 2s 9ms/step - loss: 0.2683 - precision_at_recall: 0.9659 - val_loss: 0.2511 - val_precision_at_recall: 0.9687\n",
      "Epoch 16/20\n",
      "250/250 [==============================] - 2s 8ms/step - loss: 0.2827 - precision_at_recall: 0.9658 - val_loss: 0.2533 - val_precision_at_recall: 0.9686\n",
      "Epoch 17/20\n",
      "250/250 [==============================] - 2s 8ms/step - loss: 0.2642 - precision_at_recall: 0.9658 - val_loss: 0.2373 - val_precision_at_recall: 0.9685\n",
      "Epoch 18/20\n",
      "250/250 [==============================] - 2s 8ms/step - loss: 0.2381 - precision_at_recall: 0.9655 - val_loss: 0.2220 - val_precision_at_recall: 0.9685\n",
      "Epoch 19/20\n",
      "250/250 [==============================] - 2s 8ms/step - loss: 0.2503 - precision_at_recall: 0.9657 - val_loss: 0.2655 - val_precision_at_recall: 0.9685\n",
      "Epoch 20/20\n",
      "250/250 [==============================] - 2s 8ms/step - loss: 0.2653 - precision_at_recall: 0.9655 - val_loss: 0.2407 - val_precision_at_recall: 0.9685\n"
     ]
    }
   ],
   "source": [
    "history=model.fit(X_train,y_train,validation_data=(X_test,y_test),epochs=EPOCH)"
   ],
   "metadata": {
    "collapsed": false,
    "ExecuteTime": {
     "end_time": "2023-11-17T18:08:57.174036700Z",
     "start_time": "2023-11-17T18:08:17.300140100Z"
    }
   },
   "id": "6b8675dcc885185e"
  },
  {
   "cell_type": "markdown",
   "source": [],
   "metadata": {
    "collapsed": false
   },
   "id": "60fa8c1f095ca695"
  },
  {
   "cell_type": "code",
   "execution_count": 35,
   "outputs": [
    {
     "data": {
      "text/plain": "<Figure size 640x480 with 1 Axes>",
      "image/png": "[encoded data removed]"
     },
     "metadata": {},
     "output_type": "display_data"
    }
   ],
   "source": [
    "plt.plot(np.arange(EPOCH), history.history['loss'], label='train loss')\n",
    "plt.plot(np.arange(EPOCH), history.history['val_loss'], label='test loss')\n",
    "plt.xlabel('Epochs')\n",
    "plt.ylabel('Mean Square Error')\n",
    "plt.legend()\n",
    "plt.show()"
   ],
   "metadata": {
    "collapsed": false,
    "ExecuteTime": {
     "end_time": "2023-11-17T18:01:54.714284900Z",
     "start_time": "2023-11-17T18:01:54.526923600Z"
    }
   },
   "id": "109994659fcfeaef"
  },
  {
   "cell_type": "code",
   "execution_count": 36,
   "outputs": [
    {
     "data": {
      "text/plain": "<Figure size 640x480 with 1 Axes>",
      "image/png": "[encoded data removed]"
     },
     "metadata": {},
     "output_type": "display_data"
    }
   ],
   "source": [
    "plt.plot(np.arange(EPOCH), history.history['precision_at_recall'], label='train loss')\n",
    "plt.plot(np.arange(EPOCH), history.history['val_precision_at_recall'], label='test loss')\n",
    "plt.xlabel('Epochs')\n",
    "plt.ylabel('Accuracy')\n",
    "plt.legend()\n",
    "plt.show()"
   ],
   "metadata": {
    "collapsed": false,
    "ExecuteTime": {
     "end_time": "2023-11-17T18:01:58.602745100Z",
     "start_time": "2023-11-17T18:01:58.411114200Z"
    }
   },
   "id": "9f25a427862c7162"
  }
 ],
 "metadata": {
  "kernelspec": {
   "display_name": "Python 3",
   "language": "python",
   "name": "python3"
  },
  "language_info": {
   "codemirror_mode": {
    "name": "ipython",
    "version": 2
   },
   "file_extension": ".py",
   "mimetype": "text/x-python",
   "name": "python",
   "nbconvert_exporter": "python",
   "pygments_lexer": "ipython2",
   "version": "2.7.6"
  }
 },
 "nbformat": 4,
 "nbformat_minor": 5
}
